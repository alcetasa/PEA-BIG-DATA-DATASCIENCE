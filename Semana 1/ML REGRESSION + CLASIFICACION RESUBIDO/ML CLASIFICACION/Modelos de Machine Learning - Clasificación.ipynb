{
 "cells": [
  {
   "cell_type": "markdown",
   "metadata": {},
   "source": [
    "# Modelos de Machine Learning - Clasificación "
   ]
  },
  {
   "cell_type": "markdown",
   "metadata": {},
   "source": [
    "## Entender el caso de Negocio"
   ]
  },
  {
   "cell_type": "markdown",
   "metadata": {},
   "source": [
    "Se desea saber que tan probable es que los clientes de una entidad financiera dejen de usar sus productos o servicios (attrition). Para esto se tiene un Dataset con información relacionada al comportamiento de los clientes teniendo en cuenta un mes de referencia y un indicador de attrition.\n",
    "\n",
    "El campo attrition se categoriza en:\n",
    "\n",
    "Attrition (1)\n",
    "\n",
    "No es attrition (0)\n",
    "\n",
    "Para generar tus soluciones tendrás que poner en práctica tus conocimientos en desarrollo de modelos predictivos"
   ]
  },
  {
   "cell_type": "code",
   "execution_count": 175,
   "metadata": {},
   "outputs": [
    {
     "name": "stdout",
     "output_type": "stream",
     "text": [
      "Requirement already satisfied: xgboost in c:\\programdata\\anaconda3\\lib\\site-packages (2.0.3)\n",
      "Requirement already satisfied: numpy in c:\\programdata\\anaconda3\\lib\\site-packages (from xgboost) (1.24.3)\n",
      "Requirement already satisfied: scipy in c:\\programdata\\anaconda3\\lib\\site-packages (from xgboost) (1.11.1)\n",
      "Requirement already satisfied: lightgbm in c:\\programdata\\anaconda3\\lib\\site-packages (4.2.0)\n",
      "Requirement already satisfied: numpy in c:\\programdata\\anaconda3\\lib\\site-packages (from lightgbm) (1.24.3)\n",
      "Requirement already satisfied: scipy in c:\\programdata\\anaconda3\\lib\\site-packages (from lightgbm) (1.11.1)\n",
      "Requirement already satisfied: catboost in c:\\programdata\\anaconda3\\lib\\site-packages (1.2.2)\n",
      "Requirement already satisfied: graphviz in c:\\programdata\\anaconda3\\lib\\site-packages (from catboost) (0.20.1)\n",
      "Requirement already satisfied: matplotlib in c:\\programdata\\anaconda3\\lib\\site-packages (from catboost) (3.7.2)\n",
      "Requirement already satisfied: numpy>=1.16.0 in c:\\programdata\\anaconda3\\lib\\site-packages (from catboost) (1.24.3)\n",
      "Requirement already satisfied: pandas>=0.24 in c:\\programdata\\anaconda3\\lib\\site-packages (from catboost) (2.0.3)\n",
      "Requirement already satisfied: scipy in c:\\programdata\\anaconda3\\lib\\site-packages (from catboost) (1.11.1)\n",
      "Requirement already satisfied: plotly in c:\\programdata\\anaconda3\\lib\\site-packages (from catboost) (5.9.0)\n",
      "Requirement already satisfied: six in c:\\programdata\\anaconda3\\lib\\site-packages (from catboost) (1.16.0)\n",
      "Requirement already satisfied: python-dateutil>=2.8.2 in c:\\programdata\\anaconda3\\lib\\site-packages (from pandas>=0.24->catboost) (2.8.2)\n",
      "Requirement already satisfied: pytz>=2020.1 in c:\\programdata\\anaconda3\\lib\\site-packages (from pandas>=0.24->catboost) (2023.3.post1)\n",
      "Requirement already satisfied: tzdata>=2022.1 in c:\\programdata\\anaconda3\\lib\\site-packages (from pandas>=0.24->catboost) (2023.3)\n",
      "Requirement already satisfied: contourpy>=1.0.1 in c:\\programdata\\anaconda3\\lib\\site-packages (from matplotlib->catboost) (1.0.5)\n",
      "Requirement already satisfied: cycler>=0.10 in c:\\programdata\\anaconda3\\lib\\site-packages (from matplotlib->catboost) (0.11.0)\n",
      "Requirement already satisfied: fonttools>=4.22.0 in c:\\programdata\\anaconda3\\lib\\site-packages (from matplotlib->catboost) (4.25.0)\n",
      "Requirement already satisfied: kiwisolver>=1.0.1 in c:\\programdata\\anaconda3\\lib\\site-packages (from matplotlib->catboost) (1.4.4)\n",
      "Requirement already satisfied: packaging>=20.0 in c:\\programdata\\anaconda3\\lib\\site-packages (from matplotlib->catboost) (23.1)\n",
      "Requirement already satisfied: pillow>=6.2.0 in c:\\programdata\\anaconda3\\lib\\site-packages (from matplotlib->catboost) (10.0.1)\n",
      "Requirement already satisfied: pyparsing<3.1,>=2.3.1 in c:\\programdata\\anaconda3\\lib\\site-packages (from matplotlib->catboost) (3.0.9)\n",
      "Requirement already satisfied: tenacity>=6.2.0 in c:\\programdata\\anaconda3\\lib\\site-packages (from plotly->catboost) (8.2.2)\n"
     ]
    }
   ],
   "source": [
    "!pip install xgboost\n",
    "!pip install lightgbm\n",
    "!pip install catboost"
   ]
  },
  {
   "cell_type": "markdown",
   "metadata": {},
   "source": [
    "## Librerías"
   ]
  },
  {
   "cell_type": "code",
   "execution_count": 176,
   "metadata": {},
   "outputs": [],
   "source": [
    "# Import necessary libs\n",
    "\n",
    "import os\n",
    "import random as rnd\n",
    "import pandas as pd\n",
    "import numpy as np\n",
    "import itertools\n",
    "import gc\n",
    "import networkx as nx\n",
    "from sklearn import metrics\n",
    "import warnings\n",
    "from sklearn import preprocessing\n",
    "warnings.filterwarnings('ignore')\n",
    "\n",
    "## Modelos de Machine Learning\n",
    "from catboost import CatBoostClassifier\n",
    "from xgboost import XGBClassifier\n",
    "from lightgbm import LGBMClassifier\n",
    "from sklearn import preprocessing\n",
    "from sklearn.model_selection import StratifiedShuffleSplit\n",
    "from sklearn.model_selection import KFold\n",
    "from sklearn.model_selection import StratifiedKFold\n",
    "from sklearn.ensemble import RandomForestClassifier\n",
    "from sklearn.linear_model import LogisticRegression\n",
    "from sklearn.tree import DecisionTreeClassifier\n",
    "from sklearn.neighbors import KNeighborsClassifier\n",
    "from sklearn.ensemble import RandomForestClassifier,GradientBoostingClassifier\n",
    "from sklearn import tree\n",
    "\n",
    "## Métricas de los modelos\n",
    "from sklearn.metrics import confusion_matrix\n",
    "from sklearn.metrics import auc\n",
    "from sklearn.metrics import accuracy_score\n",
    "from sklearn.metrics import precision_score\n",
    "from sklearn.metrics import recall_score\n",
    "from sklearn.metrics import roc_auc_score\n",
    "\n",
    "## Selección de Variables\n",
    "from sklearn.feature_selection import SelectKBest\n",
    "from sklearn.feature_selection import chi2\n",
    "from sklearn.feature_selection import RFE\n",
    "from sklearn.feature_selection import SelectFromModel\n",
    "from sklearn.model_selection import train_test_split\n",
    "\n",
    "## Validación Cruzada\n",
    "from sklearn.model_selection import RandomizedSearchCV\n",
    "from sklearn.model_selection import GridSearchCV\n",
    "\n",
    "# visualization\n",
    "import seaborn as sns\n",
    "import matplotlib.pyplot as plt\n",
    "\n",
    "# Common seed value to be used whenever required\n",
    "seed = 16\n",
    "np.random.seed(seed)"
   ]
  },
  {
   "cell_type": "code",
   "execution_count": 177,
   "metadata": {},
   "outputs": [],
   "source": [
    "pd.options.display.max_columns = 300\n",
    "pd.options.display.max_rows = 300"
   ]
  },
  {
   "cell_type": "markdown",
   "metadata": {},
   "source": [
    "### Leer los data set del caso de Negocio"
   ]
  },
  {
   "cell_type": "code",
   "execution_count": 178,
   "metadata": {},
   "outputs": [
    {
     "data": {
      "text/html": [
       "<div>\n",
       "<style scoped>\n",
       "    .dataframe tbody tr th:only-of-type {\n",
       "        vertical-align: middle;\n",
       "    }\n",
       "\n",
       "    .dataframe tbody tr th {\n",
       "        vertical-align: top;\n",
       "    }\n",
       "\n",
       "    .dataframe thead th {\n",
       "        text-align: right;\n",
       "    }\n",
       "</style>\n",
       "<table border=\"1\" class=\"dataframe\">\n",
       "  <thead>\n",
       "    <tr style=\"text-align: right;\">\n",
       "      <th></th>\n",
       "      <th>ID_CORRELATIVO</th>\n",
       "      <th>CODMES</th>\n",
       "      <th>FLG_BANCARIZADO</th>\n",
       "      <th>RANG_INGRESO</th>\n",
       "      <th>FLAG_LIMA_PROVINCIA</th>\n",
       "      <th>EDAD</th>\n",
       "      <th>ANTIGUEDAD</th>\n",
       "      <th>ATTRITION</th>\n",
       "      <th>RANG_SDO_PASIVO_MENOS0</th>\n",
       "      <th>SDO_ACTIVO_MENOS0</th>\n",
       "      <th>SDO_ACTIVO_MENOS1</th>\n",
       "      <th>SDO_ACTIVO_MENOS2</th>\n",
       "      <th>SDO_ACTIVO_MENOS3</th>\n",
       "      <th>SDO_ACTIVO_MENOS4</th>\n",
       "      <th>SDO_ACTIVO_MENOS5</th>\n",
       "      <th>FLG_SEGURO_MENOS0</th>\n",
       "      <th>FLG_SEGURO_MENOS1</th>\n",
       "      <th>FLG_SEGURO_MENOS2</th>\n",
       "      <th>FLG_SEGURO_MENOS3</th>\n",
       "      <th>FLG_SEGURO_MENOS4</th>\n",
       "      <th>FLG_SEGURO_MENOS5</th>\n",
       "      <th>RANG_NRO_PRODUCTOS_MENOS0</th>\n",
       "      <th>FLG_NOMINA</th>\n",
       "      <th>NRO_ACCES_CANAL1_MENOS0</th>\n",
       "      <th>NRO_ACCES_CANAL1_MENOS1</th>\n",
       "      <th>NRO_ACCES_CANAL1_MENOS2</th>\n",
       "      <th>NRO_ACCES_CANAL1_MENOS3</th>\n",
       "      <th>NRO_ACCES_CANAL1_MENOS4</th>\n",
       "      <th>NRO_ACCES_CANAL1_MENOS5</th>\n",
       "      <th>NRO_ACCES_CANAL2_MENOS0</th>\n",
       "      <th>NRO_ACCES_CANAL2_MENOS1</th>\n",
       "      <th>NRO_ACCES_CANAL2_MENOS2</th>\n",
       "      <th>NRO_ACCES_CANAL2_MENOS3</th>\n",
       "      <th>NRO_ACCES_CANAL2_MENOS4</th>\n",
       "      <th>NRO_ACCES_CANAL2_MENOS5</th>\n",
       "      <th>NRO_ACCES_CANAL3_MENOS0</th>\n",
       "      <th>NRO_ACCES_CANAL3_MENOS1</th>\n",
       "      <th>NRO_ACCES_CANAL3_MENOS2</th>\n",
       "      <th>NRO_ACCES_CANAL3_MENOS3</th>\n",
       "      <th>NRO_ACCES_CANAL3_MENOS4</th>\n",
       "      <th>NRO_ACCES_CANAL3_MENOS5</th>\n",
       "      <th>NRO_ENTID_SSFF_MENOS0</th>\n",
       "      <th>NRO_ENTID_SSFF_MENOS1</th>\n",
       "      <th>NRO_ENTID_SSFF_MENOS2</th>\n",
       "      <th>NRO_ENTID_SSFF_MENOS3</th>\n",
       "      <th>NRO_ENTID_SSFF_MENOS4</th>\n",
       "      <th>NRO_ENTID_SSFF_MENOS5</th>\n",
       "      <th>FLG_SDO_OTSSFF_MENOS0</th>\n",
       "      <th>FLG_SDO_OTSSFF_MENOS1</th>\n",
       "      <th>FLG_SDO_OTSSFF_MENOS2</th>\n",
       "      <th>FLG_SDO_OTSSFF_MENOS3</th>\n",
       "      <th>FLG_SDO_OTSSFF_MENOS4</th>\n",
       "      <th>FLG_SDO_OTSSFF_MENOS5</th>\n",
       "    </tr>\n",
       "  </thead>\n",
       "  <tbody>\n",
       "    <tr>\n",
       "      <th>50778</th>\n",
       "      <td>0000001</td>\n",
       "      <td>201208</td>\n",
       "      <td>1</td>\n",
       "      <td>Rang_ingreso_02</td>\n",
       "      <td>Lima</td>\n",
       "      <td>NaN</td>\n",
       "      <td>0.0</td>\n",
       "      <td>1</td>\n",
       "      <td>Rango_SDO_01</td>\n",
       "      <td>0</td>\n",
       "      <td>0</td>\n",
       "      <td>0</td>\n",
       "      <td>0</td>\n",
       "      <td>0</td>\n",
       "      <td>0</td>\n",
       "      <td>0</td>\n",
       "      <td>0</td>\n",
       "      <td>0</td>\n",
       "      <td>0</td>\n",
       "      <td>0</td>\n",
       "      <td>0</td>\n",
       "      <td>Rango_02</td>\n",
       "      <td>1</td>\n",
       "      <td>1</td>\n",
       "      <td>0</td>\n",
       "      <td>0</td>\n",
       "      <td>0</td>\n",
       "      <td>0</td>\n",
       "      <td>0</td>\n",
       "      <td>0</td>\n",
       "      <td>0</td>\n",
       "      <td>0</td>\n",
       "      <td>0</td>\n",
       "      <td>0</td>\n",
       "      <td>0</td>\n",
       "      <td>9</td>\n",
       "      <td>27</td>\n",
       "      <td>16</td>\n",
       "      <td>26</td>\n",
       "      <td>5</td>\n",
       "      <td>0</td>\n",
       "      <td>0</td>\n",
       "      <td>0</td>\n",
       "      <td>0</td>\n",
       "      <td>0</td>\n",
       "      <td>0</td>\n",
       "      <td>0</td>\n",
       "      <td>0</td>\n",
       "      <td>0</td>\n",
       "      <td>0</td>\n",
       "      <td>0</td>\n",
       "      <td>0</td>\n",
       "      <td>0</td>\n",
       "    </tr>\n",
       "    <tr>\n",
       "      <th>68257</th>\n",
       "      <td>0000002</td>\n",
       "      <td>201208</td>\n",
       "      <td>1</td>\n",
       "      <td>Rang_ingreso_01</td>\n",
       "      <td>Provincia</td>\n",
       "      <td>27.0</td>\n",
       "      <td>1.0</td>\n",
       "      <td>0</td>\n",
       "      <td>Rango_SDO_01</td>\n",
       "      <td>0</td>\n",
       "      <td>0</td>\n",
       "      <td>0</td>\n",
       "      <td>0</td>\n",
       "      <td>0</td>\n",
       "      <td>0</td>\n",
       "      <td>1</td>\n",
       "      <td>1</td>\n",
       "      <td>1</td>\n",
       "      <td>1</td>\n",
       "      <td>1</td>\n",
       "      <td>1</td>\n",
       "      <td>Rango_03</td>\n",
       "      <td>0</td>\n",
       "      <td>0</td>\n",
       "      <td>0</td>\n",
       "      <td>0</td>\n",
       "      <td>0</td>\n",
       "      <td>2</td>\n",
       "      <td>1</td>\n",
       "      <td>1</td>\n",
       "      <td>4</td>\n",
       "      <td>3</td>\n",
       "      <td>9</td>\n",
       "      <td>5</td>\n",
       "      <td>0</td>\n",
       "      <td>1</td>\n",
       "      <td>0</td>\n",
       "      <td>0</td>\n",
       "      <td>0</td>\n",
       "      <td>4</td>\n",
       "      <td>0</td>\n",
       "      <td>4</td>\n",
       "      <td>4</td>\n",
       "      <td>4</td>\n",
       "      <td>4</td>\n",
       "      <td>4</td>\n",
       "      <td>4</td>\n",
       "      <td>1</td>\n",
       "      <td>1</td>\n",
       "      <td>1</td>\n",
       "      <td>1</td>\n",
       "      <td>1</td>\n",
       "      <td>1</td>\n",
       "    </tr>\n",
       "    <tr>\n",
       "      <th>53623</th>\n",
       "      <td>0000003</td>\n",
       "      <td>201208</td>\n",
       "      <td>0</td>\n",
       "      <td>Rang_ingreso_01</td>\n",
       "      <td>Provincia</td>\n",
       "      <td>34.0</td>\n",
       "      <td>0.0</td>\n",
       "      <td>1</td>\n",
       "      <td>Rango_SDO_01</td>\n",
       "      <td>0</td>\n",
       "      <td>0</td>\n",
       "      <td>0</td>\n",
       "      <td>0</td>\n",
       "      <td>0</td>\n",
       "      <td>0</td>\n",
       "      <td>0</td>\n",
       "      <td>0</td>\n",
       "      <td>0</td>\n",
       "      <td>0</td>\n",
       "      <td>0</td>\n",
       "      <td>0</td>\n",
       "      <td>Rango_02</td>\n",
       "      <td>1</td>\n",
       "      <td>0</td>\n",
       "      <td>0</td>\n",
       "      <td>0</td>\n",
       "      <td>0</td>\n",
       "      <td>0</td>\n",
       "      <td>0</td>\n",
       "      <td>0</td>\n",
       "      <td>0</td>\n",
       "      <td>0</td>\n",
       "      <td>0</td>\n",
       "      <td>0</td>\n",
       "      <td>0</td>\n",
       "      <td>3</td>\n",
       "      <td>0</td>\n",
       "      <td>0</td>\n",
       "      <td>0</td>\n",
       "      <td>1</td>\n",
       "      <td>0</td>\n",
       "      <td>0</td>\n",
       "      <td>0</td>\n",
       "      <td>0</td>\n",
       "      <td>0</td>\n",
       "      <td>0</td>\n",
       "      <td>0</td>\n",
       "      <td>0</td>\n",
       "      <td>0</td>\n",
       "      <td>0</td>\n",
       "      <td>0</td>\n",
       "      <td>0</td>\n",
       "      <td>0</td>\n",
       "    </tr>\n",
       "    <tr>\n",
       "      <th>45001</th>\n",
       "      <td>0000004</td>\n",
       "      <td>201208</td>\n",
       "      <td>1</td>\n",
       "      <td>Rang_ingreso_06</td>\n",
       "      <td>Lima</td>\n",
       "      <td>25.0</td>\n",
       "      <td>3.0</td>\n",
       "      <td>0</td>\n",
       "      <td>Rango_SDO_02</td>\n",
       "      <td>0</td>\n",
       "      <td>0</td>\n",
       "      <td>0</td>\n",
       "      <td>0</td>\n",
       "      <td>0</td>\n",
       "      <td>0</td>\n",
       "      <td>1</td>\n",
       "      <td>1</td>\n",
       "      <td>0</td>\n",
       "      <td>0</td>\n",
       "      <td>0</td>\n",
       "      <td>0</td>\n",
       "      <td>Rango_04</td>\n",
       "      <td>1</td>\n",
       "      <td>6</td>\n",
       "      <td>4</td>\n",
       "      <td>1</td>\n",
       "      <td>4</td>\n",
       "      <td>2</td>\n",
       "      <td>1</td>\n",
       "      <td>24</td>\n",
       "      <td>23</td>\n",
       "      <td>17</td>\n",
       "      <td>24</td>\n",
       "      <td>19</td>\n",
       "      <td>16</td>\n",
       "      <td>15</td>\n",
       "      <td>22</td>\n",
       "      <td>25</td>\n",
       "      <td>25</td>\n",
       "      <td>24</td>\n",
       "      <td>17</td>\n",
       "      <td>1</td>\n",
       "      <td>1</td>\n",
       "      <td>0</td>\n",
       "      <td>0</td>\n",
       "      <td>0</td>\n",
       "      <td>0</td>\n",
       "      <td>0</td>\n",
       "      <td>0</td>\n",
       "      <td>0</td>\n",
       "      <td>0</td>\n",
       "      <td>0</td>\n",
       "      <td>0</td>\n",
       "    </tr>\n",
       "    <tr>\n",
       "      <th>53741</th>\n",
       "      <td>0000005</td>\n",
       "      <td>201208</td>\n",
       "      <td>0</td>\n",
       "      <td>Rang_ingreso_01</td>\n",
       "      <td>NaN</td>\n",
       "      <td>NaN</td>\n",
       "      <td>0.0</td>\n",
       "      <td>0</td>\n",
       "      <td>Rango_SDO_02</td>\n",
       "      <td>0</td>\n",
       "      <td>0</td>\n",
       "      <td>0</td>\n",
       "      <td>0</td>\n",
       "      <td>0</td>\n",
       "      <td>0</td>\n",
       "      <td>0</td>\n",
       "      <td>0</td>\n",
       "      <td>0</td>\n",
       "      <td>0</td>\n",
       "      <td>0</td>\n",
       "      <td>0</td>\n",
       "      <td>Rango_02</td>\n",
       "      <td>1</td>\n",
       "      <td>0</td>\n",
       "      <td>0</td>\n",
       "      <td>0</td>\n",
       "      <td>0</td>\n",
       "      <td>0</td>\n",
       "      <td>0</td>\n",
       "      <td>0</td>\n",
       "      <td>0</td>\n",
       "      <td>0</td>\n",
       "      <td>0</td>\n",
       "      <td>0</td>\n",
       "      <td>0</td>\n",
       "      <td>15</td>\n",
       "      <td>24</td>\n",
       "      <td>0</td>\n",
       "      <td>0</td>\n",
       "      <td>0</td>\n",
       "      <td>0</td>\n",
       "      <td>0</td>\n",
       "      <td>0</td>\n",
       "      <td>0</td>\n",
       "      <td>0</td>\n",
       "      <td>0</td>\n",
       "      <td>0</td>\n",
       "      <td>0</td>\n",
       "      <td>0</td>\n",
       "      <td>0</td>\n",
       "      <td>0</td>\n",
       "      <td>0</td>\n",
       "      <td>0</td>\n",
       "    </tr>\n",
       "  </tbody>\n",
       "</table>\n",
       "</div>"
      ],
      "text/plain": [
       "      ID_CORRELATIVO  CODMES  FLG_BANCARIZADO     RANG_INGRESO  \\\n",
       "50778        0000001  201208                1  Rang_ingreso_02   \n",
       "68257        0000002  201208                1  Rang_ingreso_01   \n",
       "53623        0000003  201208                0  Rang_ingreso_01   \n",
       "45001        0000004  201208                1  Rang_ingreso_06   \n",
       "53741        0000005  201208                0  Rang_ingreso_01   \n",
       "\n",
       "      FLAG_LIMA_PROVINCIA  EDAD  ANTIGUEDAD  ATTRITION RANG_SDO_PASIVO_MENOS0  \\\n",
       "50778                Lima   NaN         0.0          1           Rango_SDO_01   \n",
       "68257           Provincia  27.0         1.0          0           Rango_SDO_01   \n",
       "53623           Provincia  34.0         0.0          1           Rango_SDO_01   \n",
       "45001                Lima  25.0         3.0          0           Rango_SDO_02   \n",
       "53741                 NaN   NaN         0.0          0           Rango_SDO_02   \n",
       "\n",
       "       SDO_ACTIVO_MENOS0  SDO_ACTIVO_MENOS1  SDO_ACTIVO_MENOS2  \\\n",
       "50778                  0                  0                  0   \n",
       "68257                  0                  0                  0   \n",
       "53623                  0                  0                  0   \n",
       "45001                  0                  0                  0   \n",
       "53741                  0                  0                  0   \n",
       "\n",
       "       SDO_ACTIVO_MENOS3  SDO_ACTIVO_MENOS4  SDO_ACTIVO_MENOS5  \\\n",
       "50778                  0                  0                  0   \n",
       "68257                  0                  0                  0   \n",
       "53623                  0                  0                  0   \n",
       "45001                  0                  0                  0   \n",
       "53741                  0                  0                  0   \n",
       "\n",
       "       FLG_SEGURO_MENOS0  FLG_SEGURO_MENOS1  FLG_SEGURO_MENOS2  \\\n",
       "50778                  0                  0                  0   \n",
       "68257                  1                  1                  1   \n",
       "53623                  0                  0                  0   \n",
       "45001                  1                  1                  0   \n",
       "53741                  0                  0                  0   \n",
       "\n",
       "       FLG_SEGURO_MENOS3  FLG_SEGURO_MENOS4  FLG_SEGURO_MENOS5  \\\n",
       "50778                  0                  0                  0   \n",
       "68257                  1                  1                  1   \n",
       "53623                  0                  0                  0   \n",
       "45001                  0                  0                  0   \n",
       "53741                  0                  0                  0   \n",
       "\n",
       "      RANG_NRO_PRODUCTOS_MENOS0  FLG_NOMINA  NRO_ACCES_CANAL1_MENOS0  \\\n",
       "50778                  Rango_02           1                        1   \n",
       "68257                  Rango_03           0                        0   \n",
       "53623                  Rango_02           1                        0   \n",
       "45001                  Rango_04           1                        6   \n",
       "53741                  Rango_02           1                        0   \n",
       "\n",
       "       NRO_ACCES_CANAL1_MENOS1  NRO_ACCES_CANAL1_MENOS2  \\\n",
       "50778                        0                        0   \n",
       "68257                        0                        0   \n",
       "53623                        0                        0   \n",
       "45001                        4                        1   \n",
       "53741                        0                        0   \n",
       "\n",
       "       NRO_ACCES_CANAL1_MENOS3  NRO_ACCES_CANAL1_MENOS4  \\\n",
       "50778                        0                        0   \n",
       "68257                        0                        2   \n",
       "53623                        0                        0   \n",
       "45001                        4                        2   \n",
       "53741                        0                        0   \n",
       "\n",
       "       NRO_ACCES_CANAL1_MENOS5  NRO_ACCES_CANAL2_MENOS0  \\\n",
       "50778                        0                        0   \n",
       "68257                        1                        1   \n",
       "53623                        0                        0   \n",
       "45001                        1                       24   \n",
       "53741                        0                        0   \n",
       "\n",
       "       NRO_ACCES_CANAL2_MENOS1  NRO_ACCES_CANAL2_MENOS2  \\\n",
       "50778                        0                        0   \n",
       "68257                        4                        3   \n",
       "53623                        0                        0   \n",
       "45001                       23                       17   \n",
       "53741                        0                        0   \n",
       "\n",
       "       NRO_ACCES_CANAL2_MENOS3  NRO_ACCES_CANAL2_MENOS4  \\\n",
       "50778                        0                        0   \n",
       "68257                        9                        5   \n",
       "53623                        0                        0   \n",
       "45001                       24                       19   \n",
       "53741                        0                        0   \n",
       "\n",
       "       NRO_ACCES_CANAL2_MENOS5  NRO_ACCES_CANAL3_MENOS0  \\\n",
       "50778                        0                        9   \n",
       "68257                        0                        1   \n",
       "53623                        0                        3   \n",
       "45001                       16                       15   \n",
       "53741                        0                       15   \n",
       "\n",
       "       NRO_ACCES_CANAL3_MENOS1  NRO_ACCES_CANAL3_MENOS2  \\\n",
       "50778                       27                       16   \n",
       "68257                        0                        0   \n",
       "53623                        0                        0   \n",
       "45001                       22                       25   \n",
       "53741                       24                        0   \n",
       "\n",
       "       NRO_ACCES_CANAL3_MENOS3  NRO_ACCES_CANAL3_MENOS4  \\\n",
       "50778                       26                        5   \n",
       "68257                        0                        4   \n",
       "53623                        0                        1   \n",
       "45001                       25                       24   \n",
       "53741                        0                        0   \n",
       "\n",
       "       NRO_ACCES_CANAL3_MENOS5  NRO_ENTID_SSFF_MENOS0  NRO_ENTID_SSFF_MENOS1  \\\n",
       "50778                        0                      0                      0   \n",
       "68257                        0                      4                      4   \n",
       "53623                        0                      0                      0   \n",
       "45001                       17                      1                      1   \n",
       "53741                        0                      0                      0   \n",
       "\n",
       "       NRO_ENTID_SSFF_MENOS2  NRO_ENTID_SSFF_MENOS3  NRO_ENTID_SSFF_MENOS4  \\\n",
       "50778                      0                      0                      0   \n",
       "68257                      4                      4                      4   \n",
       "53623                      0                      0                      0   \n",
       "45001                      0                      0                      0   \n",
       "53741                      0                      0                      0   \n",
       "\n",
       "       NRO_ENTID_SSFF_MENOS5  FLG_SDO_OTSSFF_MENOS0  FLG_SDO_OTSSFF_MENOS1  \\\n",
       "50778                      0                      0                      0   \n",
       "68257                      4                      1                      1   \n",
       "53623                      0                      0                      0   \n",
       "45001                      0                      0                      0   \n",
       "53741                      0                      0                      0   \n",
       "\n",
       "       FLG_SDO_OTSSFF_MENOS2  FLG_SDO_OTSSFF_MENOS3  FLG_SDO_OTSSFF_MENOS4  \\\n",
       "50778                      0                      0                      0   \n",
       "68257                      1                      1                      1   \n",
       "53623                      0                      0                      0   \n",
       "45001                      0                      0                      0   \n",
       "53741                      0                      0                      0   \n",
       "\n",
       "       FLG_SDO_OTSSFF_MENOS5  \n",
       "50778                      0  \n",
       "68257                      1  \n",
       "53623                      0  \n",
       "45001                      0  \n",
       "53741                      0  "
      ]
     },
     "execution_count": 178,
     "metadata": {},
     "output_type": "execute_result"
    }
   ],
   "source": [
    "## data \n",
    "dataset = pd.read_csv('train_clientes.csv',sep=';')\n",
    "dataset['ID_CORRELATIVO'] =   dataset['ID_CORRELATIVO'].apply(lambda x: '{0:0>7}'.format(x))\n",
    "dataset = dataset.sort_values(['ID_CORRELATIVO'])\n",
    "\n",
    "## data requerimientos\n",
    "\n",
    "dataset_req = pd.read_csv('train_requerimientos.csv',sep=';')\n",
    "dataset_req['ID_CORRELATIVO'] =   dataset_req['ID_CORRELATIVO'].apply(lambda x: '{0:0>7}'.format(x))\n",
    "dataset_req = dataset_req.sort_values(['ID_CORRELATIVO'])\n",
    "dataset.head()"
   ]
  },
  {
   "cell_type": "code",
   "execution_count": 179,
   "metadata": {},
   "outputs": [
    {
     "data": {
      "text/plain": [
       "array([201208], dtype=int64)"
      ]
     },
     "execution_count": 179,
     "metadata": {},
     "output_type": "execute_result"
    }
   ],
   "source": [
    "dataset.CODMES.unique()"
   ]
  },
  {
   "cell_type": "code",
   "execution_count": 180,
   "metadata": {},
   "outputs": [
    {
     "data": {
      "text/plain": [
       "70000"
      ]
     },
     "execution_count": 180,
     "metadata": {},
     "output_type": "execute_result"
    }
   ],
   "source": [
    "dataset.ID_CORRELATIVO.nunique()"
   ]
  },
  {
   "cell_type": "code",
   "execution_count": 181,
   "metadata": {},
   "outputs": [
    {
     "data": {
      "text/html": [
       "<div>\n",
       "<style scoped>\n",
       "    .dataframe tbody tr th:only-of-type {\n",
       "        vertical-align: middle;\n",
       "    }\n",
       "\n",
       "    .dataframe tbody tr th {\n",
       "        vertical-align: top;\n",
       "    }\n",
       "\n",
       "    .dataframe thead th {\n",
       "        text-align: right;\n",
       "    }\n",
       "</style>\n",
       "<table border=\"1\" class=\"dataframe\">\n",
       "  <thead>\n",
       "    <tr style=\"text-align: right;\">\n",
       "      <th></th>\n",
       "      <th>ID_CORRELATIVO</th>\n",
       "      <th>TIPO_REQUERIMIENTO2</th>\n",
       "      <th>DICTAMEN</th>\n",
       "      <th>CODMES</th>\n",
       "      <th>PRODUCTO_SERVICIO_2</th>\n",
       "      <th>SUBMOTIVO_2</th>\n",
       "    </tr>\n",
       "  </thead>\n",
       "  <tbody>\n",
       "    <tr>\n",
       "      <th>31641</th>\n",
       "      <td>0000001</td>\n",
       "      <td>Solicitud</td>\n",
       "      <td>PROCEDE TOTAL</td>\n",
       "      <td>201205</td>\n",
       "      <td>Producto 07</td>\n",
       "      <td>Submotivo 144</td>\n",
       "    </tr>\n",
       "    <tr>\n",
       "      <th>24276</th>\n",
       "      <td>0000002</td>\n",
       "      <td>Reclamo</td>\n",
       "      <td>PROCEDE TOTAL</td>\n",
       "      <td>201203</td>\n",
       "      <td>Producto 20</td>\n",
       "      <td>Submotivo 125</td>\n",
       "    </tr>\n",
       "    <tr>\n",
       "      <th>23891</th>\n",
       "      <td>0000004</td>\n",
       "      <td>Solicitud</td>\n",
       "      <td>PROCEDE TOTAL</td>\n",
       "      <td>201208</td>\n",
       "      <td>Producto 20</td>\n",
       "      <td>Submotivo 144</td>\n",
       "    </tr>\n",
       "    <tr>\n",
       "      <th>23895</th>\n",
       "      <td>0000004</td>\n",
       "      <td>Reclamo</td>\n",
       "      <td>NO PROCEDE</td>\n",
       "      <td>201204</td>\n",
       "      <td>Producto 18</td>\n",
       "      <td>Submotivo 125</td>\n",
       "    </tr>\n",
       "    <tr>\n",
       "      <th>23894</th>\n",
       "      <td>0000004</td>\n",
       "      <td>Reclamo</td>\n",
       "      <td>NO PROCEDE</td>\n",
       "      <td>201205</td>\n",
       "      <td>Producto 18</td>\n",
       "      <td>Submotivo 125</td>\n",
       "    </tr>\n",
       "  </tbody>\n",
       "</table>\n",
       "</div>"
      ],
      "text/plain": [
       "      ID_CORRELATIVO TIPO_REQUERIMIENTO2       DICTAMEN  CODMES  \\\n",
       "31641        0000001           Solicitud  PROCEDE TOTAL  201205   \n",
       "24276        0000002             Reclamo  PROCEDE TOTAL  201203   \n",
       "23891        0000004           Solicitud  PROCEDE TOTAL  201208   \n",
       "23895        0000004             Reclamo     NO PROCEDE  201204   \n",
       "23894        0000004             Reclamo     NO PROCEDE  201205   \n",
       "\n",
       "      PRODUCTO_SERVICIO_2    SUBMOTIVO_2  \n",
       "31641         Producto 07  Submotivo 144  \n",
       "24276         Producto 20  Submotivo 125  \n",
       "23891         Producto 20  Submotivo 144  \n",
       "23895         Producto 18  Submotivo 125  \n",
       "23894         Producto 18  Submotivo 125  "
      ]
     },
     "execution_count": 181,
     "metadata": {},
     "output_type": "execute_result"
    }
   ],
   "source": [
    "dataset_req.head()"
   ]
  },
  {
   "cell_type": "code",
   "execution_count": 182,
   "metadata": {},
   "outputs": [
    {
     "data": {
      "text/plain": [
       "(51417, 6)"
      ]
     },
     "execution_count": 182,
     "metadata": {},
     "output_type": "execute_result"
    }
   ],
   "source": [
    "dataset_req.shape"
   ]
  },
  {
   "cell_type": "code",
   "execution_count": 183,
   "metadata": {},
   "outputs": [
    {
     "data": {
      "text/plain": [
       "35026"
      ]
     },
     "execution_count": 183,
     "metadata": {},
     "output_type": "execute_result"
    }
   ],
   "source": [
    "dataset_req.ID_CORRELATIVO.nunique()"
   ]
  },
  {
   "cell_type": "code",
   "execution_count": 184,
   "metadata": {},
   "outputs": [
    {
     "data": {
      "text/plain": [
       "[201203, 201204, 201205, 201206, 201207, 201208]"
      ]
     },
     "execution_count": 184,
     "metadata": {},
     "output_type": "execute_result"
    }
   ],
   "source": [
    "sorted(dataset_req.CODMES.unique())"
   ]
  },
  {
   "cell_type": "code",
   "execution_count": 185,
   "metadata": {},
   "outputs": [
    {
     "data": {
      "text/plain": [
       "(70000, 53)"
      ]
     },
     "execution_count": 185,
     "metadata": {},
     "output_type": "execute_result"
    }
   ],
   "source": [
    "dataset.shape"
   ]
  },
  {
   "cell_type": "markdown",
   "metadata": {},
   "source": [
    "## Análisis Exploratorio de Datos (EDA)\n"
   ]
  },
  {
   "cell_type": "code",
   "execution_count": 186,
   "metadata": {},
   "outputs": [
    {
     "name": "stdout",
     "output_type": "stream",
     "text": [
      "<class 'pandas.core.frame.DataFrame'>\n",
      "Index: 70000 entries, 50778 to 63754\n",
      "Data columns (total 53 columns):\n",
      " #   Column                     Non-Null Count  Dtype  \n",
      "---  ------                     --------------  -----  \n",
      " 0   ID_CORRELATIVO             70000 non-null  object \n",
      " 1   CODMES                     70000 non-null  int64  \n",
      " 2   FLG_BANCARIZADO            70000 non-null  int64  \n",
      " 3   RANG_INGRESO               60583 non-null  object \n",
      " 4   FLAG_LIMA_PROVINCIA        66614 non-null  object \n",
      " 5   EDAD                       64674 non-null  float64\n",
      " 6   ANTIGUEDAD                 68238 non-null  float64\n",
      " 7   ATTRITION                  70000 non-null  int64  \n",
      " 8   RANG_SDO_PASIVO_MENOS0     70000 non-null  object \n",
      " 9   SDO_ACTIVO_MENOS0          70000 non-null  int64  \n",
      " 10  SDO_ACTIVO_MENOS1          70000 non-null  int64  \n",
      " 11  SDO_ACTIVO_MENOS2          70000 non-null  int64  \n",
      " 12  SDO_ACTIVO_MENOS3          70000 non-null  int64  \n",
      " 13  SDO_ACTIVO_MENOS4          70000 non-null  int64  \n",
      " 14  SDO_ACTIVO_MENOS5          70000 non-null  int64  \n",
      " 15  FLG_SEGURO_MENOS0          70000 non-null  int64  \n",
      " 16  FLG_SEGURO_MENOS1          70000 non-null  int64  \n",
      " 17  FLG_SEGURO_MENOS2          70000 non-null  int64  \n",
      " 18  FLG_SEGURO_MENOS3          70000 non-null  int64  \n",
      " 19  FLG_SEGURO_MENOS4          70000 non-null  int64  \n",
      " 20  FLG_SEGURO_MENOS5          70000 non-null  int64  \n",
      " 21  RANG_NRO_PRODUCTOS_MENOS0  70000 non-null  object \n",
      " 22  FLG_NOMINA                 70000 non-null  int64  \n",
      " 23  NRO_ACCES_CANAL1_MENOS0    70000 non-null  int64  \n",
      " 24  NRO_ACCES_CANAL1_MENOS1    70000 non-null  int64  \n",
      " 25  NRO_ACCES_CANAL1_MENOS2    70000 non-null  int64  \n",
      " 26  NRO_ACCES_CANAL1_MENOS3    70000 non-null  int64  \n",
      " 27  NRO_ACCES_CANAL1_MENOS4    70000 non-null  int64  \n",
      " 28  NRO_ACCES_CANAL1_MENOS5    70000 non-null  int64  \n",
      " 29  NRO_ACCES_CANAL2_MENOS0    70000 non-null  int64  \n",
      " 30  NRO_ACCES_CANAL2_MENOS1    70000 non-null  int64  \n",
      " 31  NRO_ACCES_CANAL2_MENOS2    70000 non-null  int64  \n",
      " 32  NRO_ACCES_CANAL2_MENOS3    70000 non-null  int64  \n",
      " 33  NRO_ACCES_CANAL2_MENOS4    70000 non-null  int64  \n",
      " 34  NRO_ACCES_CANAL2_MENOS5    70000 non-null  int64  \n",
      " 35  NRO_ACCES_CANAL3_MENOS0    70000 non-null  int64  \n",
      " 36  NRO_ACCES_CANAL3_MENOS1    70000 non-null  int64  \n",
      " 37  NRO_ACCES_CANAL3_MENOS2    70000 non-null  int64  \n",
      " 38  NRO_ACCES_CANAL3_MENOS3    70000 non-null  int64  \n",
      " 39  NRO_ACCES_CANAL3_MENOS4    70000 non-null  int64  \n",
      " 40  NRO_ACCES_CANAL3_MENOS5    70000 non-null  int64  \n",
      " 41  NRO_ENTID_SSFF_MENOS0      70000 non-null  int64  \n",
      " 42  NRO_ENTID_SSFF_MENOS1      70000 non-null  int64  \n",
      " 43  NRO_ENTID_SSFF_MENOS2      70000 non-null  int64  \n",
      " 44  NRO_ENTID_SSFF_MENOS3      70000 non-null  int64  \n",
      " 45  NRO_ENTID_SSFF_MENOS4      70000 non-null  int64  \n",
      " 46  NRO_ENTID_SSFF_MENOS5      70000 non-null  int64  \n",
      " 47  FLG_SDO_OTSSFF_MENOS0      70000 non-null  int64  \n",
      " 48  FLG_SDO_OTSSFF_MENOS1      70000 non-null  int64  \n",
      " 49  FLG_SDO_OTSSFF_MENOS2      70000 non-null  int64  \n",
      " 50  FLG_SDO_OTSSFF_MENOS3      70000 non-null  int64  \n",
      " 51  FLG_SDO_OTSSFF_MENOS4      70000 non-null  int64  \n",
      " 52  FLG_SDO_OTSSFF_MENOS5      70000 non-null  int64  \n",
      "dtypes: float64(2), int64(46), object(5)\n",
      "memory usage: 28.8+ MB\n"
     ]
    }
   ],
   "source": [
    "# Type of variables and dataset information.\n",
    "dataset.info()"
   ]
  },
  {
   "cell_type": "code",
   "execution_count": 187,
   "metadata": {
    "scrolled": true
   },
   "outputs": [
    {
     "name": "stdout",
     "output_type": "stream",
     "text": [
      "Number of instances in dataset = 70000\n",
      "Total number of columns = 53\n",
      "Column wise count of null values:-\n",
      "ID_CORRELATIVO                  0\n",
      "CODMES                          0\n",
      "FLG_BANCARIZADO                 0\n",
      "RANG_INGRESO                 9417\n",
      "FLAG_LIMA_PROVINCIA          3386\n",
      "EDAD                         5326\n",
      "ANTIGUEDAD                   1762\n",
      "ATTRITION                       0\n",
      "RANG_SDO_PASIVO_MENOS0          0\n",
      "SDO_ACTIVO_MENOS0               0\n",
      "SDO_ACTIVO_MENOS1               0\n",
      "SDO_ACTIVO_MENOS2               0\n",
      "SDO_ACTIVO_MENOS3               0\n",
      "SDO_ACTIVO_MENOS4               0\n",
      "SDO_ACTIVO_MENOS5               0\n",
      "FLG_SEGURO_MENOS0               0\n",
      "FLG_SEGURO_MENOS1               0\n",
      "FLG_SEGURO_MENOS2               0\n",
      "FLG_SEGURO_MENOS3               0\n",
      "FLG_SEGURO_MENOS4               0\n",
      "FLG_SEGURO_MENOS5               0\n",
      "RANG_NRO_PRODUCTOS_MENOS0       0\n",
      "FLG_NOMINA                      0\n",
      "NRO_ACCES_CANAL1_MENOS0         0\n",
      "NRO_ACCES_CANAL1_MENOS1         0\n",
      "NRO_ACCES_CANAL1_MENOS2         0\n",
      "NRO_ACCES_CANAL1_MENOS3         0\n",
      "NRO_ACCES_CANAL1_MENOS4         0\n",
      "NRO_ACCES_CANAL1_MENOS5         0\n",
      "NRO_ACCES_CANAL2_MENOS0         0\n",
      "NRO_ACCES_CANAL2_MENOS1         0\n",
      "NRO_ACCES_CANAL2_MENOS2         0\n",
      "NRO_ACCES_CANAL2_MENOS3         0\n",
      "NRO_ACCES_CANAL2_MENOS4         0\n",
      "NRO_ACCES_CANAL2_MENOS5         0\n",
      "NRO_ACCES_CANAL3_MENOS0         0\n",
      "NRO_ACCES_CANAL3_MENOS1         0\n",
      "NRO_ACCES_CANAL3_MENOS2         0\n",
      "NRO_ACCES_CANAL3_MENOS3         0\n",
      "NRO_ACCES_CANAL3_MENOS4         0\n",
      "NRO_ACCES_CANAL3_MENOS5         0\n",
      "NRO_ENTID_SSFF_MENOS0           0\n",
      "NRO_ENTID_SSFF_MENOS1           0\n",
      "NRO_ENTID_SSFF_MENOS2           0\n",
      "NRO_ENTID_SSFF_MENOS3           0\n",
      "NRO_ENTID_SSFF_MENOS4           0\n",
      "NRO_ENTID_SSFF_MENOS5           0\n",
      "FLG_SDO_OTSSFF_MENOS0           0\n",
      "FLG_SDO_OTSSFF_MENOS1           0\n",
      "FLG_SDO_OTSSFF_MENOS2           0\n",
      "FLG_SDO_OTSSFF_MENOS3           0\n",
      "FLG_SDO_OTSSFF_MENOS4           0\n",
      "FLG_SDO_OTSSFF_MENOS5           0\n",
      "dtype: int64\n"
     ]
    }
   ],
   "source": [
    "# Dataset characteristics\n",
    "print(\"Number of instances in dataset = {}\".format(dataset.shape[0]))\n",
    "print(\"Total number of columns = {}\".format(dataset.columns.shape[0]))\n",
    "print(\"Column wise count of null values:-\")\n",
    "print(dataset.isnull().sum())"
   ]
  },
  {
   "cell_type": "markdown",
   "metadata": {},
   "source": [
    "### Columnas con análisis Estadístico"
   ]
  },
  {
   "cell_type": "code",
   "execution_count": 188,
   "metadata": {},
   "outputs": [],
   "source": [
    "# Columns for age and antiquity\n",
    "var_1 = [\"EDAD\", \"ANTIGUEDAD\"]\n",
    "\n",
    "# Columns for SDO_ACTIVO\n",
    "SDO_ACTIVO = [\"SDO_ACTIVO_MENOS0\", \"SDO_ACTIVO_MENOS1\", \"SDO_ACTIVO_MENOS2\", \"SDO_ACTIVO_MENOS3\", \"SDO_ACTIVO_MENOS4\",\"SDO_ACTIVO_MENOS5\"]\n",
    "\n",
    "# Columns for NRO_ENTID_SSFF_MENOS\n",
    "NRO_ENTID_SSFF_MENOS = [\"NRO_ENTID_SSFF_MENOS0\", \"NRO_ENTID_SSFF_MENOS1\", \"NRO_ENTID_SSFF_MENOS2\", \"NRO_ENTID_SSFF_MENOS3\", \"NRO_ENTID_SSFF_MENOS4\", \"NRO_ENTID_SSFF_MENOS5\"]\n",
    "\n",
    "# Columns for NRO_ACCES_CANAL\n",
    "NRO_ACCES_CANAL = [\"NRO_ACCES_CANAL1_MENOS0\",\"NRO_ACCES_CANAL1_MENOS1\",\"NRO_ACCES_CANAL1_MENOS2\",\"NRO_ACCES_CANAL1_MENOS3\",\"NRO_ACCES_CANAL1_MENOS4\",\"NRO_ACCES_CANAL1_MENOS5\",\n",
    "                  \"NRO_ACCES_CANAL2_MENOS0\",\"NRO_ACCES_CANAL2_MENOS1\",\"NRO_ACCES_CANAL2_MENOS2\",\"NRO_ACCES_CANAL2_MENOS3\",\"NRO_ACCES_CANAL2_MENOS4\",\"NRO_ACCES_CANAL2_MENOS5\",\n",
    "                  \"NRO_ACCES_CANAL3_MENOS0\",\"NRO_ACCES_CANAL3_MENOS1\",\"NRO_ACCES_CANAL3_MENOS2\",\"NRO_ACCES_CANAL3_MENOS3\",\"NRO_ACCES_CANAL3_MENOS4\",\"NRO_ACCES_CANAL3_MENOS5\"]\n",
    "\n",
    "NRO_ACCES_CANAL1 = [\"NRO_ACCES_CANAL1_MENOS0\",\"NRO_ACCES_CANAL1_MENOS1\",\"NRO_ACCES_CANAL1_MENOS2\",\"NRO_ACCES_CANAL1_MENOS3\",\"NRO_ACCES_CANAL1_MENOS4\",\"NRO_ACCES_CANAL1_MENOS5\"]\n",
    "                    \n",
    "NRO_ACCES_CANAL2 = [\"NRO_ACCES_CANAL2_MENOS0\",\"NRO_ACCES_CANAL2_MENOS1\",\"NRO_ACCES_CANAL2_MENOS2\",\"NRO_ACCES_CANAL2_MENOS3\",\"NRO_ACCES_CANAL2_MENOS4\",\"NRO_ACCES_CANAL2_MENOS5\"]\n",
    "NRO_ACCES_CANAL3 = [\"NRO_ACCES_CANAL3_MENOS0\",\"NRO_ACCES_CANAL3_MENOS1\",\"NRO_ACCES_CANAL3_MENOS2\",\"NRO_ACCES_CANAL3_MENOS3\",\"NRO_ACCES_CANAL3_MENOS4\",\"NRO_ACCES_CANAL3_MENOS5\"]\n",
    "\n",
    "\n",
    "target = [\"ATTRITION\"]"
   ]
  },
  {
   "cell_type": "code",
   "execution_count": 189,
   "metadata": {},
   "outputs": [
    {
     "data": {
      "text/html": [
       "<div>\n",
       "<style scoped>\n",
       "    .dataframe tbody tr th:only-of-type {\n",
       "        vertical-align: middle;\n",
       "    }\n",
       "\n",
       "    .dataframe tbody tr th {\n",
       "        vertical-align: top;\n",
       "    }\n",
       "\n",
       "    .dataframe thead th {\n",
       "        text-align: right;\n",
       "    }\n",
       "</style>\n",
       "<table border=\"1\" class=\"dataframe\">\n",
       "  <thead>\n",
       "    <tr style=\"text-align: right;\">\n",
       "      <th></th>\n",
       "      <th>EDAD</th>\n",
       "      <th>ANTIGUEDAD</th>\n",
       "    </tr>\n",
       "  </thead>\n",
       "  <tbody>\n",
       "    <tr>\n",
       "      <th>count</th>\n",
       "      <td>64674.000000</td>\n",
       "      <td>68238.000000</td>\n",
       "    </tr>\n",
       "    <tr>\n",
       "      <th>mean</th>\n",
       "      <td>35.232474</td>\n",
       "      <td>2.549283</td>\n",
       "    </tr>\n",
       "    <tr>\n",
       "      <th>std</th>\n",
       "      <td>11.536038</td>\n",
       "      <td>3.205424</td>\n",
       "    </tr>\n",
       "    <tr>\n",
       "      <th>min</th>\n",
       "      <td>18.000000</td>\n",
       "      <td>0.000000</td>\n",
       "    </tr>\n",
       "    <tr>\n",
       "      <th>25%</th>\n",
       "      <td>27.000000</td>\n",
       "      <td>0.000000</td>\n",
       "    </tr>\n",
       "    <tr>\n",
       "      <th>50%</th>\n",
       "      <td>32.000000</td>\n",
       "      <td>0.000000</td>\n",
       "    </tr>\n",
       "    <tr>\n",
       "      <th>75%</th>\n",
       "      <td>41.000000</td>\n",
       "      <td>5.000000</td>\n",
       "    </tr>\n",
       "    <tr>\n",
       "      <th>max</th>\n",
       "      <td>98.000000</td>\n",
       "      <td>23.000000</td>\n",
       "    </tr>\n",
       "  </tbody>\n",
       "</table>\n",
       "</div>"
      ],
      "text/plain": [
       "               EDAD    ANTIGUEDAD\n",
       "count  64674.000000  68238.000000\n",
       "mean      35.232474      2.549283\n",
       "std       11.536038      3.205424\n",
       "min       18.000000      0.000000\n",
       "25%       27.000000      0.000000\n",
       "50%       32.000000      0.000000\n",
       "75%       41.000000      5.000000\n",
       "max       98.000000     23.000000"
      ]
     },
     "execution_count": 189,
     "metadata": {},
     "output_type": "execute_result"
    }
   ],
   "source": [
    "dataset[var_1].describe()"
   ]
  },
  {
   "cell_type": "code",
   "execution_count": 190,
   "metadata": {},
   "outputs": [
    {
     "data": {
      "text/html": [
       "<div>\n",
       "<style scoped>\n",
       "    .dataframe tbody tr th:only-of-type {\n",
       "        vertical-align: middle;\n",
       "    }\n",
       "\n",
       "    .dataframe tbody tr th {\n",
       "        vertical-align: top;\n",
       "    }\n",
       "\n",
       "    .dataframe thead th {\n",
       "        text-align: right;\n",
       "    }\n",
       "</style>\n",
       "<table border=\"1\" class=\"dataframe\">\n",
       "  <thead>\n",
       "    <tr style=\"text-align: right;\">\n",
       "      <th></th>\n",
       "      <th>NRO_ENTID_SSFF_MENOS0</th>\n",
       "      <th>NRO_ENTID_SSFF_MENOS1</th>\n",
       "      <th>NRO_ENTID_SSFF_MENOS2</th>\n",
       "      <th>NRO_ENTID_SSFF_MENOS3</th>\n",
       "      <th>NRO_ENTID_SSFF_MENOS4</th>\n",
       "      <th>NRO_ENTID_SSFF_MENOS5</th>\n",
       "    </tr>\n",
       "  </thead>\n",
       "  <tbody>\n",
       "    <tr>\n",
       "      <th>count</th>\n",
       "      <td>70000.000000</td>\n",
       "      <td>70000.000000</td>\n",
       "      <td>70000.000000</td>\n",
       "      <td>70000.000000</td>\n",
       "      <td>70000.000000</td>\n",
       "      <td>70000.000000</td>\n",
       "    </tr>\n",
       "    <tr>\n",
       "      <th>mean</th>\n",
       "      <td>2.030643</td>\n",
       "      <td>1.999243</td>\n",
       "      <td>1.968014</td>\n",
       "      <td>1.928971</td>\n",
       "      <td>1.873600</td>\n",
       "      <td>1.854386</td>\n",
       "    </tr>\n",
       "    <tr>\n",
       "      <th>std</th>\n",
       "      <td>1.932397</td>\n",
       "      <td>1.920776</td>\n",
       "      <td>1.907792</td>\n",
       "      <td>1.889000</td>\n",
       "      <td>1.869672</td>\n",
       "      <td>1.853515</td>\n",
       "    </tr>\n",
       "    <tr>\n",
       "      <th>min</th>\n",
       "      <td>0.000000</td>\n",
       "      <td>0.000000</td>\n",
       "      <td>0.000000</td>\n",
       "      <td>0.000000</td>\n",
       "      <td>0.000000</td>\n",
       "      <td>0.000000</td>\n",
       "    </tr>\n",
       "    <tr>\n",
       "      <th>25%</th>\n",
       "      <td>0.000000</td>\n",
       "      <td>0.000000</td>\n",
       "      <td>0.000000</td>\n",
       "      <td>0.000000</td>\n",
       "      <td>0.000000</td>\n",
       "      <td>0.000000</td>\n",
       "    </tr>\n",
       "    <tr>\n",
       "      <th>50%</th>\n",
       "      <td>2.000000</td>\n",
       "      <td>2.000000</td>\n",
       "      <td>2.000000</td>\n",
       "      <td>2.000000</td>\n",
       "      <td>1.000000</td>\n",
       "      <td>1.000000</td>\n",
       "    </tr>\n",
       "    <tr>\n",
       "      <th>75%</th>\n",
       "      <td>3.000000</td>\n",
       "      <td>3.000000</td>\n",
       "      <td>3.000000</td>\n",
       "      <td>3.000000</td>\n",
       "      <td>3.000000</td>\n",
       "      <td>3.000000</td>\n",
       "    </tr>\n",
       "    <tr>\n",
       "      <th>max</th>\n",
       "      <td>11.000000</td>\n",
       "      <td>11.000000</td>\n",
       "      <td>11.000000</td>\n",
       "      <td>11.000000</td>\n",
       "      <td>11.000000</td>\n",
       "      <td>11.000000</td>\n",
       "    </tr>\n",
       "  </tbody>\n",
       "</table>\n",
       "</div>"
      ],
      "text/plain": [
       "       NRO_ENTID_SSFF_MENOS0  NRO_ENTID_SSFF_MENOS1  NRO_ENTID_SSFF_MENOS2  \\\n",
       "count           70000.000000           70000.000000           70000.000000   \n",
       "mean                2.030643               1.999243               1.968014   \n",
       "std                 1.932397               1.920776               1.907792   \n",
       "min                 0.000000               0.000000               0.000000   \n",
       "25%                 0.000000               0.000000               0.000000   \n",
       "50%                 2.000000               2.000000               2.000000   \n",
       "75%                 3.000000               3.000000               3.000000   \n",
       "max                11.000000              11.000000              11.000000   \n",
       "\n",
       "       NRO_ENTID_SSFF_MENOS3  NRO_ENTID_SSFF_MENOS4  NRO_ENTID_SSFF_MENOS5  \n",
       "count           70000.000000           70000.000000           70000.000000  \n",
       "mean                1.928971               1.873600               1.854386  \n",
       "std                 1.889000               1.869672               1.853515  \n",
       "min                 0.000000               0.000000               0.000000  \n",
       "25%                 0.000000               0.000000               0.000000  \n",
       "50%                 2.000000               1.000000               1.000000  \n",
       "75%                 3.000000               3.000000               3.000000  \n",
       "max                11.000000              11.000000              11.000000  "
      ]
     },
     "execution_count": 190,
     "metadata": {},
     "output_type": "execute_result"
    }
   ],
   "source": [
    "dataset[NRO_ENTID_SSFF_MENOS].describe()"
   ]
  },
  {
   "cell_type": "code",
   "execution_count": 191,
   "metadata": {},
   "outputs": [
    {
     "data": {
      "text/html": [
       "<div>\n",
       "<style scoped>\n",
       "    .dataframe tbody tr th:only-of-type {\n",
       "        vertical-align: middle;\n",
       "    }\n",
       "\n",
       "    .dataframe tbody tr th {\n",
       "        vertical-align: top;\n",
       "    }\n",
       "\n",
       "    .dataframe thead th {\n",
       "        text-align: right;\n",
       "    }\n",
       "</style>\n",
       "<table border=\"1\" class=\"dataframe\">\n",
       "  <thead>\n",
       "    <tr style=\"text-align: right;\">\n",
       "      <th></th>\n",
       "      <th>NRO_ACCES_CANAL1_MENOS0</th>\n",
       "      <th>NRO_ACCES_CANAL1_MENOS1</th>\n",
       "      <th>NRO_ACCES_CANAL1_MENOS2</th>\n",
       "      <th>NRO_ACCES_CANAL1_MENOS3</th>\n",
       "      <th>NRO_ACCES_CANAL1_MENOS4</th>\n",
       "      <th>NRO_ACCES_CANAL1_MENOS5</th>\n",
       "      <th>NRO_ACCES_CANAL2_MENOS0</th>\n",
       "      <th>NRO_ACCES_CANAL2_MENOS1</th>\n",
       "      <th>NRO_ACCES_CANAL2_MENOS2</th>\n",
       "      <th>NRO_ACCES_CANAL2_MENOS3</th>\n",
       "      <th>NRO_ACCES_CANAL2_MENOS4</th>\n",
       "      <th>NRO_ACCES_CANAL2_MENOS5</th>\n",
       "      <th>NRO_ACCES_CANAL3_MENOS0</th>\n",
       "      <th>NRO_ACCES_CANAL3_MENOS1</th>\n",
       "      <th>NRO_ACCES_CANAL3_MENOS2</th>\n",
       "      <th>NRO_ACCES_CANAL3_MENOS3</th>\n",
       "      <th>NRO_ACCES_CANAL3_MENOS4</th>\n",
       "      <th>NRO_ACCES_CANAL3_MENOS5</th>\n",
       "    </tr>\n",
       "  </thead>\n",
       "  <tbody>\n",
       "    <tr>\n",
       "      <th>count</th>\n",
       "      <td>70000.000000</td>\n",
       "      <td>70000.000000</td>\n",
       "      <td>70000.000000</td>\n",
       "      <td>70000.000000</td>\n",
       "      <td>70000.000000</td>\n",
       "      <td>70000.000000</td>\n",
       "      <td>70000.000000</td>\n",
       "      <td>70000.000000</td>\n",
       "      <td>70000.000000</td>\n",
       "      <td>70000.000000</td>\n",
       "      <td>70000.000000</td>\n",
       "      <td>70000.000000</td>\n",
       "      <td>70000.000000</td>\n",
       "      <td>70000.000000</td>\n",
       "      <td>70000.000000</td>\n",
       "      <td>70000.000000</td>\n",
       "      <td>70000.000000</td>\n",
       "      <td>70000.000000</td>\n",
       "    </tr>\n",
       "    <tr>\n",
       "      <th>mean</th>\n",
       "      <td>1.035086</td>\n",
       "      <td>1.020943</td>\n",
       "      <td>0.867100</td>\n",
       "      <td>0.891743</td>\n",
       "      <td>0.813557</td>\n",
       "      <td>0.826300</td>\n",
       "      <td>1.786986</td>\n",
       "      <td>1.739486</td>\n",
       "      <td>1.318186</td>\n",
       "      <td>1.255300</td>\n",
       "      <td>1.120829</td>\n",
       "      <td>1.123800</td>\n",
       "      <td>5.558000</td>\n",
       "      <td>5.830871</td>\n",
       "      <td>4.551771</td>\n",
       "      <td>4.146200</td>\n",
       "      <td>3.565257</td>\n",
       "      <td>3.550743</td>\n",
       "    </tr>\n",
       "    <tr>\n",
       "      <th>std</th>\n",
       "      <td>2.746253</td>\n",
       "      <td>2.749709</td>\n",
       "      <td>2.512787</td>\n",
       "      <td>2.649147</td>\n",
       "      <td>2.514842</td>\n",
       "      <td>2.545633</td>\n",
       "      <td>4.528780</td>\n",
       "      <td>4.614673</td>\n",
       "      <td>3.929470</td>\n",
       "      <td>3.974264</td>\n",
       "      <td>3.732211</td>\n",
       "      <td>3.777387</td>\n",
       "      <td>7.776502</td>\n",
       "      <td>8.254698</td>\n",
       "      <td>7.203200</td>\n",
       "      <td>7.308573</td>\n",
       "      <td>7.179745</td>\n",
       "      <td>7.331213</td>\n",
       "    </tr>\n",
       "    <tr>\n",
       "      <th>min</th>\n",
       "      <td>0.000000</td>\n",
       "      <td>0.000000</td>\n",
       "      <td>0.000000</td>\n",
       "      <td>0.000000</td>\n",
       "      <td>0.000000</td>\n",
       "      <td>0.000000</td>\n",
       "      <td>0.000000</td>\n",
       "      <td>0.000000</td>\n",
       "      <td>0.000000</td>\n",
       "      <td>0.000000</td>\n",
       "      <td>0.000000</td>\n",
       "      <td>0.000000</td>\n",
       "      <td>0.000000</td>\n",
       "      <td>0.000000</td>\n",
       "      <td>0.000000</td>\n",
       "      <td>0.000000</td>\n",
       "      <td>0.000000</td>\n",
       "      <td>0.000000</td>\n",
       "    </tr>\n",
       "    <tr>\n",
       "      <th>25%</th>\n",
       "      <td>0.000000</td>\n",
       "      <td>0.000000</td>\n",
       "      <td>0.000000</td>\n",
       "      <td>0.000000</td>\n",
       "      <td>0.000000</td>\n",
       "      <td>0.000000</td>\n",
       "      <td>0.000000</td>\n",
       "      <td>0.000000</td>\n",
       "      <td>0.000000</td>\n",
       "      <td>0.000000</td>\n",
       "      <td>0.000000</td>\n",
       "      <td>0.000000</td>\n",
       "      <td>0.000000</td>\n",
       "      <td>0.000000</td>\n",
       "      <td>0.000000</td>\n",
       "      <td>0.000000</td>\n",
       "      <td>0.000000</td>\n",
       "      <td>0.000000</td>\n",
       "    </tr>\n",
       "    <tr>\n",
       "      <th>50%</th>\n",
       "      <td>0.000000</td>\n",
       "      <td>0.000000</td>\n",
       "      <td>0.000000</td>\n",
       "      <td>0.000000</td>\n",
       "      <td>0.000000</td>\n",
       "      <td>0.000000</td>\n",
       "      <td>0.000000</td>\n",
       "      <td>0.000000</td>\n",
       "      <td>0.000000</td>\n",
       "      <td>0.000000</td>\n",
       "      <td>0.000000</td>\n",
       "      <td>0.000000</td>\n",
       "      <td>3.000000</td>\n",
       "      <td>2.000000</td>\n",
       "      <td>1.000000</td>\n",
       "      <td>0.000000</td>\n",
       "      <td>0.000000</td>\n",
       "      <td>0.000000</td>\n",
       "    </tr>\n",
       "    <tr>\n",
       "      <th>75%</th>\n",
       "      <td>0.000000</td>\n",
       "      <td>0.000000</td>\n",
       "      <td>0.000000</td>\n",
       "      <td>0.000000</td>\n",
       "      <td>0.000000</td>\n",
       "      <td>0.000000</td>\n",
       "      <td>0.000000</td>\n",
       "      <td>0.000000</td>\n",
       "      <td>0.000000</td>\n",
       "      <td>0.000000</td>\n",
       "      <td>0.000000</td>\n",
       "      <td>0.000000</td>\n",
       "      <td>8.000000</td>\n",
       "      <td>9.000000</td>\n",
       "      <td>7.000000</td>\n",
       "      <td>6.000000</td>\n",
       "      <td>4.000000</td>\n",
       "      <td>4.000000</td>\n",
       "    </tr>\n",
       "    <tr>\n",
       "      <th>max</th>\n",
       "      <td>31.000000</td>\n",
       "      <td>31.000000</td>\n",
       "      <td>30.000000</td>\n",
       "      <td>31.000000</td>\n",
       "      <td>30.000000</td>\n",
       "      <td>30.000000</td>\n",
       "      <td>31.000000</td>\n",
       "      <td>31.000000</td>\n",
       "      <td>30.000000</td>\n",
       "      <td>31.000000</td>\n",
       "      <td>30.000000</td>\n",
       "      <td>31.000000</td>\n",
       "      <td>245.000000</td>\n",
       "      <td>220.000000</td>\n",
       "      <td>163.000000</td>\n",
       "      <td>121.000000</td>\n",
       "      <td>273.000000</td>\n",
       "      <td>163.000000</td>\n",
       "    </tr>\n",
       "  </tbody>\n",
       "</table>\n",
       "</div>"
      ],
      "text/plain": [
       "       NRO_ACCES_CANAL1_MENOS0  NRO_ACCES_CANAL1_MENOS1  \\\n",
       "count             70000.000000             70000.000000   \n",
       "mean                  1.035086                 1.020943   \n",
       "std                   2.746253                 2.749709   \n",
       "min                   0.000000                 0.000000   \n",
       "25%                   0.000000                 0.000000   \n",
       "50%                   0.000000                 0.000000   \n",
       "75%                   0.000000                 0.000000   \n",
       "max                  31.000000                31.000000   \n",
       "\n",
       "       NRO_ACCES_CANAL1_MENOS2  NRO_ACCES_CANAL1_MENOS3  \\\n",
       "count             70000.000000             70000.000000   \n",
       "mean                  0.867100                 0.891743   \n",
       "std                   2.512787                 2.649147   \n",
       "min                   0.000000                 0.000000   \n",
       "25%                   0.000000                 0.000000   \n",
       "50%                   0.000000                 0.000000   \n",
       "75%                   0.000000                 0.000000   \n",
       "max                  30.000000                31.000000   \n",
       "\n",
       "       NRO_ACCES_CANAL1_MENOS4  NRO_ACCES_CANAL1_MENOS5  \\\n",
       "count             70000.000000             70000.000000   \n",
       "mean                  0.813557                 0.826300   \n",
       "std                   2.514842                 2.545633   \n",
       "min                   0.000000                 0.000000   \n",
       "25%                   0.000000                 0.000000   \n",
       "50%                   0.000000                 0.000000   \n",
       "75%                   0.000000                 0.000000   \n",
       "max                  30.000000                30.000000   \n",
       "\n",
       "       NRO_ACCES_CANAL2_MENOS0  NRO_ACCES_CANAL2_MENOS1  \\\n",
       "count             70000.000000             70000.000000   \n",
       "mean                  1.786986                 1.739486   \n",
       "std                   4.528780                 4.614673   \n",
       "min                   0.000000                 0.000000   \n",
       "25%                   0.000000                 0.000000   \n",
       "50%                   0.000000                 0.000000   \n",
       "75%                   0.000000                 0.000000   \n",
       "max                  31.000000                31.000000   \n",
       "\n",
       "       NRO_ACCES_CANAL2_MENOS2  NRO_ACCES_CANAL2_MENOS3  \\\n",
       "count             70000.000000             70000.000000   \n",
       "mean                  1.318186                 1.255300   \n",
       "std                   3.929470                 3.974264   \n",
       "min                   0.000000                 0.000000   \n",
       "25%                   0.000000                 0.000000   \n",
       "50%                   0.000000                 0.000000   \n",
       "75%                   0.000000                 0.000000   \n",
       "max                  30.000000                31.000000   \n",
       "\n",
       "       NRO_ACCES_CANAL2_MENOS4  NRO_ACCES_CANAL2_MENOS5  \\\n",
       "count             70000.000000             70000.000000   \n",
       "mean                  1.120829                 1.123800   \n",
       "std                   3.732211                 3.777387   \n",
       "min                   0.000000                 0.000000   \n",
       "25%                   0.000000                 0.000000   \n",
       "50%                   0.000000                 0.000000   \n",
       "75%                   0.000000                 0.000000   \n",
       "max                  30.000000                31.000000   \n",
       "\n",
       "       NRO_ACCES_CANAL3_MENOS0  NRO_ACCES_CANAL3_MENOS1  \\\n",
       "count             70000.000000             70000.000000   \n",
       "mean                  5.558000                 5.830871   \n",
       "std                   7.776502                 8.254698   \n",
       "min                   0.000000                 0.000000   \n",
       "25%                   0.000000                 0.000000   \n",
       "50%                   3.000000                 2.000000   \n",
       "75%                   8.000000                 9.000000   \n",
       "max                 245.000000               220.000000   \n",
       "\n",
       "       NRO_ACCES_CANAL3_MENOS2  NRO_ACCES_CANAL3_MENOS3  \\\n",
       "count             70000.000000             70000.000000   \n",
       "mean                  4.551771                 4.146200   \n",
       "std                   7.203200                 7.308573   \n",
       "min                   0.000000                 0.000000   \n",
       "25%                   0.000000                 0.000000   \n",
       "50%                   1.000000                 0.000000   \n",
       "75%                   7.000000                 6.000000   \n",
       "max                 163.000000               121.000000   \n",
       "\n",
       "       NRO_ACCES_CANAL3_MENOS4  NRO_ACCES_CANAL3_MENOS5  \n",
       "count             70000.000000             70000.000000  \n",
       "mean                  3.565257                 3.550743  \n",
       "std                   7.179745                 7.331213  \n",
       "min                   0.000000                 0.000000  \n",
       "25%                   0.000000                 0.000000  \n",
       "50%                   0.000000                 0.000000  \n",
       "75%                   4.000000                 4.000000  \n",
       "max                 273.000000               163.000000  "
      ]
     },
     "execution_count": 191,
     "metadata": {},
     "output_type": "execute_result"
    }
   ],
   "source": [
    "dataset[NRO_ACCES_CANAL].describe()"
   ]
  },
  {
   "cell_type": "code",
   "execution_count": 192,
   "metadata": {},
   "outputs": [
    {
     "data": {
      "text/plain": [
       "70000"
      ]
     },
     "execution_count": 192,
     "metadata": {},
     "output_type": "execute_result"
    }
   ],
   "source": [
    "len(dataset['ATTRITION'])"
   ]
  },
  {
   "cell_type": "code",
   "execution_count": 193,
   "metadata": {},
   "outputs": [
    {
     "name": "stdout",
     "output_type": "stream",
     "text": [
      "ATTRITION\n",
      "0    59178\n",
      "1    10822\n",
      "Name: count, dtype: int64\n",
      "ATTRITION\n",
      "0    0.8454\n",
      "1    0.1546\n",
      "Name: proportion, dtype: float64\n"
     ]
    }
   ],
   "source": [
    "print(dataset['ATTRITION'].value_counts())\n",
    "print(dataset['ATTRITION'].value_counts(normalize=True))\n"
   ]
  },
  {
   "cell_type": "code",
   "execution_count": 194,
   "metadata": {},
   "outputs": [
    {
     "name": "stdout",
     "output_type": "stream",
     "text": [
      "FLAG_LIMA_PROVINCIA\n",
      "Lima         41637\n",
      "Provincia    24977\n",
      "Name: count, dtype: int64\n",
      "FLAG_LIMA_PROVINCIA\n",
      "Lima         0.625049\n",
      "Provincia    0.374951\n",
      "Name: proportion, dtype: float64\n"
     ]
    }
   ],
   "source": [
    "print(dataset['FLAG_LIMA_PROVINCIA'].value_counts())\n",
    "print(dataset['FLAG_LIMA_PROVINCIA'].value_counts(normalize=True))"
   ]
  },
  {
   "cell_type": "markdown",
   "metadata": {},
   "source": [
    "## Vizualización de los Datos"
   ]
  },
  {
   "cell_type": "code",
   "execution_count": 195,
   "metadata": {},
   "outputs": [],
   "source": [
    "sns.set() "
   ]
  },
  {
   "cell_type": "markdown",
   "metadata": {},
   "source": [
    "## Histograma de Edad con respecto al Target"
   ]
  },
  {
   "cell_type": "code",
   "execution_count": 196,
   "metadata": {},
   "outputs": [
    {
     "ename": "TypeError",
     "evalue": "FacetGrid.__init__() got an unexpected keyword argument 'size'",
     "output_type": "error",
     "traceback": [
      "\u001b[1;31m---------------------------------------------------------------------------\u001b[0m",
      "\u001b[1;31mTypeError\u001b[0m                                 Traceback (most recent call last)",
      "Cell \u001b[1;32mIn[196], line 1\u001b[0m\n\u001b[1;32m----> 1\u001b[0m g \u001b[38;5;241m=\u001b[39m sns\u001b[38;5;241m.\u001b[39mFacetGrid(dataset, col\u001b[38;5;241m=\u001b[39m\u001b[38;5;124m'\u001b[39m\u001b[38;5;124mATTRITION\u001b[39m\u001b[38;5;124m'\u001b[39m,size\u001b[38;5;241m=\u001b[39m\u001b[38;5;241m5\u001b[39m, aspect\u001b[38;5;241m=\u001b[39m\u001b[38;5;241m1.2\u001b[39m)\n\u001b[0;32m      2\u001b[0m g\u001b[38;5;241m.\u001b[39mmap(plt\u001b[38;5;241m.\u001b[39mhist, \u001b[38;5;124m'\u001b[39m\u001b[38;5;124mEDAD\u001b[39m\u001b[38;5;124m'\u001b[39m, bins\u001b[38;5;241m=\u001b[39m\u001b[38;5;241m10\u001b[39m)\n\u001b[0;32m      3\u001b[0m plt\u001b[38;5;241m.\u001b[39mshow()\n",
      "\u001b[1;31mTypeError\u001b[0m: FacetGrid.__init__() got an unexpected keyword argument 'size'"
     ]
    }
   ],
   "source": [
    "g = sns.FacetGrid(dataset, col='ATTRITION',size=5, aspect=1.2)\n",
    "g.map(plt.hist, 'EDAD', bins=10)\n",
    "plt.show()\n",
    "g.savefig(\"archivo.png\")"
   ]
  },
  {
   "cell_type": "markdown",
   "metadata": {},
   "source": [
    "## Boxplot de la Edad por cada Rango de Ingreso con respecto al Target"
   ]
  },
  {
   "cell_type": "code",
   "execution_count": null,
   "metadata": {},
   "outputs": [],
   "source": [
    "# Grouped boxplot\n",
    "plt.figure(figsize=(16,8))\n",
    "sns.boxplot(x=\"RANG_INGRESO\", y=\"EDAD\", hue=\"ATTRITION\", data=dataset, palette=\"Set1\")\n",
    "plt.show()"
   ]
  },
  {
   "cell_type": "markdown",
   "metadata": {},
   "source": [
    "## Gráfico de Dispersión de los NRO_ACCES_CANAL3"
   ]
  },
  {
   "cell_type": "code",
   "execution_count": null,
   "metadata": {},
   "outputs": [],
   "source": [
    "# Acortando el nombre de las variables\n",
    "dataset_NRO_ACCES_CANAL3 = dataset[NRO_ACCES_CANAL3]\n",
    "dataset_NRO_ACCES_CANAL3.columns = ['NRO_ACCES_CANAL3.0', 'NRO_ACCES_CANAL3.1',\n",
    "       'NRO_ACCES_CANAL3.2', 'NRO_ACCES_CANAL3.3',\n",
    "       'NRO_ACCES_CANAL3.4', 'NRO_ACCES_CANAL3.5']"
   ]
  },
  {
   "cell_type": "code",
   "execution_count": null,
   "metadata": {},
   "outputs": [],
   "source": [
    "sns.pairplot(dataset_NRO_ACCES_CANAL3); ### Gráfico de Dispersión\n"
   ]
  },
  {
   "cell_type": "markdown",
   "metadata": {},
   "source": [
    "## Gráfico de Dispersión de Edad vs la Antiguedad por cada FLAG_LIMA_PROVINCIA respecto al Target"
   ]
  },
  {
   "cell_type": "code",
   "execution_count": null,
   "metadata": {},
   "outputs": [],
   "source": [
    "plt.figure(figsize=(16,8))\n",
    "g = sns.FacetGrid(dataset, col=\"FLAG_LIMA_PROVINCIA\", hue=\"ATTRITION\",size=7)\n",
    "g.map(plt.scatter, \"EDAD\",\"ANTIGUEDAD\" ,alpha=.9)\n",
    "g.add_legend();\n",
    "#g.savefig(\"archivo1.png\")"
   ]
  },
  {
   "cell_type": "markdown",
   "metadata": {},
   "source": [
    "## Gráfico de Temporalidad de los último 6 meses de NRO_ACCES_CANAL1"
   ]
  },
  {
   "cell_type": "code",
   "execution_count": null,
   "metadata": {},
   "outputs": [],
   "source": [
    "df = pd.DataFrame(dataset[NRO_ACCES_CANAL1].mean().reset_index(),)\n",
    "df.rename(columns={'index': 'CodMes', 0 : 'Promedio de NRO_ACCES_CANAL1'},inplace=True)\n",
    "df"
   ]
  },
  {
   "cell_type": "code",
   "execution_count": null,
   "metadata": {},
   "outputs": [],
   "source": [
    "plt.figure(figsize=(20,12))\n",
    "sns.lineplot(x='CodMes',y='Promedio de NRO_ACCES_CANAL1', data=df)"
   ]
  },
  {
   "cell_type": "markdown",
   "metadata": {},
   "source": [
    "## Grafíco de calor y tabla de la correlación de Pearson "
   ]
  },
  {
   "cell_type": "code",
   "execution_count": null,
   "metadata": {},
   "outputs": [],
   "source": [
    "dataset[NRO_ACCES_CANAL2].corr(method= 'pearson')"
   ]
  },
  {
   "cell_type": "code",
   "execution_count": null,
   "metadata": {},
   "outputs": [],
   "source": [
    "# Grouped boxplot\n",
    "plt.figure(figsize=(16,8))\n",
    "corr_matrix = dataset[NRO_ACCES_CANAL2].corr()\n",
    "sns.heatmap(corr_matrix,annot=True, fmt=\".1f\") ## Gráfico de calor para las correlaciones"
   ]
  },
  {
   "cell_type": "markdown",
   "metadata": {},
   "source": [
    "## Analizamos el Dataset de Requerimientos"
   ]
  },
  {
   "cell_type": "code",
   "execution_count": null,
   "metadata": {},
   "outputs": [],
   "source": [
    "dataset_req.isnull().sum()"
   ]
  },
  {
   "cell_type": "code",
   "execution_count": null,
   "metadata": {},
   "outputs": [],
   "source": [
    "dataset_req"
   ]
  },
  {
   "cell_type": "markdown",
   "metadata": {},
   "source": [
    "## Feature Engineering de la Tabla Requerimientos"
   ]
  },
  {
   "cell_type": "code",
   "execution_count": null,
   "metadata": {},
   "outputs": [],
   "source": [
    "dataset_req.pivot_table(index='ID_CORRELATIVO',columns=['CODMES'],aggfunc='count').fillna(0)"
   ]
  },
  {
   "cell_type": "markdown",
   "metadata": {},
   "source": [
    "### Tratamiento de valores Nulos\n"
   ]
  },
  {
   "cell_type": "markdown",
   "metadata": {},
   "source": [
    "\n",
    "    Escenario en Variables continuas: Promedio\n",
    "\tEscenario en Variables enteros : Mediana\n",
    "\tEscenario en Variables categóricas : Moda \n"
   ]
  },
  {
   "cell_type": "code",
   "execution_count": null,
   "metadata": {},
   "outputs": [],
   "source": [
    "dataset['EDAD'].isnull().sum()"
   ]
  },
  {
   "cell_type": "code",
   "execution_count": null,
   "metadata": {},
   "outputs": [],
   "source": [
    "dataset['EDAD'].mean()"
   ]
  },
  {
   "cell_type": "code",
   "execution_count": null,
   "metadata": {},
   "outputs": [],
   "source": [
    "dataset['EDAD'].median()"
   ]
  },
  {
   "cell_type": "code",
   "execution_count": null,
   "metadata": {},
   "outputs": [],
   "source": [
    "dataset['EDAD'].head() ##La  variable original"
   ]
  },
  {
   "cell_type": "code",
   "execution_count": null,
   "metadata": {},
   "outputs": [],
   "source": [
    "dataset['EDAD'].fillna(dataset['EDAD'].mean()).head() # Reemplazando la media"
   ]
  },
  {
   "cell_type": "code",
   "execution_count": null,
   "metadata": {},
   "outputs": [],
   "source": [
    "dataset['EDAD'].fillna(dataset['EDAD'].mode()[0]).head() # Reemplazando la mediana\n"
   ]
  },
  {
   "cell_type": "markdown",
   "metadata": {},
   "source": [
    "### Para variables catregóricas aplicamos variables dummys"
   ]
  },
  {
   "cell_type": "code",
   "execution_count": null,
   "metadata": {},
   "outputs": [],
   "source": [
    "x = pd.get_dummies(dataset, columns=['RANG_INGRESO','FLAG_LIMA_PROVINCIA','RANG_SDO_PASIVO_MENOS0','RANG_NRO_PRODUCTOS_MENOS0']) \n",
    "\n"
   ]
  },
  {
   "cell_type": "code",
   "execution_count": null,
   "metadata": {},
   "outputs": [],
   "source": [
    "x.info()"
   ]
  },
  {
   "cell_type": "code",
   "execution_count": null,
   "metadata": {},
   "outputs": [],
   "source": [
    "x.head()"
   ]
  },
  {
   "cell_type": "markdown",
   "metadata": {},
   "source": [
    "### Procesamiento de datos"
   ]
  },
  {
   "cell_type": "code",
   "execution_count": null,
   "metadata": {},
   "outputs": [],
   "source": [
    "## selection of category variables\n",
    "target = 'ATTRITION'\n",
    "exclude = ['ID_CORRELATIVO','CODMES']\n",
    "\n",
    "cols = [x for x in dataset.columns if x not in exclude + [target]]\n",
    "cols_cat = dataset[cols].select_dtypes(['object']).columns.tolist()\n",
    "index_categorical=[cols.index(x) for x in cols_cat]\n",
    "print(exclude, '\\n\\n', index_categorical,cols_cat)\n",
    "\n",
    "\n",
    "## For Training\n",
    "\n",
    "for i in cols_cat:\n",
    "    le = preprocessing.LabelEncoder()\n",
    "    le.fit(list(dataset[i].dropna()))\n",
    "    dataset.loc[~dataset[i].isnull(),i]=le.transform(dataset[i].dropna())\n",
    "\n",
    "dataset[cols].head()"
   ]
  },
  {
   "cell_type": "markdown",
   "metadata": {},
   "source": [
    "### Primeras inputaciones"
   ]
  },
  {
   "cell_type": "code",
   "execution_count": null,
   "metadata": {},
   "outputs": [],
   "source": [
    "### Imputation of the empty data\n",
    "dataset['EDAD'] = dataset['EDAD'].fillna(dataset['EDAD'].mean())\n",
    "dataset['ANTIGUEDAD'] = dataset['ANTIGUEDAD'].fillna(dataset['ANTIGUEDAD'].mean())\n",
    "dataset['RANG_INGRESO'] = dataset['RANG_INGRESO'].fillna(dataset['RANG_INGRESO'].mode()[0])\n",
    "dataset['FLAG_LIMA_PROVINCIA'] = dataset['FLAG_LIMA_PROVINCIA'].fillna(dataset['FLAG_LIMA_PROVINCIA'].mode()[0])"
   ]
  },
  {
   "cell_type": "code",
   "execution_count": null,
   "metadata": {},
   "outputs": [],
   "source": [
    "dataset.isnull().sum().sum()"
   ]
  },
  {
   "cell_type": "markdown",
   "metadata": {},
   "source": [
    "### Logistic Regression"
   ]
  },
  {
   "cell_type": "code",
   "execution_count": null,
   "metadata": {},
   "outputs": [],
   "source": [
    "# Prepare the data\n",
    "from sklearn.model_selection import train_test_split\n",
    "X,y = dataset.drop(['ID_CORRELATIVO', 'CODMES','ATTRITION'], axis=1),dataset[[\"ATTRITION\"]]\n",
    "X_train, X_test, y_train, y_test = train_test_split(X, y,test_size=0.25, random_state=1)\n",
    "\n",
    "# Initialize and fit the model\n",
    "benchmark_model = LogisticRegression()\n",
    "benchmark_model.fit(X_train, y_train)\n",
    "\n",
    "\n",
    "# Separate the features and the target variable\n",
    "predict_train_rl = benchmark_model.predict_proba(X_train)[:,1]\n",
    "predict_test_rl = benchmark_model.predict_proba(X_test)[:,1]\n",
    "\n",
    "\n",
    "# Print scores on both  predict_proba(best_X_train)[:,1]\n",
    "print(\"auc on training in LogisticRegression data : {:.3f}\".format(roc_auc_score(y_train, predict_train_rl) ))\n",
    "print(\"auc on testing in LogisticRegression  data : {:.3f}\".format(roc_auc_score(y_test, predict_test_rl) ))"
   ]
  },
  {
   "cell_type": "markdown",
   "metadata": {},
   "source": [
    "### Decision Tree"
   ]
  },
  {
   "cell_type": "code",
   "execution_count": null,
   "metadata": {},
   "outputs": [],
   "source": [
    "# Prepare the data\n",
    "from sklearn.model_selection import train_test_split\n",
    "X,y = dataset.drop(['ID_CORRELATIVO', 'CODMES','ATTRITION'], axis=1),dataset[[\"ATTRITION\"]]\n",
    "\n",
    "X_train, X_test, y_train, y_test= train_test_split(X, y,test_size=0.25, random_state=1)\n",
    "\n",
    "# Initialize and fit the model\n",
    "benchmark_model = tree.DecisionTreeClassifier()\n",
    "benchmark_model.fit(X_train, y_train)\n",
    "\n",
    "\n",
    "# Separate the features and the target variable\n",
    "predict_train_dt = benchmark_model.predict_proba(X_train)[:,1]\n",
    "predict_test_dt = benchmark_model.predict_proba(X_test)[:,1]\n",
    "\n",
    "\n",
    "# Print scores on both\n",
    "print(\"auc on training in DecisionTree data : {:.3f}\".format(roc_auc_score(y_train, predict_train_dt) ))\n",
    "print(\"auc on testing in DecisionTree  data : {:.3f}\".format(roc_auc_score(y_test, predict_test_dt) ))"
   ]
  },
  {
   "cell_type": "markdown",
   "metadata": {},
   "source": [
    "### Feature Engineering con toda la data completa"
   ]
  },
  {
   "cell_type": "code",
   "execution_count": null,
   "metadata": {},
   "outputs": [],
   "source": [
    "## data \n",
    "dataset = pd.read_csv('train_clientes.csv',sep=';')\n",
    "dataset['ID_CORRELATIVO'] =   dataset['ID_CORRELATIVO'].apply(lambda x: '{0:0>7}'.format(x))\n",
    "dataset = dataset.sort_values(['ID_CORRELATIVO'])\n",
    "\n",
    "## data requerimientos\n",
    "\n",
    "dataset_req = pd.read_csv('train_requerimientos.csv',sep=';')\n",
    "dataset_req['ID_CORRELATIVO'] =   dataset_req['ID_CORRELATIVO'].apply(lambda x: '{0:0>7}'.format(x))\n",
    "dataset_req = dataset_req.sort_values(['ID_CORRELATIVO'])\n",
    "dataset.head()"
   ]
  },
  {
   "cell_type": "code",
   "execution_count": null,
   "metadata": {},
   "outputs": [],
   "source": [
    "## Create the sum of zeros and nulls for each row without taking into account the target.\n",
    "dataset_ = dataset.drop(labels=\"ATTRITION\", axis=1)\n",
    "#dataset.head()\n",
    "dataset['Sum_null'] = dataset.apply(lambda x: x.isnull().sum(), axis=1)\n",
    "dataset['Sum_zero'] = (dataset_ == 0).astype(int).sum(axis=1)\n",
    "\n",
    "\n",
    "## create of new feature in train:\n",
    "## sum\n",
    "dataset[\"SUM_SDO_ACTIVO_MENOS\"] = dataset[\"SDO_ACTIVO_MENOS0\"]+dataset[\"SDO_ACTIVO_MENOS1\"]+dataset[\"SDO_ACTIVO_MENOS2\"]+dataset[\"SDO_ACTIVO_MENOS3\"]+dataset[\"SDO_ACTIVO_MENOS4\"]+dataset[\"SDO_ACTIVO_MENOS5\"]\n",
    "dataset[\"SUM_FLG_SEGURO_MENOS\"] = dataset[\"FLG_SEGURO_MENOS0\"]+dataset[\"FLG_SEGURO_MENOS1\"]+dataset[\"FLG_SEGURO_MENOS2\"]+dataset[\"FLG_SEGURO_MENOS3\"]+dataset[\"FLG_SEGURO_MENOS4\"]+dataset[\"FLG_SEGURO_MENOS5\"]     \n",
    "dataset[\"SUM_NRO_ACCES_CANAL1_MENOS\"] = dataset[\"NRO_ACCES_CANAL1_MENOS0\"]+dataset[\"NRO_ACCES_CANAL1_MENOS1\"]+dataset[\"NRO_ACCES_CANAL1_MENOS2\"]+dataset[\"NRO_ACCES_CANAL1_MENOS3\"]+dataset[\"NRO_ACCES_CANAL1_MENOS4\"]+dataset[\"NRO_ACCES_CANAL1_MENOS5\"]  \n",
    "dataset[\"SUM_NRO_ACCES_CANAL2_MENOS\"] = dataset[\"NRO_ACCES_CANAL2_MENOS0\"]+dataset[\"NRO_ACCES_CANAL2_MENOS1\"]+dataset[\"NRO_ACCES_CANAL2_MENOS2\"]+dataset[\"NRO_ACCES_CANAL2_MENOS3\"]+dataset[\"NRO_ACCES_CANAL2_MENOS4\"]+dataset[\"NRO_ACCES_CANAL2_MENOS5\"]\n",
    "dataset[\"SUM_NRO_ACCES_CANAL3_MENOS\"] = dataset[\"NRO_ACCES_CANAL3_MENOS0\"]+dataset[\"NRO_ACCES_CANAL3_MENOS1\"]+dataset[\"NRO_ACCES_CANAL3_MENOS2\"]+dataset[\"NRO_ACCES_CANAL3_MENOS3\"]+dataset[\"NRO_ACCES_CANAL3_MENOS4\"]+dataset[\"NRO_ACCES_CANAL3_MENOS5\"]\n",
    "dataset[\"SUM_NRO_ENTID_SSFF_MENOS\"] = dataset[\"NRO_ENTID_SSFF_MENOS0\"]+dataset[\"NRO_ENTID_SSFF_MENOS1\"]+dataset[\"NRO_ENTID_SSFF_MENOS2\"]+dataset[\"NRO_ENTID_SSFF_MENOS3\"]+dataset[\"NRO_ENTID_SSFF_MENOS4\"]+dataset[\"NRO_ENTID_SSFF_MENOS5\"]\n",
    "dataset[\"SUM_FLG_SDO_OTSSFF_MENOS\"] = dataset[\"FLG_SDO_OTSSFF_MENOS0\"]+dataset[\"FLG_SDO_OTSSFF_MENOS1\"]+dataset[\"FLG_SDO_OTSSFF_MENOS2\"]+dataset[\"FLG_SDO_OTSSFF_MENOS3\"]+dataset[\"FLG_SDO_OTSSFF_MENOS4\"]+dataset[\"FLG_SDO_OTSSFF_MENOS5\"]\n",
    "\n",
    "#medians and means\n",
    "\n",
    "dataset[\"Median_NRO_ACCES_CANAL1_MENOS\"]  = dataset[[\"NRO_ACCES_CANAL1_MENOS0\",\"NRO_ACCES_CANAL1_MENOS1\",\"NRO_ACCES_CANAL1_MENOS2\",\"NRO_ACCES_CANAL1_MENOS3\",\"NRO_ACCES_CANAL1_MENOS4\",\"NRO_ACCES_CANAL1_MENOS5\"]].median(axis=1)\n",
    "dataset[\"Median_NRO_ACCES_CANAL2_MENOS\"]  = dataset[[\"NRO_ACCES_CANAL2_MENOS0\",\"NRO_ACCES_CANAL2_MENOS1\",\"NRO_ACCES_CANAL2_MENOS2\",\"NRO_ACCES_CANAL2_MENOS3\",\"NRO_ACCES_CANAL2_MENOS4\",\"NRO_ACCES_CANAL2_MENOS5\"]].median(axis=1)\n",
    "dataset[\"Median_NRO_ACCES_CANAL3_MENOS\"]  = dataset[[\"NRO_ACCES_CANAL3_MENOS0\",\"NRO_ACCES_CANAL3_MENOS1\",\"NRO_ACCES_CANAL3_MENOS2\",\"NRO_ACCES_CANAL3_MENOS3\",\"NRO_ACCES_CANAL3_MENOS4\",\"NRO_ACCES_CANAL3_MENOS5\"]].median(axis=1)\n",
    "dataset[\"Mean_NRO_ACCES_CANAL3_MENOS\"]  = dataset[[\"NRO_ACCES_CANAL3_MENOS0\",\"NRO_ACCES_CANAL3_MENOS1\",\"NRO_ACCES_CANAL3_MENOS2\",\"NRO_ACCES_CANAL3_MENOS3\",\"NRO_ACCES_CANAL3_MENOS4\",\"NRO_ACCES_CANAL3_MENOS5\"]].mean(axis=1)\n",
    "dataset[\"Mean_NRO_ACCES_CANAL_MENOS\"] = dataset[[\"NRO_ACCES_CANAL1_MENOS0\",\"NRO_ACCES_CANAL1_MENOS1\",\"NRO_ACCES_CANAL1_MENOS2\",\"NRO_ACCES_CANAL1_MENOS3\",\"NRO_ACCES_CANAL1_MENOS4\",\"NRO_ACCES_CANAL1_MENOS5\",\"NRO_ACCES_CANAL2_MENOS0\",\"NRO_ACCES_CANAL2_MENOS1\",\"NRO_ACCES_CANAL2_MENOS2\",\"NRO_ACCES_CANAL2_MENOS3\",\"NRO_ACCES_CANAL2_MENOS4\",\"NRO_ACCES_CANAL2_MENOS5\",\"NRO_ACCES_CANAL3_MENOS0\",\"NRO_ACCES_CANAL3_MENOS1\",\"NRO_ACCES_CANAL3_MENOS2\",\"NRO_ACCES_CANAL3_MENOS3\",\"NRO_ACCES_CANAL3_MENOS4\",\"NRO_ACCES_CANAL3_MENOS5\"]].mean(axis=1)\n",
    "dataset[\"Median_NRO_ACCES_CANAL_MENOS\"] = dataset[[\"NRO_ACCES_CANAL1_MENOS0\",\"NRO_ACCES_CANAL1_MENOS1\",\"NRO_ACCES_CANAL1_MENOS2\",\"NRO_ACCES_CANAL1_MENOS3\",\"NRO_ACCES_CANAL1_MENOS4\",\"NRO_ACCES_CANAL1_MENOS5\",\"NRO_ACCES_CANAL2_MENOS0\",\"NRO_ACCES_CANAL2_MENOS1\",\"NRO_ACCES_CANAL2_MENOS2\",\"NRO_ACCES_CANAL2_MENOS3\",\"NRO_ACCES_CANAL2_MENOS4\",\"NRO_ACCES_CANAL2_MENOS5\",\"NRO_ACCES_CANAL3_MENOS0\",\"NRO_ACCES_CANAL3_MENOS1\",\"NRO_ACCES_CANAL3_MENOS2\",\"NRO_ACCES_CANAL3_MENOS3\",\"NRO_ACCES_CANAL3_MENOS4\",\"NRO_ACCES_CANAL3_MENOS5\"]].median(axis=1)\n",
    "\n",
    "\n",
    "## selection of category variables\n",
    "target = 'ATTRITION'\n",
    "exclude = ['ID_CORRELATIVO','CODMES']\n",
    "\n",
    "cols = [x for x in dataset.columns if x not in exclude + [target]]\n",
    "cols_cat = dataset[cols].select_dtypes(['object']).columns.tolist()\n",
    "index_categorical=[cols.index(x) for x in cols_cat]\n",
    "print(exclude, '\\n\\n', index_categorical,cols_cat)\n",
    "\n",
    "\n",
    "## For Training\n",
    "\n",
    "for i in cols_cat:\n",
    "    le = preprocessing.LabelEncoder()\n",
    "    le.fit(list(dataset[i].dropna()))\n",
    "    dataset.loc[~dataset[i].isnull(),i]=le.transform(dataset[i].dropna())\n",
    "\n",
    "\n",
    "    \n",
    "### Imputation of the empty data\n",
    "dataset['EDAD'] = dataset['EDAD'].fillna(dataset['EDAD'].mean())\n",
    "dataset['ANTIGUEDAD'] = dataset['ANTIGUEDAD'].fillna(dataset['ANTIGUEDAD'].mean())\n",
    "dataset['EDAD*ANTIGUEDAD'] = dataset['EDAD']*dataset['ANTIGUEDAD']\n",
    "dataset['RANG_INGRESO'] = dataset['RANG_INGRESO'].fillna(dataset['RANG_INGRESO'].mode()[0])\n",
    "dataset['FLAG_LIMA_PROVINCIA'] = dataset['FLAG_LIMA_PROVINCIA'].fillna(dataset['FLAG_LIMA_PROVINCIA'].mode()[0])\n",
    "\n",
    "\n",
    "### Pivot the requirement variables\n",
    "dataset_req = dataset_req.pivot_table(index='ID_CORRELATIVO',columns=['CODMES'],aggfunc='count')\n",
    "\n",
    "dataset_req = dataset_req.fillna(0)\n",
    "\n",
    "## index\n",
    "dataset_req.reset_index(inplace=True)\n",
    "\n",
    "\n",
    "### Union of the dataset with the requirements variables\n",
    "\n",
    "dataset = pd.merge(dataset, dataset_req, on =['ID_CORRELATIVO'],how='left')\n",
    "\n",
    "## cerrar con ceros\n",
    "dataset = dataset.fillna(0)\n",
    "\n",
    "dataset.head()"
   ]
  },
  {
   "cell_type": "code",
   "execution_count": null,
   "metadata": {},
   "outputs": [],
   "source": [
    "dataset.isnull().sum().sum()"
   ]
  },
  {
   "cell_type": "markdown",
   "metadata": {},
   "source": [
    "## Seleccion de variables"
   ]
  },
  {
   "cell_type": "markdown",
   "metadata": {},
   "source": [
    "### Univariate feature selection\n",
    "\n",
    "\n",
    "En la selección de características univariadas, usaremos SelectKBest que elimina todas las características, excepto las más altas Basandonos en la prueba de hipotesis chi-cuadrado. http://scikit-learn.org/stable/modules/generated/sklearn.feature_selection.SelectKBest.html#sklearn.feature_selection.SelectKBest\n"
   ]
  },
  {
   "cell_type": "code",
   "execution_count": null,
   "metadata": {},
   "outputs": [],
   "source": [
    "X,y = dataset.drop(['ID_CORRELATIVO', 'CODMES','ATTRITION'], axis=1),dataset[[\"ATTRITION\"]]"
   ]
  },
  {
   "cell_type": "code",
   "execution_count": null,
   "metadata": {},
   "outputs": [],
   "source": [
    "print(X.shape,y.shape)"
   ]
  },
  {
   "cell_type": "code",
   "execution_count": null,
   "metadata": {},
   "outputs": [],
   "source": [
    "select_feature = SelectKBest(score_func=chi2, k=5).fit(X, y)\n",
    "\n",
    "features = []\n",
    "for feature in zip(X.columns, select_feature.scores_):\n",
    "    features.append(feature)\n",
    "    \n",
    "features_total = pd.DataFrame(features).sort_values(1, ascending=False)\n",
    "features_total.head(20)"
   ]
  },
  {
   "cell_type": "markdown",
   "metadata": {},
   "source": [
    "### Recursive Feature Elimination\n",
    "\n",
    "La eliminación de características recursivas (RFE) funciona mediante la eliminación recursiva de atributos y la construcción de un modelo en los atributos que permanecen.\n",
    "\n",
    "Utiliza la precisión del modelo para identificar qué atributos (y combinación de atributos) contribuyen más a la predicción del atributo objetivo.\n",
    "\n",
    "El siguiente ejemplo usa RFE con el algoritmo de regresión logística para seleccionar las 3 características principales. La elección del algoritmo no importa demasiado, siempre que sea hábil y consistente."
   ]
  },
  {
   "cell_type": "code",
   "execution_count": null,
   "metadata": {
    "scrolled": true
   },
   "outputs": [],
   "source": [
    "# Feature Extraction with RFE\n",
    "model = LogisticRegression()\n",
    "rfe = RFE(model, 20)\n",
    "fit = rfe.fit(X, y)\n",
    "print('Best feature by rfe:',X.columns[rfe.support_])"
   ]
  },
  {
   "cell_type": "markdown",
   "metadata": {},
   "source": [
    "### Recursive feature elimination (RFE) with random forest\n",
    "\n",
    "http://scikit-learn.org/stable/modules/generated/sklearn.feature_selection.RFECV.html Ahora no solo buscaremos las mejores características, sino que también encontraremos la cantidad de características que necesitamos para una mayor precisión."
   ]
  },
  {
   "cell_type": "code",
   "execution_count": null,
   "metadata": {
    "scrolled": true
   },
   "outputs": [],
   "source": [
    "# Create the RFE object and rank each pixel\n",
    "'''\n",
    "clf_rf_3 = RandomForestClassifier()      \n",
    "rfe = RFE(estimator=clf_rf_3, n_features_to_select=20, step=1)\n",
    "rfe = rfe.fit(X, y)\n",
    "\n",
    "print('Best feature by rfe:',X.columns[rfe.support_])\n",
    "'''"
   ]
  },
  {
   "cell_type": "markdown",
   "metadata": {},
   "source": [
    "### Random Forest Features Importance"
   ]
  },
  {
   "cell_type": "code",
   "execution_count": null,
   "metadata": {},
   "outputs": [],
   "source": [
    "### selector de variables\n",
    "rf_clf = RandomForestClassifier(n_estimators=200,random_state =123)\n",
    "\n",
    "# Train the model\n",
    "rf_clf.fit(X.values,y.values.ravel())\n",
    "\n",
    "## ordenando  las mejores variables\n",
    "features = []\n",
    "for feature in zip(X.columns, rf_clf.feature_importances_):\n",
    "    features.append(feature)\n",
    "    \n",
    "features_total = pd.DataFrame(features,columns=['Variables','Gain']).sort_values('Gain', ascending=False)\n",
    "\n",
    "sfm = SelectFromModel(rf_clf, threshold=0.006)\n",
    "\n",
    "# Train the selector\n",
    "sfm.fit(X, y)\n",
    "\n",
    "# Print the names of the most important features\n",
    "\n",
    "variables = []\n",
    "for feature_list_index in sfm.get_support(indices=True):\n",
    "    variables.append(X.columns[feature_list_index])\n",
    "    #variables\n",
    "    \n",
    "#features_total\n",
    "variables"
   ]
  },
  {
   "cell_type": "code",
   "execution_count": 197,
   "metadata": {},
   "outputs": [
    {
     "ename": "NameError",
     "evalue": "name 'variables' is not defined",
     "output_type": "error",
     "traceback": [
      "\u001b[1;31m---------------------------------------------------------------------------\u001b[0m",
      "\u001b[1;31mNameError\u001b[0m                                 Traceback (most recent call last)",
      "Cell \u001b[1;32mIn[197], line 1\u001b[0m\n\u001b[1;32m----> 1\u001b[0m \u001b[38;5;28mlen\u001b[39m(variables)\n",
      "\u001b[1;31mNameError\u001b[0m: name 'variables' is not defined"
     ]
    }
   ],
   "source": [
    "len(variables)"
   ]
  },
  {
   "cell_type": "code",
   "execution_count": null,
   "metadata": {
    "scrolled": false
   },
   "outputs": [],
   "source": [
    "len(features_total)"
   ]
  },
  {
   "cell_type": "markdown",
   "metadata": {},
   "source": [
    "## Construcción de modelos de Machine Learning"
   ]
  },
  {
   "cell_type": "markdown",
   "metadata": {},
   "source": [
    "### Selección de muestras de entrenamiento y validación "
   ]
  },
  {
   "cell_type": "code",
   "execution_count": null,
   "metadata": {},
   "outputs": [],
   "source": [
    "# Prepare the data\n",
    "X,y = dataset.drop(['ID_CORRELATIVO', 'CODMES','ATTRITION'], axis=1),dataset[[\"ATTRITION\"]]\n",
    "X_train, X_test, y_train, y_test= train_test_split(X, y,test_size=0.2, random_state=1)"
   ]
  },
  {
   "cell_type": "code",
   "execution_count": null,
   "metadata": {},
   "outputs": [],
   "source": [
    "## Usando la mejor selecciónde variables\n",
    "best_X_train = X_train[variables]\n",
    "best_X_test  = X_test[variables]"
   ]
  },
  {
   "cell_type": "code",
   "execution_count": null,
   "metadata": {},
   "outputs": [],
   "source": [
    "# Function to fit the classify and record its metrics\n",
    "def pipeline(clas, X_train, y_train, X_test, y_test, **kwargs):\n",
    "    # Dictionary to hold the properties\n",
    "    clas_props = {}\n",
    "    \n",
    "    # Initialize and fit the classify \n",
    "    classify = clas(**kwargs)\n",
    "    classify.fit(best_X_train, y_train)\n",
    "    y_train_pre =  classify.predict_proba(best_X_train)[:,1]\n",
    "    y_test_pre =  classify.predict_proba(best_X_test)[:,1]\n",
    "\n",
    "    \n",
    "    # Store the metrics for the classify\n",
    "    clas_props[\"name\"] = clas.__name__\n",
    "    clas_props[\"train_score\"] = roc_auc_score(y_train, y_train_pre)\n",
    "    clas_props[\"test_score\"] = roc_auc_score(y_test, y_test_pre)\n",
    "    \n",
    "    return clas_props"
   ]
  },
  {
   "cell_type": "code",
   "execution_count": null,
   "metadata": {},
   "outputs": [],
   "source": [
    "def execute_pipeline():\n",
    "    # Create the list of algorithms\n",
    "    classifys = [\n",
    "        LogisticRegression,\n",
    "        DecisionTreeClassifier,\n",
    "        RandomForestClassifier,\n",
    "        XGBClassifier,\n",
    "        LGBMClassifier,\n",
    "        CatBoostClassifier\n",
    "    ]\n",
    "    \n",
    "    # To store the properties for each classify\n",
    "    props = []\n",
    "    \n",
    "    \"\"\"\n",
    "    Iterate thorugh the list of classify,\n",
    "    passing each thorugh the pipeline and\n",
    "    storing its properites\n",
    "    \"\"\" \n",
    "    for clas in classifys:\n",
    "        properites = pipeline(clas, best_X_train, y_train, best_X_test, y_test)\n",
    "        props.append(properites)\n",
    "        \n",
    "    return props"
   ]
  },
  {
   "cell_type": "code",
   "execution_count": null,
   "metadata": {},
   "outputs": [],
   "source": [
    "# Consolidate the properties into a DataFrame\n",
    "def get_properties():\n",
    "    # Obtain the properties after executing the pipeline\n",
    "    properties = execute_pipeline()\n",
    "    \n",
    "    # Extract each individual property of the classify\n",
    "    names = [prop[\"name\"] for prop in properties]\n",
    "    train_scores = [prop[\"train_score\"] for prop in properties]\n",
    "    test_scores = [prop[\"test_score\"] for prop in properties]\n",
    "    \n",
    "    # Create a DataFrame from these properties\n",
    "    df = pd.DataFrame(index=names, \n",
    "                    data = {\n",
    "                            \"Training scores auc\": train_scores,\n",
    "                            \"Testing scores auc\": test_scores,\n",
    "                      }\n",
    "                  )\n",
    "    \n",
    "    return df"
   ]
  },
  {
   "cell_type": "code",
   "execution_count": null,
   "metadata": {
    "scrolled": true
   },
   "outputs": [],
   "source": [
    "properties = get_properties()\n",
    "properties"
   ]
  },
  {
   "cell_type": "code",
   "execution_count": null,
   "metadata": {},
   "outputs": [],
   "source": [
    "# Plot to compare the performance of the algorithms on both datasets\n",
    "ax = properties[[\"Training scores auc\", \"Testing scores auc\"]].plot(kind=\"bar\",title=\"Performance de los Modelos de Clasificación\", figsize=(16, 8))\n",
    "ax.set_ylabel(\"AUC Score\", fontsize=\"large\")"
   ]
  },
  {
   "cell_type": "markdown",
   "metadata": {},
   "source": [
    "## Métricas de Evaluación para Clasificación para el  Modelo LightGBM"
   ]
  },
  {
   "cell_type": "code",
   "execution_count": null,
   "metadata": {},
   "outputs": [],
   "source": [
    "from time import time\n",
    "\n",
    "# Initialize and fit the model\n",
    "best_model = LGBMClassifier() \n",
    "best_model.fit(best_X_train, y_train)\n",
    "\n",
    "\n",
    "# Separate the features and the target variable\n",
    "predict_train_lg = best_model.predict_proba(best_X_train)[:,1]\n",
    "predict_test_lg = best_model.predict_proba(best_X_test)[:,1]\n",
    "\n",
    "\n",
    "# Print scores on both\n",
    "print(\"auc o Roc on training in LGBMClassifier data : {:.3f}\".format(roc_auc_score(y_train, predict_train_lg)))\n",
    "print(\"auc o Roc on testing in LGBMClassifier  data : {:.3f}\".format(roc_auc_score(y_test, predict_test_lg))) "
   ]
  },
  {
   "cell_type": "code",
   "execution_count": null,
   "metadata": {},
   "outputs": [],
   "source": [
    "predict_lg_test = best_model.predict(best_X_test)\n",
    "cm=confusion_matrix(y_test, predict_lg_test)\n",
    "cm"
   ]
  },
  {
   "cell_type": "code",
   "execution_count": null,
   "metadata": {},
   "outputs": [],
   "source": [
    "predict_lg_test"
   ]
  },
  {
   "cell_type": "code",
   "execution_count": null,
   "metadata": {},
   "outputs": [],
   "source": [
    "## Metricas de Validación manual\n",
    "predict_lg_test = best_model.predict(best_X_test)\n",
    "cm=confusion_matrix(y_test, predict_lg_test)\n",
    "\n",
    "\n",
    "TN = cm[0][0]\n",
    "FN = cm[1][0]\n",
    "TP = cm[1][1]\n",
    "FP = cm[0][1]\n",
    "\n",
    "ACC = accuracy_score(y_test, predict_lg_test)\n",
    "\n",
    "# Sensitivity, hit rate, recall, or true positive rate\n",
    "TPR = TP/(TP+FN)\n",
    "# Specificity or true negative rate\n",
    "TNR = TN/(TN+FP) \n",
    "# Precision or positive predictive value\n",
    "PPV = TP/(TP+FP)\n",
    "# Negative predictive value\n",
    "NPV = TN/(TN+FN)\n",
    "\n",
    "# Overall accuracy\n",
    "ACC = (TP+TN)/(TP+FP+FN+TN)\n",
    "AUC = roc_auc_score(y_test, predict_test_lg)\n",
    "GINI = 2*(AUC-0.5)\n",
    "\n",
    "print(\"AUC : {:.3f}\".format(AUC))\n",
    "print(\"INDICE DE GINI : {:.3f}\".format(GINI))\n",
    "print(\"ACCURACY : {:.3f}\".format(ACC))\n",
    "print(\"SENSIBILIDAD O RECALL: {:.3f}\".format(TPR))\n",
    "print(\"ESPECIFICIDAD : {:.3f}\".format(TPR))\n",
    "print(\"PPV O PRECISION : {:.3f}\".format(PPV))\n",
    "print(\"NPV : {:.3f}\".format(NPV))"
   ]
  },
  {
   "cell_type": "code",
   "execution_count": null,
   "metadata": {},
   "outputs": [],
   "source": [
    "best_model = LGBMClassifier() \n",
    "best_model.fit(best_X_train, y_train)"
   ]
  },
  {
   "cell_type": "code",
   "execution_count": null,
   "metadata": {},
   "outputs": [],
   "source": [
    "predict_lg_test = best_model.predict(best_X_test)"
   ]
  },
  {
   "cell_type": "code",
   "execution_count": null,
   "metadata": {},
   "outputs": [],
   "source": [
    "print(metrics.classification_report(y_test, predict_lg_test))"
   ]
  },
  {
   "cell_type": "markdown",
   "metadata": {},
   "source": [
    "## Cross Validation and Optimización de Modelos "
   ]
  },
  {
   "cell_type": "code",
   "execution_count": null,
   "metadata": {},
   "outputs": [],
   "source": [
    "from pprint import pprint\n",
    "# Look at parameters used by our current forest\n",
    "print('Parameters currently in use:\\n')\n",
    "pprint(best_model.get_params()) "
   ]
  },
  {
   "cell_type": "markdown",
   "metadata": {},
   "source": [
    "## Random Hyperparameter Grid"
   ]
  },
  {
   "cell_type": "code",
   "execution_count": null,
   "metadata": {},
   "outputs": [],
   "source": [
    "# Number of trees in random forest\n",
    "iterations = [int(x) for x in np.linspace(start = 500, stop = 2500, num = 10)]\n",
    "# Metrics eval\n",
    "colsample_bytree = [0.6, 0.7, 0.8 , 0.9, 1]\n",
    "# Maximum number of levels in tree\n",
    "max_depth = [int(x) for x in np.linspace(3, 10, num = 5)]\n",
    "max_depth.append(None)\n",
    "# Method of selecting samples for training each tree\n",
    "learning_rate = [0.05, 0.1, 0.15 ,0.2]\n",
    "# Create the random grid\n",
    "random_grid = {'iterations': iterations,\n",
    "               'colsample_bytree': colsample_bytree,\n",
    "               'max_depth': max_depth,\n",
    "               'learning_rate': learning_rate}\n",
    "pprint(random_grid)"
   ]
  },
  {
   "cell_type": "code",
   "execution_count": null,
   "metadata": {},
   "outputs": [],
   "source": [
    "best_X_train.columns"
   ]
  },
  {
   "cell_type": "code",
   "execution_count": null,
   "metadata": {},
   "outputs": [],
   "source": [
    "best_X= X[variables]\n",
    "best_X.columns"
   ]
  },
  {
   "cell_type": "code",
   "execution_count": null,
   "metadata": {},
   "outputs": [],
   "source": [
    "# Use the random grid to search for best hyperparameters\n",
    "# First create the base model to tune\n",
    "lgb = LGBMClassifier()\n",
    "# Random search of parameters, using 5 fold cross validation, \n",
    "# search across 50 different combinations, and use all available cores\n",
    "lgb_random = RandomizedSearchCV(estimator = lgb, param_distributions = random_grid, n_iter = 10, cv = 5, verbose=2, random_state=1416, n_jobs = -1)\n",
    "# Fit the random search model\n",
    "lgb_random.fit(best_X, y)"
   ]
  },
  {
   "cell_type": "code",
   "execution_count": null,
   "metadata": {},
   "outputs": [],
   "source": [
    "lgb_random.best_params_"
   ]
  },
  {
   "cell_type": "code",
   "execution_count": null,
   "metadata": {},
   "outputs": [],
   "source": [
    "def evaluate(model, test_features, test_labels):\n",
    "    predictions = model.predict(test_features)\n",
    "    accuracy = accuracy_score(test_labels,predictions)\n",
    "    print('Model Performance')\n",
    "    print('Accuracy = {:.12g}%.'.format(accuracy))\n",
    "    return accuracy"
   ]
  },
  {
   "cell_type": "code",
   "execution_count": null,
   "metadata": {},
   "outputs": [],
   "source": [
    "base_model = LGBMClassifier()\n",
    "base_model.fit(best_X_train, y_train)\n",
    "base_accuracy = evaluate(base_model, best_X_test, y_test)\n",
    "\n",
    "best_random = lgb_random.best_estimator_\n",
    "best_random.fit(best_X_train, y_train)\n",
    "random_accuracy = evaluate(best_random, best_X_test, y_test)\n",
    "print('Improvement of {:.12g}%.'.format( 100 * (random_accuracy - base_accuracy) / base_accuracy))"
   ]
  },
  {
   "cell_type": "markdown",
   "metadata": {},
   "source": [
    "## Grid Search with Cross Validation"
   ]
  },
  {
   "cell_type": "code",
   "execution_count": null,
   "metadata": {},
   "outputs": [],
   "source": [
    "# Number of trees in random forest\n",
    "iterations = [300, 400, 500, 600]\n",
    "# Metrics eval\n",
    "colsample_bytree = [0.7, 0.8, 0.9]\n",
    "# Maximum number of levels in tree\n",
    "max_depth = [3, 4, 6, 8]\n",
    "# Method of selecting samples for training each tree\n",
    "learning_rate = [0.1, 0.15 ,0.2]\n",
    "# Create the random grid\n",
    "param_grid = {'iterations': iterations,\n",
    "               'colsample_bytree': colsample_bytree,\n",
    "               'max_depth': max_depth,\n",
    "               'learning_rate': learning_rate}\n",
    "pprint(param_grid)"
   ]
  },
  {
   "cell_type": "code",
   "execution_count": null,
   "metadata": {},
   "outputs": [],
   "source": [
    "# Create a based model\n",
    "lgb = LGBMClassifier()\n",
    "# Instantiate the grid search model\n",
    "grid_search = GridSearchCV(estimator = lgb, param_grid = param_grid, cv = 5, n_jobs = -1, verbose = 2)\n",
    "# Fit the grid search to the data\n",
    "grid_search.fit(best_X, y)\n",
    "grid_search.best_params_"
   ]
  },
  {
   "cell_type": "code",
   "execution_count": null,
   "metadata": {},
   "outputs": [],
   "source": [
    "best_grid = grid_search.best_estimator_\n",
    "grid_accuracy = evaluate(best_grid, best_X_test, y_test)\n",
    "print('Improvement of {:.12g}%.'.format( 100 * (grid_accuracy - base_accuracy) / base_accuracy))"
   ]
  },
  {
   "cell_type": "code",
   "execution_count": null,
   "metadata": {},
   "outputs": [],
   "source": []
  },
  {
   "cell_type": "code",
   "execution_count": null,
   "metadata": {},
   "outputs": [],
   "source": []
  }
 ],
 "metadata": {
  "kernelspec": {
   "display_name": "Python 3 (ipykernel)",
   "language": "python",
   "name": "python3"
  },
  "language_info": {
   "codemirror_mode": {
    "name": "ipython",
    "version": 3
   },
   "file_extension": ".py",
   "mimetype": "text/x-python",
   "name": "python",
   "nbconvert_exporter": "python",
   "pygments_lexer": "ipython3",
   "version": "3.11.5"
  }
 },
 "nbformat": 4,
 "nbformat_minor": 2
}
