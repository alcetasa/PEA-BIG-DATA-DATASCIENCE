{
 "cells": [
  {
   "cell_type": "markdown",
   "id": "e779ec09",
   "metadata": {},
   "source": [
    "# TAREA SEMANAL "
   ]
  },
  {
   "cell_type": "markdown",
   "id": "db8968ee",
   "metadata": {},
   "source": [
    "##  Alvaro Cesar Tauma Salvador "
   ]
  },
  {
   "cell_type": "markdown",
   "id": "af0d8807",
   "metadata": {},
   "source": [
    "* Generar nuevas transformaciones para optimizar al modelo (ejemplo: Dummizar la variable Marca, eliminar outliers, eliminar las variables con alto p_value, etc.).\n",
    "\n",
    "* Usar otro método de suavizamiento al target.\n",
    "\n",
    "* Usar otros modelos bases para comparar al modelo (ya se usaron: Lineal, Ridge, Laso y Elastic Net)\n",
    "\n",
    "* Usar optimizadores para ajustar buenos parámetros a los modelos que se usaran (incluir a Ridge, Lasso y ElasticNet), mostrando cuales son sus resultados.\n"
   ]
  },
  {
   "cell_type": "code",
   "execution_count": 1073,
   "id": "84db40c3",
   "metadata": {},
   "outputs": [],
   "source": [
    "#!pip install statsmodels"
   ]
  },
  {
   "cell_type": "code",
   "execution_count": 1074,
   "id": "743f9809",
   "metadata": {},
   "outputs": [],
   "source": [
    "# Import necessary libs\n",
    "\n",
    "import pandas as pd\n",
    "import numpy as np\n",
    "from sklearn import preprocessing\n",
    "from math import sqrt\n",
    "\n",
    "import warnings\n",
    "warnings.filterwarnings('ignore')\n",
    "from scipy import stats\n",
    "\n",
    "## Modelos de regresion\n",
    "from sklearn import model_selection\n",
    "from sklearn.linear_model import LinearRegression\n",
    "from sklearn.linear_model import Ridge\n",
    "from sklearn.linear_model import Lasso\n",
    "from sklearn.linear_model import ElasticNet\n",
    "import statsmodels.api as sm           \n",
    "import statsmodels.formula.api as smf  \n",
    "\n",
    "# visualization\n",
    "import seaborn as sns\n",
    "import matplotlib.pyplot as plt\n",
    "\n",
    "#Metricas de evaluación\n",
    "from sklearn.metrics import mean_squared_error\n",
    "from sklearn import metrics\n",
    "from sklearn.metrics import r2_score\n",
    "\n",
    "#separar train and test\n",
    "from sklearn.model_selection import train_test_split\n",
    "\n",
    "# estadística y matemáticas\n",
    "#import pandas as pd\n",
    "import scipy.stats as scy\n",
    "from scipy.stats import kurtosis"
   ]
  },
  {
   "cell_type": "markdown",
   "id": "6badfc86",
   "metadata": {},
   "source": [
    "## Lectura de datos"
   ]
  },
  {
   "cell_type": "code",
   "execution_count": 1075,
   "id": "572ff28c",
   "metadata": {},
   "outputs": [
    {
     "data": {
      "text/html": [
       "<div>\n",
       "<style scoped>\n",
       "    .dataframe tbody tr th:only-of-type {\n",
       "        vertical-align: middle;\n",
       "    }\n",
       "\n",
       "    .dataframe tbody tr th {\n",
       "        vertical-align: top;\n",
       "    }\n",
       "\n",
       "    .dataframe thead th {\n",
       "        text-align: right;\n",
       "    }\n",
       "</style>\n",
       "<table border=\"1\" class=\"dataframe\">\n",
       "  <thead>\n",
       "    <tr style=\"text-align: right;\">\n",
       "      <th></th>\n",
       "      <th>tiempo</th>\n",
       "      <th>Costo</th>\n",
       "      <th>PrecioOfertaProm</th>\n",
       "      <th>NroTipoOfertas</th>\n",
       "      <th>Marca</th>\n",
       "      <th>CantOfertas</th>\n",
       "      <th>MaxDescuento%</th>\n",
       "      <th>minDescuento%</th>\n",
       "      <th>FactordeDescuentos</th>\n",
       "      <th>FlagCampana</th>\n",
       "      <th>TieneUbicacionEspecifica</th>\n",
       "      <th>UnidadesDemandas</th>\n",
       "    </tr>\n",
       "  </thead>\n",
       "  <tbody>\n",
       "    <tr>\n",
       "      <th>0</th>\n",
       "      <td>01/01/2005</td>\n",
       "      <td>45.08</td>\n",
       "      <td>19.9</td>\n",
       "      <td>1</td>\n",
       "      <td>B</td>\n",
       "      <td>1</td>\n",
       "      <td>0.585294</td>\n",
       "      <td>0.000000</td>\n",
       "      <td>0.000000</td>\n",
       "      <td>0</td>\n",
       "      <td>0</td>\n",
       "      <td>2032</td>\n",
       "    </tr>\n",
       "    <tr>\n",
       "      <th>1</th>\n",
       "      <td>02/01/2005</td>\n",
       "      <td>24.56</td>\n",
       "      <td>69.9</td>\n",
       "      <td>1</td>\n",
       "      <td>A</td>\n",
       "      <td>1</td>\n",
       "      <td>0.499286</td>\n",
       "      <td>0.000000</td>\n",
       "      <td>0.000000</td>\n",
       "      <td>0</td>\n",
       "      <td>0</td>\n",
       "      <td>603</td>\n",
       "    </tr>\n",
       "    <tr>\n",
       "      <th>2</th>\n",
       "      <td>03/01/2005</td>\n",
       "      <td>104.01</td>\n",
       "      <td>41.9</td>\n",
       "      <td>1</td>\n",
       "      <td>D</td>\n",
       "      <td>1</td>\n",
       "      <td>0.487209</td>\n",
       "      <td>0.000000</td>\n",
       "      <td>0.000000</td>\n",
       "      <td>0</td>\n",
       "      <td>0</td>\n",
       "      <td>10819</td>\n",
       "    </tr>\n",
       "    <tr>\n",
       "      <th>3</th>\n",
       "      <td>04/01/2005</td>\n",
       "      <td>59.23</td>\n",
       "      <td>33.9</td>\n",
       "      <td>1</td>\n",
       "      <td>B</td>\n",
       "      <td>1</td>\n",
       "      <td>0.498529</td>\n",
       "      <td>0.000000</td>\n",
       "      <td>0.000000</td>\n",
       "      <td>0</td>\n",
       "      <td>0</td>\n",
       "      <td>3508</td>\n",
       "    </tr>\n",
       "    <tr>\n",
       "      <th>4</th>\n",
       "      <td>05/01/2005</td>\n",
       "      <td>24.74</td>\n",
       "      <td>85.0</td>\n",
       "      <td>1</td>\n",
       "      <td>A</td>\n",
       "      <td>1</td>\n",
       "      <td>0.500000</td>\n",
       "      <td>0.000000</td>\n",
       "      <td>0.000000</td>\n",
       "      <td>0</td>\n",
       "      <td>0</td>\n",
       "      <td>612</td>\n",
       "    </tr>\n",
       "    <tr>\n",
       "      <th>...</th>\n",
       "      <td>...</td>\n",
       "      <td>...</td>\n",
       "      <td>...</td>\n",
       "      <td>...</td>\n",
       "      <td>...</td>\n",
       "      <td>...</td>\n",
       "      <td>...</td>\n",
       "      <td>...</td>\n",
       "      <td>...</td>\n",
       "      <td>...</td>\n",
       "      <td>...</td>\n",
       "      <td>...</td>\n",
       "    </tr>\n",
       "    <tr>\n",
       "      <th>3842</th>\n",
       "      <td>19/07/2015</td>\n",
       "      <td>14.93</td>\n",
       "      <td>22.9</td>\n",
       "      <td>1</td>\n",
       "      <td>B</td>\n",
       "      <td>1</td>\n",
       "      <td>0.497826</td>\n",
       "      <td>0.000000</td>\n",
       "      <td>0.000000</td>\n",
       "      <td>0</td>\n",
       "      <td>0</td>\n",
       "      <td>1765</td>\n",
       "    </tr>\n",
       "    <tr>\n",
       "      <th>3843</th>\n",
       "      <td>20/07/2015</td>\n",
       "      <td>31.43</td>\n",
       "      <td>49.9</td>\n",
       "      <td>1</td>\n",
       "      <td>A</td>\n",
       "      <td>1</td>\n",
       "      <td>0.631646</td>\n",
       "      <td>0.000000</td>\n",
       "      <td>0.000000</td>\n",
       "      <td>0</td>\n",
       "      <td>0</td>\n",
       "      <td>352</td>\n",
       "    </tr>\n",
       "    <tr>\n",
       "      <th>3844</th>\n",
       "      <td>21/07/2015</td>\n",
       "      <td>58.06</td>\n",
       "      <td>22.9</td>\n",
       "      <td>1</td>\n",
       "      <td>B</td>\n",
       "      <td>1</td>\n",
       "      <td>0.636111</td>\n",
       "      <td>0.000000</td>\n",
       "      <td>0.000000</td>\n",
       "      <td>0</td>\n",
       "      <td>0</td>\n",
       "      <td>1203</td>\n",
       "    </tr>\n",
       "    <tr>\n",
       "      <th>3845</th>\n",
       "      <td>22/07/2015</td>\n",
       "      <td>31.84</td>\n",
       "      <td>41.9</td>\n",
       "      <td>1</td>\n",
       "      <td>A</td>\n",
       "      <td>1</td>\n",
       "      <td>0.644615</td>\n",
       "      <td>0.000000</td>\n",
       "      <td>0.000000</td>\n",
       "      <td>0</td>\n",
       "      <td>0</td>\n",
       "      <td>222</td>\n",
       "    </tr>\n",
       "    <tr>\n",
       "      <th>3846</th>\n",
       "      <td>23/07/2015</td>\n",
       "      <td>33.51</td>\n",
       "      <td>44.4</td>\n",
       "      <td>2</td>\n",
       "      <td>D</td>\n",
       "      <td>1</td>\n",
       "      <td>0.638372</td>\n",
       "      <td>0.394186</td>\n",
       "      <td>0.251637</td>\n",
       "      <td>0</td>\n",
       "      <td>0</td>\n",
       "      <td>15930</td>\n",
       "    </tr>\n",
       "  </tbody>\n",
       "</table>\n",
       "<p>3847 rows × 12 columns</p>\n",
       "</div>"
      ],
      "text/plain": [
       "          tiempo   Costo  PrecioOfertaProm  NroTipoOfertas Marca  CantOfertas  \\\n",
       "0     01/01/2005   45.08              19.9               1     B            1   \n",
       "1     02/01/2005   24.56              69.9               1     A            1   \n",
       "2     03/01/2005  104.01              41.9               1     D            1   \n",
       "3     04/01/2005   59.23              33.9               1     B            1   \n",
       "4     05/01/2005   24.74              85.0               1     A            1   \n",
       "...          ...     ...               ...             ...   ...          ...   \n",
       "3842  19/07/2015   14.93              22.9               1     B            1   \n",
       "3843  20/07/2015   31.43              49.9               1     A            1   \n",
       "3844  21/07/2015   58.06              22.9               1     B            1   \n",
       "3845  22/07/2015   31.84              41.9               1     A            1   \n",
       "3846  23/07/2015   33.51              44.4               2     D            1   \n",
       "\n",
       "      MaxDescuento%  minDescuento%  FactordeDescuentos  FlagCampana  \\\n",
       "0          0.585294       0.000000            0.000000            0   \n",
       "1          0.499286       0.000000            0.000000            0   \n",
       "2          0.487209       0.000000            0.000000            0   \n",
       "3          0.498529       0.000000            0.000000            0   \n",
       "4          0.500000       0.000000            0.000000            0   \n",
       "...             ...            ...                 ...          ...   \n",
       "3842       0.497826       0.000000            0.000000            0   \n",
       "3843       0.631646       0.000000            0.000000            0   \n",
       "3844       0.636111       0.000000            0.000000            0   \n",
       "3845       0.644615       0.000000            0.000000            0   \n",
       "3846       0.638372       0.394186            0.251637            0   \n",
       "\n",
       "      TieneUbicacionEspecifica  UnidadesDemandas  \n",
       "0                            0              2032  \n",
       "1                            0               603  \n",
       "2                            0             10819  \n",
       "3                            0              3508  \n",
       "4                            0               612  \n",
       "...                        ...               ...  \n",
       "3842                         0              1765  \n",
       "3843                         0               352  \n",
       "3844                         0              1203  \n",
       "3845                         0               222  \n",
       "3846                         0             15930  \n",
       "\n",
       "[3847 rows x 12 columns]"
      ]
     },
     "execution_count": 1075,
     "metadata": {},
     "output_type": "execute_result"
    }
   ],
   "source": [
    "dataset = pd.read_csv('demanda_data.csv',sep=';',parse_dates = ['tiempo'])\n",
    "dataset\n"
   ]
  },
  {
   "cell_type": "markdown",
   "id": "fc5be1a2",
   "metadata": {},
   "source": [
    "## Análisis Exploratorio de los Datos (EDA)"
   ]
  },
  {
   "cell_type": "code",
   "execution_count": 1076,
   "id": "757f2754",
   "metadata": {},
   "outputs": [
    {
     "name": "stdout",
     "output_type": "stream",
     "text": [
      "<class 'pandas.core.frame.DataFrame'>\n",
      "RangeIndex: 3847 entries, 0 to 3846\n",
      "Data columns (total 12 columns):\n",
      " #   Column                    Non-Null Count  Dtype  \n",
      "---  ------                    --------------  -----  \n",
      " 0   tiempo                    3847 non-null   object \n",
      " 1   Costo                     3847 non-null   float64\n",
      " 2   PrecioOfertaProm          3847 non-null   float64\n",
      " 3   NroTipoOfertas            3847 non-null   int64  \n",
      " 4   Marca                     3847 non-null   object \n",
      " 5   CantOfertas               3847 non-null   int64  \n",
      " 6   MaxDescuento%             3847 non-null   float64\n",
      " 7   minDescuento%             3847 non-null   float64\n",
      " 8   FactordeDescuentos        3847 non-null   float64\n",
      " 9   FlagCampana               3847 non-null   int64  \n",
      " 10  TieneUbicacionEspecifica  3847 non-null   int64  \n",
      " 11  UnidadesDemandas          3847 non-null   int64  \n",
      "dtypes: float64(5), int64(5), object(2)\n",
      "memory usage: 360.8+ KB\n"
     ]
    }
   ],
   "source": [
    "dataset.info()"
   ]
  },
  {
   "cell_type": "code",
   "execution_count": 1077,
   "id": "9cd8cd20",
   "metadata": {},
   "outputs": [
    {
     "data": {
      "text/plain": [
       "(3847, 12)"
      ]
     },
     "execution_count": 1077,
     "metadata": {},
     "output_type": "execute_result"
    }
   ],
   "source": [
    "dataset.shape"
   ]
  },
  {
   "cell_type": "markdown",
   "id": "0f0d0552",
   "metadata": {},
   "source": [
    "## Preprocesmiento de la data"
   ]
  },
  {
   "cell_type": "code",
   "execution_count": 1078,
   "id": "3ca4ef9a",
   "metadata": {},
   "outputs": [
    {
     "name": "stdout",
     "output_type": "stream",
     "text": [
      "['tiempo'] \n",
      "\n",
      " [3] ['Marca']\n"
     ]
    },
    {
     "data": {
      "text/html": [
       "<div>\n",
       "<style scoped>\n",
       "    .dataframe tbody tr th:only-of-type {\n",
       "        vertical-align: middle;\n",
       "    }\n",
       "\n",
       "    .dataframe tbody tr th {\n",
       "        vertical-align: top;\n",
       "    }\n",
       "\n",
       "    .dataframe thead th {\n",
       "        text-align: right;\n",
       "    }\n",
       "</style>\n",
       "<table border=\"1\" class=\"dataframe\">\n",
       "  <thead>\n",
       "    <tr style=\"text-align: right;\">\n",
       "      <th></th>\n",
       "      <th>Costo</th>\n",
       "      <th>PrecioOfertaProm</th>\n",
       "      <th>NroTipoOfertas</th>\n",
       "      <th>Marca</th>\n",
       "      <th>CantOfertas</th>\n",
       "      <th>MaxDescuento%</th>\n",
       "      <th>minDescuento%</th>\n",
       "      <th>FactordeDescuentos</th>\n",
       "      <th>FlagCampana</th>\n",
       "      <th>TieneUbicacionEspecifica</th>\n",
       "    </tr>\n",
       "  </thead>\n",
       "  <tbody>\n",
       "    <tr>\n",
       "      <th>0</th>\n",
       "      <td>45.08</td>\n",
       "      <td>19.9</td>\n",
       "      <td>1</td>\n",
       "      <td>1</td>\n",
       "      <td>1</td>\n",
       "      <td>0.585294</td>\n",
       "      <td>0.0</td>\n",
       "      <td>0.0</td>\n",
       "      <td>0</td>\n",
       "      <td>0</td>\n",
       "    </tr>\n",
       "    <tr>\n",
       "      <th>1</th>\n",
       "      <td>24.56</td>\n",
       "      <td>69.9</td>\n",
       "      <td>1</td>\n",
       "      <td>0</td>\n",
       "      <td>1</td>\n",
       "      <td>0.499286</td>\n",
       "      <td>0.0</td>\n",
       "      <td>0.0</td>\n",
       "      <td>0</td>\n",
       "      <td>0</td>\n",
       "    </tr>\n",
       "    <tr>\n",
       "      <th>2</th>\n",
       "      <td>104.01</td>\n",
       "      <td>41.9</td>\n",
       "      <td>1</td>\n",
       "      <td>3</td>\n",
       "      <td>1</td>\n",
       "      <td>0.487209</td>\n",
       "      <td>0.0</td>\n",
       "      <td>0.0</td>\n",
       "      <td>0</td>\n",
       "      <td>0</td>\n",
       "    </tr>\n",
       "    <tr>\n",
       "      <th>3</th>\n",
       "      <td>59.23</td>\n",
       "      <td>33.9</td>\n",
       "      <td>1</td>\n",
       "      <td>1</td>\n",
       "      <td>1</td>\n",
       "      <td>0.498529</td>\n",
       "      <td>0.0</td>\n",
       "      <td>0.0</td>\n",
       "      <td>0</td>\n",
       "      <td>0</td>\n",
       "    </tr>\n",
       "    <tr>\n",
       "      <th>4</th>\n",
       "      <td>24.74</td>\n",
       "      <td>85.0</td>\n",
       "      <td>1</td>\n",
       "      <td>0</td>\n",
       "      <td>1</td>\n",
       "      <td>0.500000</td>\n",
       "      <td>0.0</td>\n",
       "      <td>0.0</td>\n",
       "      <td>0</td>\n",
       "      <td>0</td>\n",
       "    </tr>\n",
       "  </tbody>\n",
       "</table>\n",
       "</div>"
      ],
      "text/plain": [
       "    Costo  PrecioOfertaProm  NroTipoOfertas Marca  CantOfertas  MaxDescuento%  \\\n",
       "0   45.08              19.9               1     1            1       0.585294   \n",
       "1   24.56              69.9               1     0            1       0.499286   \n",
       "2  104.01              41.9               1     3            1       0.487209   \n",
       "3   59.23              33.9               1     1            1       0.498529   \n",
       "4   24.74              85.0               1     0            1       0.500000   \n",
       "\n",
       "   minDescuento%  FactordeDescuentos  FlagCampana  TieneUbicacionEspecifica  \n",
       "0            0.0                 0.0            0                         0  \n",
       "1            0.0                 0.0            0                         0  \n",
       "2            0.0                 0.0            0                         0  \n",
       "3            0.0                 0.0            0                         0  \n",
       "4            0.0                 0.0            0                         0  "
      ]
     },
     "execution_count": 1078,
     "metadata": {},
     "output_type": "execute_result"
    }
   ],
   "source": [
    "# Selección de variables categóricas\n",
    "target = 'UnidadesDemandas'\n",
    "exclude = ['tiempo']\n",
    "\n",
    "# Obtener columnas que no son 'tiempo' ni la variable objetivo 'UnidadesDemandas'\n",
    "cols = [x for x in dataset.columns \n",
    "        if x not in exclude + [target]]\n",
    "\n",
    "# Filtrar columnas que son de tipo 'object' (categóricas)\n",
    "cols_cat = dataset[cols].select_dtypes(['object']).columns.tolist()\n",
    "\n",
    "# Obtener índices y nombres de las columnas categóricas\n",
    "index_categorical = [cols.index(x) for x in cols_cat]\n",
    "print(exclude, '\\n\\n', index_categorical, cols_cat)\n",
    "\n",
    "# Para entrenamiento\n",
    "for i in cols_cat:\n",
    "    # Inicializar y ajustar un LabelEncoder para cada columna categórica\n",
    "    le = preprocessing.LabelEncoder()\n",
    "    le.fit(list(dataset[i].dropna()))\n",
    "\n",
    "    # Transformar los valores no nulos en la columna con el LabelEncoder ajustado\n",
    "    dataset.loc[~dataset[i].isnull(), i] = le.transform(dataset[i].dropna())\n",
    "\n",
    "# Mostrar las primeras filas del conjunto de datos modificado\n",
    "dataset[cols].head()"
   ]
  },
  {
   "cell_type": "code",
   "execution_count": 1079,
   "id": "ce7414c0",
   "metadata": {},
   "outputs": [],
   "source": [
    "# Convertir la columna 'Marca' a tipo int64\n",
    "dataset['Marca'] = dataset['Marca'].astype('int64')"
   ]
  },
  {
   "cell_type": "code",
   "execution_count": 1080,
   "id": "968247fd",
   "metadata": {},
   "outputs": [
    {
     "data": {
      "text/plain": [
       "0"
      ]
     },
     "execution_count": 1080,
     "metadata": {},
     "output_type": "execute_result"
    }
   ],
   "source": [
    "dataset.isnull().sum().sum()"
   ]
  },
  {
   "cell_type": "code",
   "execution_count": 1081,
   "id": "106b758d",
   "metadata": {},
   "outputs": [
    {
     "name": "stdout",
     "output_type": "stream",
     "text": [
      "<class 'pandas.core.frame.DataFrame'>\n",
      "RangeIndex: 3847 entries, 0 to 3846\n",
      "Data columns (total 12 columns):\n",
      " #   Column                    Non-Null Count  Dtype  \n",
      "---  ------                    --------------  -----  \n",
      " 0   tiempo                    3847 non-null   object \n",
      " 1   Costo                     3847 non-null   float64\n",
      " 2   PrecioOfertaProm          3847 non-null   float64\n",
      " 3   NroTipoOfertas            3847 non-null   int64  \n",
      " 4   Marca                     3847 non-null   int64  \n",
      " 5   CantOfertas               3847 non-null   int64  \n",
      " 6   MaxDescuento%             3847 non-null   float64\n",
      " 7   minDescuento%             3847 non-null   float64\n",
      " 8   FactordeDescuentos        3847 non-null   float64\n",
      " 9   FlagCampana               3847 non-null   int64  \n",
      " 10  TieneUbicacionEspecifica  3847 non-null   int64  \n",
      " 11  UnidadesDemandas          3847 non-null   int64  \n",
      "dtypes: float64(5), int64(6), object(1)\n",
      "memory usage: 360.8+ KB\n"
     ]
    }
   ],
   "source": [
    "dataset.info()"
   ]
  },
  {
   "cell_type": "code",
   "execution_count": 1082,
   "id": "8596eba0",
   "metadata": {},
   "outputs": [
    {
     "data": {
      "text/html": [
       "<div>\n",
       "<style scoped>\n",
       "    .dataframe tbody tr th:only-of-type {\n",
       "        vertical-align: middle;\n",
       "    }\n",
       "\n",
       "    .dataframe tbody tr th {\n",
       "        vertical-align: top;\n",
       "    }\n",
       "\n",
       "    .dataframe thead th {\n",
       "        text-align: right;\n",
       "    }\n",
       "</style>\n",
       "<table border=\"1\" class=\"dataframe\">\n",
       "  <thead>\n",
       "    <tr style=\"text-align: right;\">\n",
       "      <th></th>\n",
       "      <th>Costo</th>\n",
       "      <th>PrecioOfertaProm</th>\n",
       "      <th>NroTipoOfertas</th>\n",
       "      <th>Marca</th>\n",
       "      <th>CantOfertas</th>\n",
       "      <th>MaxDescuento%</th>\n",
       "      <th>minDescuento%</th>\n",
       "      <th>FactordeDescuentos</th>\n",
       "      <th>FlagCampana</th>\n",
       "      <th>TieneUbicacionEspecifica</th>\n",
       "      <th>UnidadesDemandas</th>\n",
       "    </tr>\n",
       "  </thead>\n",
       "  <tbody>\n",
       "    <tr>\n",
       "      <th>count</th>\n",
       "      <td>3847.000000</td>\n",
       "      <td>3847.000000</td>\n",
       "      <td>3847.000000</td>\n",
       "      <td>3847.000000</td>\n",
       "      <td>3847.000000</td>\n",
       "      <td>3847.000000</td>\n",
       "      <td>3847.000000</td>\n",
       "      <td>3847.000000</td>\n",
       "      <td>3847.000000</td>\n",
       "      <td>3847.000000</td>\n",
       "      <td>3847.000000</td>\n",
       "    </tr>\n",
       "    <tr>\n",
       "      <th>mean</th>\n",
       "      <td>46.805753</td>\n",
       "      <td>51.156202</td>\n",
       "      <td>1.243566</td>\n",
       "      <td>0.903561</td>\n",
       "      <td>1.049649</td>\n",
       "      <td>0.600289</td>\n",
       "      <td>0.076029</td>\n",
       "      <td>0.046798</td>\n",
       "      <td>0.002599</td>\n",
       "      <td>0.001560</td>\n",
       "      <td>4518.254744</td>\n",
       "    </tr>\n",
       "    <tr>\n",
       "      <th>std</th>\n",
       "      <td>35.658520</td>\n",
       "      <td>30.549777</td>\n",
       "      <td>0.439466</td>\n",
       "      <td>0.983380</td>\n",
       "      <td>0.251629</td>\n",
       "      <td>0.079967</td>\n",
       "      <td>0.150116</td>\n",
       "      <td>0.093907</td>\n",
       "      <td>0.050925</td>\n",
       "      <td>0.039467</td>\n",
       "      <td>7135.468259</td>\n",
       "    </tr>\n",
       "    <tr>\n",
       "      <th>min</th>\n",
       "      <td>2.600000</td>\n",
       "      <td>8.000000</td>\n",
       "      <td>1.000000</td>\n",
       "      <td>0.000000</td>\n",
       "      <td>0.000000</td>\n",
       "      <td>0.311250</td>\n",
       "      <td>0.000000</td>\n",
       "      <td>0.000000</td>\n",
       "      <td>0.000000</td>\n",
       "      <td>0.000000</td>\n",
       "      <td>7.000000</td>\n",
       "    </tr>\n",
       "    <tr>\n",
       "      <th>25%</th>\n",
       "      <td>22.430000</td>\n",
       "      <td>29.900000</td>\n",
       "      <td>1.000000</td>\n",
       "      <td>0.000000</td>\n",
       "      <td>1.000000</td>\n",
       "      <td>0.540000</td>\n",
       "      <td>0.000000</td>\n",
       "      <td>0.000000</td>\n",
       "      <td>0.000000</td>\n",
       "      <td>0.000000</td>\n",
       "      <td>472.500000</td>\n",
       "    </tr>\n",
       "    <tr>\n",
       "      <th>50%</th>\n",
       "      <td>34.940000</td>\n",
       "      <td>39.900000</td>\n",
       "      <td>1.000000</td>\n",
       "      <td>1.000000</td>\n",
       "      <td>1.000000</td>\n",
       "      <td>0.615753</td>\n",
       "      <td>0.000000</td>\n",
       "      <td>0.000000</td>\n",
       "      <td>0.000000</td>\n",
       "      <td>0.000000</td>\n",
       "      <td>1472.000000</td>\n",
       "    </tr>\n",
       "    <tr>\n",
       "      <th>75%</th>\n",
       "      <td>62.765000</td>\n",
       "      <td>72.900000</td>\n",
       "      <td>1.000000</td>\n",
       "      <td>1.000000</td>\n",
       "      <td>1.000000</td>\n",
       "      <td>0.656722</td>\n",
       "      <td>0.000000</td>\n",
       "      <td>0.000000</td>\n",
       "      <td>0.000000</td>\n",
       "      <td>0.000000</td>\n",
       "      <td>5462.500000</td>\n",
       "    </tr>\n",
       "    <tr>\n",
       "      <th>max</th>\n",
       "      <td>237.400000</td>\n",
       "      <td>149.000000</td>\n",
       "      <td>3.000000</td>\n",
       "      <td>3.000000</td>\n",
       "      <td>6.000000</td>\n",
       "      <td>0.810135</td>\n",
       "      <td>0.472632</td>\n",
       "      <td>0.347757</td>\n",
       "      <td>1.000000</td>\n",
       "      <td>1.000000</td>\n",
       "      <td>59031.000000</td>\n",
       "    </tr>\n",
       "  </tbody>\n",
       "</table>\n",
       "</div>"
      ],
      "text/plain": [
       "             Costo  PrecioOfertaProm  NroTipoOfertas        Marca  \\\n",
       "count  3847.000000       3847.000000     3847.000000  3847.000000   \n",
       "mean     46.805753         51.156202        1.243566     0.903561   \n",
       "std      35.658520         30.549777        0.439466     0.983380   \n",
       "min       2.600000          8.000000        1.000000     0.000000   \n",
       "25%      22.430000         29.900000        1.000000     0.000000   \n",
       "50%      34.940000         39.900000        1.000000     1.000000   \n",
       "75%      62.765000         72.900000        1.000000     1.000000   \n",
       "max     237.400000        149.000000        3.000000     3.000000   \n",
       "\n",
       "       CantOfertas  MaxDescuento%  minDescuento%  FactordeDescuentos  \\\n",
       "count  3847.000000    3847.000000    3847.000000         3847.000000   \n",
       "mean      1.049649       0.600289       0.076029            0.046798   \n",
       "std       0.251629       0.079967       0.150116            0.093907   \n",
       "min       0.000000       0.311250       0.000000            0.000000   \n",
       "25%       1.000000       0.540000       0.000000            0.000000   \n",
       "50%       1.000000       0.615753       0.000000            0.000000   \n",
       "75%       1.000000       0.656722       0.000000            0.000000   \n",
       "max       6.000000       0.810135       0.472632            0.347757   \n",
       "\n",
       "       FlagCampana  TieneUbicacionEspecifica  UnidadesDemandas  \n",
       "count  3847.000000               3847.000000       3847.000000  \n",
       "mean      0.002599                  0.001560       4518.254744  \n",
       "std       0.050925                  0.039467       7135.468259  \n",
       "min       0.000000                  0.000000          7.000000  \n",
       "25%       0.000000                  0.000000        472.500000  \n",
       "50%       0.000000                  0.000000       1472.000000  \n",
       "75%       0.000000                  0.000000       5462.500000  \n",
       "max       1.000000                  1.000000      59031.000000  "
      ]
     },
     "execution_count": 1082,
     "metadata": {},
     "output_type": "execute_result"
    }
   ],
   "source": [
    "dataset.describe()"
   ]
  },
  {
   "cell_type": "code",
   "execution_count": 1083,
   "id": "9f1a1b75",
   "metadata": {},
   "outputs": [],
   "source": [
    "dataset2= dataset.drop(['tiempo',\n",
    "                  'CantOfertas',\n",
    "                  'TieneUbicacionEspecifica'], axis=1)\n"
   ]
  },
  {
   "cell_type": "code",
   "execution_count": 1084,
   "id": "ab442094",
   "metadata": {},
   "outputs": [],
   "source": [
    "#Conjunto de datos con valores atipicos\n",
    "X0 = dataset2.drop(['UnidadesDemandas'], axis=1)\n",
    "y0 = dataset2[['UnidadesDemandas']]"
   ]
  },
  {
   "cell_type": "code",
   "execution_count": 1085,
   "id": "0c65f6e6",
   "metadata": {},
   "outputs": [
    {
     "name": "stdout",
     "output_type": "stream",
     "text": [
      "<class 'pandas.core.frame.DataFrame'>\n",
      "RangeIndex: 3847 entries, 0 to 3846\n",
      "Data columns (total 9 columns):\n",
      " #   Column              Non-Null Count  Dtype  \n",
      "---  ------              --------------  -----  \n",
      " 0   Costo               3847 non-null   float64\n",
      " 1   PrecioOfertaProm    3847 non-null   float64\n",
      " 2   NroTipoOfertas      3847 non-null   int64  \n",
      " 3   Marca               3847 non-null   int64  \n",
      " 4   MaxDescuento%       3847 non-null   float64\n",
      " 5   minDescuento%       3847 non-null   float64\n",
      " 6   FactordeDescuentos  3847 non-null   float64\n",
      " 7   FlagCampana         3847 non-null   int64  \n",
      " 8   UnidadesDemandas    3847 non-null   int64  \n",
      "dtypes: float64(5), int64(4)\n",
      "memory usage: 270.6 KB\n"
     ]
    }
   ],
   "source": [
    "dataset2.info()"
   ]
  },
  {
   "cell_type": "markdown",
   "id": "b8c486d7",
   "metadata": {},
   "source": [
    "## Gráficos de Cajas"
   ]
  },
  {
   "cell_type": "code",
   "execution_count": 1086,
   "id": "e92c134c",
   "metadata": {},
   "outputs": [
    {
     "data": {
      "image/png": "[encoded data removed]",
      "text/plain": [
       "<Figure size 1000x600 with 1 Axes>"
      ]
     },
     "metadata": {},
     "output_type": "display_data"
    }
   ],
   "source": [
    "# Diagrama de cajas \n",
    "plt.figure(figsize=(10, 6))\n",
    "sns.boxplot(data=dataset2['Costo'])\n",
    "plt.title('Diagrama de Cajas para la Variable Costo')\n",
    "plt.ylabel('Valores')\n",
    "plt.show()"
   ]
  },
  {
   "cell_type": "code",
   "execution_count": 1087,
   "id": "77110bd5",
   "metadata": {},
   "outputs": [
    {
     "data": {
      "image/png": "[encoded data removed]",
      "text/plain": [
       "<Figure size 1000x600 with 1 Axes>"
      ]
     },
     "metadata": {},
     "output_type": "display_data"
    }
   ],
   "source": [
    "# Diagrama de cajas\n",
    "plt.figure(figsize=(10, 6))\n",
    "sns.boxplot(data=dataset2['PrecioOfertaProm'])\n",
    "plt.title('Diagrama de Cajas para la Variable PrecioOfertaProm')\n",
    "plt.ylabel('Valores')\n",
    "plt.show()"
   ]
  },
  {
   "cell_type": "code",
   "execution_count": 1088,
   "id": "18197bee",
   "metadata": {},
   "outputs": [
    {
     "data": {
      "image/png": "[encoded data removed]",
      "text/plain": [
       "<Figure size 1000x600 with 1 Axes>"
      ]
     },
     "metadata": {},
     "output_type": "display_data"
    }
   ],
   "source": [
    "# Diagrama de cajas\n",
    "plt.figure(figsize=(10, 6))\n",
    "sns.boxplot(data=dataset2['MaxDescuento%'])\n",
    "plt.title('Diagrama de Cajas para la Variable MaxDescuento%')\n",
    "plt.ylabel('Valores')\n",
    "plt.show()"
   ]
  },
  {
   "cell_type": "code",
   "execution_count": 1089,
   "id": "e8713f05",
   "metadata": {},
   "outputs": [
    {
     "data": {
      "image/png": "[encoded data removed]",
      "text/plain": [
       "<Figure size 1000x600 with 1 Axes>"
      ]
     },
     "metadata": {},
     "output_type": "display_data"
    }
   ],
   "source": [
    "plt.figure(figsize=(10, 6))\n",
    "sns.boxplot(data=dataset2['FactordeDescuentos'])\n",
    "plt.title('Diagrama de Cajas para la Variable FactordeDescuentos')\n",
    "plt.ylabel('Valores')\n",
    "plt.show()"
   ]
  },
  {
   "cell_type": "code",
   "execution_count": 1090,
   "id": "15e145c0",
   "metadata": {},
   "outputs": [
    {
     "data": {
      "image/png": "[encoded data removed]",
      "text/plain": [
       "<Figure size 1600x800 with 1 Axes>"
      ]
     },
     "metadata": {},
     "output_type": "display_data"
    }
   ],
   "source": [
    "sns.set()\n",
    "plt.figure(figsize=(16,8))\n",
    "sns.distplot(dataset2[\"FactordeDescuentos\"] , label=\"FactordeDescuentos\")\n",
    "plt.legend()\n",
    "plt.show()\n"
   ]
  },
  {
   "cell_type": "markdown",
   "id": "5f4c85fe",
   "metadata": {},
   "source": [
    "*  Se observa valores atipicos en las variables  Costo,PrecioOfertaProm y MaxDescuento\n",
    "\n",
    "\n"
   ]
  },
  {
   "cell_type": "code",
   "execution_count": 1091,
   "id": "9ba18922",
   "metadata": {},
   "outputs": [
    {
     "data": {
      "text/plain": [
       "FactordeDescuentos\n",
       "0.000000    3067\n",
       "0.260083      16\n",
       "0.258836      15\n",
       "0.208772      13\n",
       "0.245610      11\n",
       "            ... \n",
       "0.264027       1\n",
       "0.248821       1\n",
       "0.220341       1\n",
       "0.264071       1\n",
       "0.251637       1\n",
       "Name: count, Length: 394, dtype: int64"
      ]
     },
     "execution_count": 1091,
     "metadata": {},
     "output_type": "execute_result"
    }
   ],
   "source": [
    "dataset2['FactordeDescuentos'].value_counts()"
   ]
  },
  {
   "cell_type": "code",
   "execution_count": 1092,
   "id": "007b9cc6",
   "metadata": {},
   "outputs": [
    {
     "data": {
      "text/plain": [
       "FlagCampana\n",
       "0    3837\n",
       "1      10\n",
       "Name: count, dtype: int64"
      ]
     },
     "execution_count": 1092,
     "metadata": {},
     "output_type": "execute_result"
    }
   ],
   "source": [
    "dataset2['FlagCampana'].value_counts()"
   ]
  },
  {
   "cell_type": "code",
   "execution_count": 1093,
   "id": "0911445d",
   "metadata": {},
   "outputs": [
    {
     "name": "stdout",
     "output_type": "stream",
     "text": [
      "<class 'pandas.core.frame.DataFrame'>\n",
      "RangeIndex: 3847 entries, 0 to 3846\n",
      "Data columns (total 9 columns):\n",
      " #   Column              Non-Null Count  Dtype  \n",
      "---  ------              --------------  -----  \n",
      " 0   Costo               3847 non-null   float64\n",
      " 1   PrecioOfertaProm    3847 non-null   float64\n",
      " 2   NroTipoOfertas      3847 non-null   int64  \n",
      " 3   Marca               3847 non-null   int64  \n",
      " 4   MaxDescuento%       3847 non-null   float64\n",
      " 5   minDescuento%       3847 non-null   float64\n",
      " 6   FactordeDescuentos  3847 non-null   float64\n",
      " 7   FlagCampana         3847 non-null   int64  \n",
      " 8   UnidadesDemandas    3847 non-null   int64  \n",
      "dtypes: float64(5), int64(4)\n",
      "memory usage: 270.6 KB\n"
     ]
    }
   ],
   "source": [
    "dataset2.info()"
   ]
  },
  {
   "cell_type": "code",
   "execution_count": 1094,
   "id": "11f28035",
   "metadata": {},
   "outputs": [],
   "source": [
    "datasetsinatipicos=dataset2"
   ]
  },
  {
   "cell_type": "markdown",
   "id": "723c0b70",
   "metadata": {},
   "source": [
    "* **Generar nuevas transformaciones para optimizar al modelo (ejemplo: Dummizar la variable Marca, eliminar outliers, eliminar las variables con alto p_value, etc.).**"
   ]
  },
  {
   "cell_type": "markdown",
   "id": "560d6a02",
   "metadata": {},
   "source": [
    "## Funcion para detectar outlier"
   ]
  },
  {
   "cell_type": "markdown",
   "id": "9e057ab7",
   "metadata": {},
   "source": [
    "## Eliminar valores atipicos de cada variable"
   ]
  },
  {
   "cell_type": "markdown",
   "id": "5ed57907",
   "metadata": {},
   "source": [
    "###  Variable Costo"
   ]
  },
  {
   "cell_type": "code",
   "execution_count": 1095,
   "id": "b2121797",
   "metadata": {},
   "outputs": [],
   "source": [
    "datoatipico = datasetsinatipicos['Costo']  # Accede a la columna 'Costo' directamente\n",
    "Q3 = np.percentile(datasetsinatipicos['Costo'] , 75)\n",
    "Q1 = np.percentile(datasetsinatipicos['Costo'], 25)\n",
    "RI = Q3-Q1\n",
    "LI = Q3-RI*1.5\n",
    "LS = Q3+RI*1.5\n",
    "Esvaloratipico = []\n",
    "indicevaloratipico=[]\n",
    "\n",
    "for i in range(len(datoatipico)):\n",
    "    if datoatipico[i] >= LI and datoatipico[i] <= LS:\n",
    "        Esvaloratipico.append(False)\n",
    "    else:\n",
    "        Esvaloratipico.append(True)\n",
    "        indicevaloratipico.append(i)\n",
    "        i=i + 1"
   ]
  },
  {
   "cell_type": "code",
   "execution_count": 1096,
   "id": "fef7da07",
   "metadata": {},
   "outputs": [
    {
     "name": "stdout",
     "output_type": "stream",
     "text": [
      "[2.262500000000003, 123.2675]\n"
     ]
    }
   ],
   "source": [
    "print([LI,LS]) # Limites que me indican si la observacion es un valor atipico"
   ]
  },
  {
   "cell_type": "code",
   "execution_count": 1097,
   "id": "317e1a71",
   "metadata": {},
   "outputs": [
    {
     "data": {
      "text/plain": [
       "[7,\n",
       " 29,\n",
       " 40,\n",
       " 58,\n",
       " 93,\n",
       " 109,\n",
       " 140,\n",
       " 154,\n",
       " 206,\n",
       " 210,\n",
       " 221,\n",
       " 228,\n",
       " 231,\n",
       " 245,\n",
       " 254,\n",
       " 277,\n",
       " 293,\n",
       " 302,\n",
       " 326,\n",
       " 375,\n",
       " 382,\n",
       " 384,\n",
       " 395,\n",
       " 419,\n",
       " 429,\n",
       " 438,\n",
       " 447,\n",
       " 490,\n",
       " 501,\n",
       " 502,\n",
       " 513,\n",
       " 518,\n",
       " 537,\n",
       " 546,\n",
       " 558,\n",
       " 563,\n",
       " 573,\n",
       " 619,\n",
       " 628,\n",
       " 634,\n",
       " 658,\n",
       " 707,\n",
       " 708,\n",
       " 710,\n",
       " 721,\n",
       " 722,\n",
       " 732,\n",
       " 736,\n",
       " 737,\n",
       " 749,\n",
       " 756,\n",
       " 765,\n",
       " 778,\n",
       " 812,\n",
       " 828,\n",
       " 835,\n",
       " 858,\n",
       " 869,\n",
       " 894,\n",
       " 895,\n",
       " 896,\n",
       " 934,\n",
       " 946,\n",
       " 973,\n",
       " 986,\n",
       " 995,\n",
       " 1024,\n",
       " 1026,\n",
       " 1055,\n",
       " 1088,\n",
       " 1124,\n",
       " 1137,\n",
       " 1146,\n",
       " 1151,\n",
       " 1167,\n",
       " 1178,\n",
       " 1180,\n",
       " 1185,\n",
       " 1221,\n",
       " 1233,\n",
       " 1237,\n",
       " 1254,\n",
       " 1258,\n",
       " 1279,\n",
       " 1282,\n",
       " 1288,\n",
       " 1309,\n",
       " 1331,\n",
       " 1344,\n",
       " 1371,\n",
       " 1381,\n",
       " 1403,\n",
       " 1432,\n",
       " 1444,\n",
       " 1451,\n",
       " 1470,\n",
       " 1473,\n",
       " 1484,\n",
       " 1491,\n",
       " 1496,\n",
       " 1534,\n",
       " 1562,\n",
       " 1565,\n",
       " 1569,\n",
       " 1577,\n",
       " 1583,\n",
       " 1586,\n",
       " 1604,\n",
       " 1643,\n",
       " 1648,\n",
       " 1654,\n",
       " 1660,\n",
       " 1678,\n",
       " 1680,\n",
       " 1684,\n",
       " 1686,\n",
       " 1695,\n",
       " 1704,\n",
       " 1711,\n",
       " 1717,\n",
       " 1734,\n",
       " 1746,\n",
       " 1764,\n",
       " 1767,\n",
       " 1775,\n",
       " 1782,\n",
       " 1785,\n",
       " 1799,\n",
       " 1803,\n",
       " 1817,\n",
       " 1869,\n",
       " 1870,\n",
       " 1878,\n",
       " 1909,\n",
       " 1926,\n",
       " 1930,\n",
       " 1931,\n",
       " 1933,\n",
       " 1943,\n",
       " 1948,\n",
       " 1968,\n",
       " 1970,\n",
       " 1975,\n",
       " 1977,\n",
       " 1984,\n",
       " 2002,\n",
       " 2024,\n",
       " 2030,\n",
       " 2039,\n",
       " 2042,\n",
       " 2053,\n",
       " 2057,\n",
       " 2112,\n",
       " 2120,\n",
       " 2151,\n",
       " 2161,\n",
       " 2167,\n",
       " 2172,\n",
       " 2189,\n",
       " 2199,\n",
       " 3795,\n",
       " 3807]"
      ]
     },
     "execution_count": 1097,
     "metadata": {},
     "output_type": "execute_result"
    }
   ],
   "source": [
    "indicevaloratipico"
   ]
  },
  {
   "cell_type": "code",
   "execution_count": 1098,
   "id": "7c6f310f",
   "metadata": {},
   "outputs": [
    {
     "name": "stdout",
     "output_type": "stream",
     "text": [
      "<class 'pandas.core.frame.DataFrame'>\n",
      "Index: 3441 entries, 0 to 3846\n",
      "Data columns (total 9 columns):\n",
      " #   Column              Non-Null Count  Dtype  \n",
      "---  ------              --------------  -----  \n",
      " 0   Costo               3441 non-null   float64\n",
      " 1   PrecioOfertaProm    3441 non-null   float64\n",
      " 2   NroTipoOfertas      3441 non-null   int64  \n",
      " 3   Marca               3441 non-null   int64  \n",
      " 4   MaxDescuento%       3441 non-null   float64\n",
      " 5   minDescuento%       3441 non-null   float64\n",
      " 6   FactordeDescuentos  3441 non-null   float64\n",
      " 7   FlagCampana         3441 non-null   int64  \n",
      " 8   UnidadesDemandas    3441 non-null   int64  \n",
      "dtypes: float64(5), int64(4)\n",
      "memory usage: 268.8 KB\n"
     ]
    }
   ],
   "source": [
    "datasetconatipicos.info()"
   ]
  },
  {
   "cell_type": "code",
   "execution_count": 1099,
   "id": "2db9c0e7",
   "metadata": {},
   "outputs": [
    {
     "data": {
      "text/plain": [
       "157.8"
      ]
     },
     "execution_count": 1099,
     "metadata": {},
     "output_type": "execute_result"
    }
   ],
   "source": [
    "dataset2.iloc[7,0] # Se confirma que la observacion 7 si es un valor atipico"
   ]
  },
  {
   "cell_type": "code",
   "execution_count": 1100,
   "id": "80635d54",
   "metadata": {},
   "outputs": [
    {
     "data": {
      "text/plain": [
       "0        45.08\n",
       "1        24.56\n",
       "2       104.01\n",
       "3        59.23\n",
       "4        24.74\n",
       "         ...  \n",
       "3842     14.93\n",
       "3843     31.43\n",
       "3844     58.06\n",
       "3845     31.84\n",
       "3846     33.51\n",
       "Name: Costo, Length: 3847, dtype: float64"
      ]
     },
     "execution_count": 1100,
     "metadata": {},
     "output_type": "execute_result"
    }
   ],
   "source": [
    "dataset2.iloc[:,0]"
   ]
  },
  {
   "cell_type": "code",
   "execution_count": 1101,
   "id": "9f8bc960",
   "metadata": {},
   "outputs": [
    {
     "name": "stdout",
     "output_type": "stream",
     "text": [
      "<class 'pandas.core.frame.DataFrame'>\n",
      "Index: 3441 entries, 0 to 3846\n",
      "Data columns (total 9 columns):\n",
      " #   Column              Non-Null Count  Dtype  \n",
      "---  ------              --------------  -----  \n",
      " 0   Costo               3441 non-null   float64\n",
      " 1   PrecioOfertaProm    3441 non-null   float64\n",
      " 2   NroTipoOfertas      3441 non-null   int64  \n",
      " 3   Marca               3441 non-null   int64  \n",
      " 4   MaxDescuento%       3441 non-null   float64\n",
      " 5   minDescuento%       3441 non-null   float64\n",
      " 6   FactordeDescuentos  3441 non-null   float64\n",
      " 7   FlagCampana         3441 non-null   int64  \n",
      " 8   UnidadesDemandas    3441 non-null   int64  \n",
      "dtypes: float64(5), int64(4)\n",
      "memory usage: 268.8 KB\n"
     ]
    }
   ],
   "source": [
    "datasetconatipicos.info()"
   ]
  },
  {
   "cell_type": "code",
   "execution_count": 1102,
   "id": "98bf6b07",
   "metadata": {},
   "outputs": [
    {
     "data": {
      "text/plain": [
       "7       157.80\n",
       "29      178.46\n",
       "40      185.68\n",
       "58      125.63\n",
       "93      181.10\n",
       "         ...  \n",
       "2172    144.41\n",
       "2189    124.78\n",
       "2199    154.38\n",
       "3795    139.70\n",
       "3807    187.78\n",
       "Name: Costo, Length: 162, dtype: float64"
      ]
     },
     "execution_count": 1102,
     "metadata": {},
     "output_type": "execute_result"
    }
   ],
   "source": [
    "datasetsinatipicos['Costo'][indicevaloratipico]"
   ]
  },
  {
   "cell_type": "code",
   "execution_count": 1103,
   "id": "25100872",
   "metadata": {},
   "outputs": [],
   "source": [
    "datasetsinatipicos['Costo'][indicevaloratipico] = np.nan #se reemplaza los atipicos por NA"
   ]
  },
  {
   "cell_type": "code",
   "execution_count": 1104,
   "id": "344e3e0e",
   "metadata": {},
   "outputs": [
    {
     "data": {
      "text/plain": [
       "7      NaN\n",
       "29     NaN\n",
       "40     NaN\n",
       "58     NaN\n",
       "93     NaN\n",
       "        ..\n",
       "2172   NaN\n",
       "2189   NaN\n",
       "2199   NaN\n",
       "3795   NaN\n",
       "3807   NaN\n",
       "Name: Costo, Length: 162, dtype: float64"
      ]
     },
     "execution_count": 1104,
     "metadata": {},
     "output_type": "execute_result"
    }
   ],
   "source": [
    "datasetsinatipicos['Costo'][indicevaloratipico]# ahora los valores atipicos tienen NA"
   ]
  },
  {
   "cell_type": "code",
   "execution_count": 1105,
   "id": "183dce04",
   "metadata": {},
   "outputs": [
    {
     "data": {
      "text/plain": [
       "nan"
      ]
     },
     "execution_count": 1105,
     "metadata": {},
     "output_type": "execute_result"
    }
   ],
   "source": [
    "datasetsinatipicos.iloc[7,0]"
   ]
  },
  {
   "cell_type": "markdown",
   "id": "7b4b6c2b",
   "metadata": {},
   "source": [
    "###  Variable PrecioOfertaProm"
   ]
  },
  {
   "cell_type": "code",
   "execution_count": 1106,
   "id": "c33c73a2",
   "metadata": {},
   "outputs": [],
   "source": [
    "datoatipico = datasetsinatipicos['PrecioOfertaProm']  # \n",
    "Q3 = np.percentile(datasetsinatipicos['PrecioOfertaProm'] , 75)\n",
    "Q1 = np.percentile(datasetsinatipicos['PrecioOfertaProm'], 25)\n",
    "RI = Q3-Q1\n",
    "LI = Q3-RI*1.5\n",
    "LS = Q3+RI*1.5\n",
    "Esvaloratipico = []\n",
    "indicevaloratipico=[]\n",
    "\n",
    "for i in range(len(datoatipico)):\n",
    "    if datoatipico[i] >= LI and datoatipico[i] <= LS:\n",
    "        Esvaloratipico.append(False)\n",
    "    else:\n",
    "        Esvaloratipico.append(True)\n",
    "        indicevaloratipico.append(i)\n",
    "        i=i + 1"
   ]
  },
  {
   "cell_type": "code",
   "execution_count": 1107,
   "id": "6884b02b",
   "metadata": {},
   "outputs": [
    {
     "name": "stdout",
     "output_type": "stream",
     "text": [
      "[8.399999999999991, 137.40000000000003]\n"
     ]
    }
   ],
   "source": [
    "print([LI,LS]) # Limites que me indican si la observacion es un valor atipico"
   ]
  },
  {
   "cell_type": "code",
   "execution_count": 1108,
   "id": "a932c977",
   "metadata": {},
   "outputs": [
    {
     "data": {
      "text/plain": [
       "[27, 1186, 1260, 1489, 1845, 1848, 2305, 2638, 3167, 3284, 3305, 3760]"
      ]
     },
     "execution_count": 1108,
     "metadata": {},
     "output_type": "execute_result"
    }
   ],
   "source": [
    "indicevaloratipico"
   ]
  },
  {
   "cell_type": "code",
   "execution_count": 1109,
   "id": "b3cf97c4",
   "metadata": {},
   "outputs": [
    {
     "data": {
      "text/plain": [
       "149.0"
      ]
     },
     "execution_count": 1109,
     "metadata": {},
     "output_type": "execute_result"
    }
   ],
   "source": [
    "datasetsinatipicos.iloc[27,1] # Se confirma que la observacion 27 si es un valor atipico"
   ]
  },
  {
   "cell_type": "code",
   "execution_count": 1110,
   "id": "ac068eb0",
   "metadata": {},
   "outputs": [],
   "source": [
    "datasetsinatipicos['PrecioOfertaProm'][indicevaloratipico] = np.nan #se reemplaza los atipicos por NA"
   ]
  },
  {
   "cell_type": "code",
   "execution_count": 1111,
   "id": "f8554d60",
   "metadata": {},
   "outputs": [
    {
     "data": {
      "text/plain": [
       "nan"
      ]
     },
     "execution_count": 1111,
     "metadata": {},
     "output_type": "execute_result"
    }
   ],
   "source": [
    "datasetsinatipicos.iloc[27,1] # ahora los valores atipicos tienen NA"
   ]
  },
  {
   "cell_type": "markdown",
   "id": "78df21b5",
   "metadata": {},
   "source": [
    "###  Variable MaxDescuento%"
   ]
  },
  {
   "cell_type": "code",
   "execution_count": 1112,
   "id": "6d7b504c",
   "metadata": {},
   "outputs": [],
   "source": [
    "datoatipico = datasetsinatipicos['MaxDescuento%']  # Accede a la columna 'Costo' directamente\n",
    "Q3 = np.percentile(datasetsinatipicos['MaxDescuento%'] , 75)\n",
    "Q1 = np.percentile(datasetsinatipicos['MaxDescuento%'], 25)\n",
    "RI = Q3-Q1\n",
    "LI = Q3-RI*1.5\n",
    "LS = Q3+RI*1.5\n",
    "Esvaloratipico = []\n",
    "indicevaloratipico=[]\n",
    "\n",
    "for i in range(len(datoatipico)):\n",
    "    if datoatipico[i] >= LI and datoatipico[i] <= LS:\n",
    "        Esvaloratipico.append(False)\n",
    "    else:\n",
    "        Esvaloratipico.append(True)\n",
    "        indicevaloratipico.append(i)\n",
    "        i=i + 1"
   ]
  },
  {
   "cell_type": "code",
   "execution_count": 1113,
   "id": "7f3154c7",
   "metadata": {},
   "outputs": [
    {
     "name": "stdout",
     "output_type": "stream",
     "text": [
      "[0.481638828, 0.8318058600000001]\n"
     ]
    }
   ],
   "source": [
    "print([LI,LS]) # Limites que me indican si la observacion es un valor atipico"
   ]
  },
  {
   "cell_type": "code",
   "execution_count": 1114,
   "id": "b4d8fed1",
   "metadata": {},
   "outputs": [
    {
     "data": {
      "text/plain": [
       "[20,\n",
       " 34,\n",
       " 45,\n",
       " 69,\n",
       " 81,\n",
       " 93,\n",
       " 103,\n",
       " 108,\n",
       " 123,\n",
       " 130,\n",
       " 141,\n",
       " 148,\n",
       " 157,\n",
       " 191,\n",
       " 193,\n",
       " 252,\n",
       " 254,\n",
       " 257,\n",
       " 260,\n",
       " 277,\n",
       " 282,\n",
       " 293,\n",
       " 322,\n",
       " 369,\n",
       " 400,\n",
       " 419,\n",
       " 429,\n",
       " 438,\n",
       " 447,\n",
       " 449,\n",
       " 490,\n",
       " 518,\n",
       " 526,\n",
       " 528,\n",
       " 539,\n",
       " 563,\n",
       " 584,\n",
       " 591,\n",
       " 596,\n",
       " 604,\n",
       " 619,\n",
       " 640,\n",
       " 680,\n",
       " 707,\n",
       " 715,\n",
       " 737,\n",
       " 738,\n",
       " 756,\n",
       " 771,\n",
       " 775,\n",
       " 787,\n",
       " 791,\n",
       " 792,\n",
       " 858,\n",
       " 880,\n",
       " 894,\n",
       " 896,\n",
       " 910,\n",
       " 913,\n",
       " 931,\n",
       " 934,\n",
       " 953,\n",
       " 957,\n",
       " 968,\n",
       " 971,\n",
       " 973,\n",
       " 983,\n",
       " 1011,\n",
       " 1026,\n",
       " 1035,\n",
       " 1041,\n",
       " 1049,\n",
       " 1076,\n",
       " 1124,\n",
       " 1155,\n",
       " 1158,\n",
       " 1179,\n",
       " 1185,\n",
       " 1191,\n",
       " 1225,\n",
       " 1227,\n",
       " 1230,\n",
       " 1248,\n",
       " 1254,\n",
       " 1258,\n",
       " 1262,\n",
       " 1270,\n",
       " 1271,\n",
       " 1273,\n",
       " 1277,\n",
       " 1284,\n",
       " 1331,\n",
       " 1332,\n",
       " 1344,\n",
       " 1355,\n",
       " 1370,\n",
       " 1375,\n",
       " 1380,\n",
       " 1381,\n",
       " 1420,\n",
       " 1424,\n",
       " 1442,\n",
       " 1445,\n",
       " 1447,\n",
       " 1451,\n",
       " 1484,\n",
       " 1485,\n",
       " 1491,\n",
       " 1512,\n",
       " 1515,\n",
       " 1517,\n",
       " 1539,\n",
       " 1550,\n",
       " 1554,\n",
       " 1559,\n",
       " 1565,\n",
       " 1567,\n",
       " 1575,\n",
       " 1583,\n",
       " 1609,\n",
       " 1623,\n",
       " 1637,\n",
       " 1643,\n",
       " 1648,\n",
       " 1680,\n",
       " 1684,\n",
       " 1713,\n",
       " 1734,\n",
       " 1735,\n",
       " 1745,\n",
       " 1770,\n",
       " 1780,\n",
       " 1782,\n",
       " 1803,\n",
       " 1807,\n",
       " 1829,\n",
       " 1852,\n",
       " 1865,\n",
       " 1870,\n",
       " 1878,\n",
       " 1926,\n",
       " 1930,\n",
       " 1943,\n",
       " 1945,\n",
       " 1948,\n",
       " 1975,\n",
       " 1977,\n",
       " 1989,\n",
       " 2020,\n",
       " 2023,\n",
       " 2053,\n",
       " 2059,\n",
       " 2115,\n",
       " 2156,\n",
       " 2166,\n",
       " 2167,\n",
       " 2172,\n",
       " 2192,\n",
       " 2206,\n",
       " 2210,\n",
       " 2211,\n",
       " 2226,\n",
       " 2231,\n",
       " 2234,\n",
       " 2235,\n",
       " 2242,\n",
       " 2243,\n",
       " 2245,\n",
       " 2256,\n",
       " 2265,\n",
       " 2267,\n",
       " 2269,\n",
       " 2278,\n",
       " 2286,\n",
       " 2290,\n",
       " 2293,\n",
       " 2301,\n",
       " 2320,\n",
       " 2337,\n",
       " 2355,\n",
       " 2370,\n",
       " 2380,\n",
       " 2394,\n",
       " 2418,\n",
       " 2419,\n",
       " 2423,\n",
       " 2432,\n",
       " 2465,\n",
       " 2470,\n",
       " 2521,\n",
       " 2538,\n",
       " 2545,\n",
       " 2562,\n",
       " 2565,\n",
       " 2569,\n",
       " 2597,\n",
       " 2611,\n",
       " 2623,\n",
       " 2624,\n",
       " 2639,\n",
       " 2675,\n",
       " 2710,\n",
       " 2715,\n",
       " 2717,\n",
       " 2754,\n",
       " 2757,\n",
       " 2762,\n",
       " 2790,\n",
       " 2814,\n",
       " 2818,\n",
       " 2820,\n",
       " 2841,\n",
       " 2877,\n",
       " 2901,\n",
       " 2907,\n",
       " 2910,\n",
       " 2915,\n",
       " 2916,\n",
       " 2929,\n",
       " 2933,\n",
       " 2945,\n",
       " 2993,\n",
       " 3015,\n",
       " 3016,\n",
       " 3018,\n",
       " 3067,\n",
       " 3084,\n",
       " 3091,\n",
       " 3107,\n",
       " 3116,\n",
       " 3142,\n",
       " 3162,\n",
       " 3163,\n",
       " 3177,\n",
       " 3178,\n",
       " 3182,\n",
       " 3191,\n",
       " 3223,\n",
       " 3242,\n",
       " 3247,\n",
       " 3259,\n",
       " 3270,\n",
       " 3280,\n",
       " 3304,\n",
       " 3351,\n",
       " 3357,\n",
       " 3366,\n",
       " 3375,\n",
       " 3392,\n",
       " 3404,\n",
       " 3423,\n",
       " 3433,\n",
       " 3436,\n",
       " 3438,\n",
       " 3439,\n",
       " 3451,\n",
       " 3459,\n",
       " 3495,\n",
       " 3529,\n",
       " 3541,\n",
       " 3542,\n",
       " 3543,\n",
       " 3545,\n",
       " 3569,\n",
       " 3579,\n",
       " 3586,\n",
       " 3604,\n",
       " 3628,\n",
       " 3633,\n",
       " 3663,\n",
       " 3671,\n",
       " 3711,\n",
       " 3721,\n",
       " 3724,\n",
       " 3736,\n",
       " 3741,\n",
       " 3746,\n",
       " 3775,\n",
       " 3784,\n",
       " 3790,\n",
       " 3795,\n",
       " 3807,\n",
       " 3810,\n",
       " 3826,\n",
       " 3837]"
      ]
     },
     "execution_count": 1114,
     "metadata": {},
     "output_type": "execute_result"
    }
   ],
   "source": [
    "indicevaloratipico"
   ]
  },
  {
   "cell_type": "code",
   "execution_count": 1115,
   "id": "b5e5b2f1",
   "metadata": {},
   "outputs": [
    {
     "data": {
      "text/plain": [
       "0.455932203"
      ]
     },
     "execution_count": 1115,
     "metadata": {},
     "output_type": "execute_result"
    }
   ],
   "source": [
    "datasetsinatipicos.iloc[34,4] # Se confirma que la observacion 34 si es un valor atipico"
   ]
  },
  {
   "cell_type": "code",
   "execution_count": 1116,
   "id": "890bb219",
   "metadata": {},
   "outputs": [],
   "source": [
    "datasetsinatipicos['MaxDescuento%'][indicevaloratipico] = np.nan #se reemplaza los atipicos por NA"
   ]
  },
  {
   "cell_type": "code",
   "execution_count": 1117,
   "id": "9374c772",
   "metadata": {},
   "outputs": [
    {
     "data": {
      "text/plain": [
       "nan"
      ]
     },
     "execution_count": 1117,
     "metadata": {},
     "output_type": "execute_result"
    }
   ],
   "source": [
    "datasetsinatipicos.iloc[34,4]  # ahora los valores atipicos tienen NA"
   ]
  },
  {
   "cell_type": "code",
   "execution_count": 1118,
   "id": "9b2eac2d",
   "metadata": {},
   "outputs": [],
   "source": [
    "dataset2sinatipico=datasetsinatipicos.dropna() \n",
    "# se eliminaron todos las valores atipicos de 3 variables  (Costo,PrecioOfertaProm,MaxDescuento%)"
   ]
  },
  {
   "cell_type": "code",
   "execution_count": 1119,
   "id": "a4118caf",
   "metadata": {},
   "outputs": [
    {
     "data": {
      "text/plain": [
       "(3847, 8)"
      ]
     },
     "execution_count": 1119,
     "metadata": {},
     "output_type": "execute_result"
    }
   ],
   "source": [
    "X0.shape"
   ]
  },
  {
   "cell_type": "code",
   "execution_count": 1120,
   "id": "b06107a6",
   "metadata": {},
   "outputs": [
    {
     "data": {
      "text/plain": [
       "(3441, 9)"
      ]
     },
     "execution_count": 1120,
     "metadata": {},
     "output_type": "execute_result"
    }
   ],
   "source": [
    "dataset2sinatipico.shape # podemos observar que se eliminaron 406 observaciones"
   ]
  },
  {
   "cell_type": "code",
   "execution_count": 1121,
   "id": "d7174ecd",
   "metadata": {},
   "outputs": [
    {
     "name": "stdout",
     "output_type": "stream",
     "text": [
      "<class 'pandas.core.frame.DataFrame'>\n",
      "Index: 3441 entries, 0 to 3846\n",
      "Data columns (total 9 columns):\n",
      " #   Column              Non-Null Count  Dtype  \n",
      "---  ------              --------------  -----  \n",
      " 0   Costo               3441 non-null   float64\n",
      " 1   PrecioOfertaProm    3441 non-null   float64\n",
      " 2   NroTipoOfertas      3441 non-null   int64  \n",
      " 3   Marca               3441 non-null   int64  \n",
      " 4   MaxDescuento%       3441 non-null   float64\n",
      " 5   minDescuento%       3441 non-null   float64\n",
      " 6   FactordeDescuentos  3441 non-null   float64\n",
      " 7   FlagCampana         3441 non-null   int64  \n",
      " 8   UnidadesDemandas    3441 non-null   int64  \n",
      "dtypes: float64(5), int64(4)\n",
      "memory usage: 268.8 KB\n"
     ]
    }
   ],
   "source": [
    "datasetconatipicos=datasetconatipicos.dropna() \n",
    "datasetconatipicos.info()"
   ]
  },
  {
   "cell_type": "markdown",
   "id": "045ecab4",
   "metadata": {},
   "source": [
    "## Particion de la  data "
   ]
  },
  {
   "cell_type": "code",
   "execution_count": 1122,
   "id": "683c47cc",
   "metadata": {},
   "outputs": [],
   "source": [
    "#Conjunto de datos sin valores atipicos\n",
    "X = dataset2sinatipico.drop(['UnidadesDemandas'], axis=1)\n",
    "y = dataset2sinatipico[['UnidadesDemandas']]"
   ]
  },
  {
   "cell_type": "code",
   "execution_count": 1123,
   "id": "508e1577",
   "metadata": {},
   "outputs": [
    {
     "name": "stdout",
     "output_type": "stream",
     "text": [
      "<class 'pandas.core.frame.DataFrame'>\n",
      "RangeIndex: 3847 entries, 0 to 3846\n",
      "Data columns (total 8 columns):\n",
      " #   Column              Non-Null Count  Dtype  \n",
      "---  ------              --------------  -----  \n",
      " 0   Costo               3847 non-null   float64\n",
      " 1   PrecioOfertaProm    3847 non-null   float64\n",
      " 2   NroTipoOfertas      3847 non-null   int64  \n",
      " 3   Marca               3847 non-null   int64  \n",
      " 4   MaxDescuento%       3847 non-null   float64\n",
      " 5   minDescuento%       3847 non-null   float64\n",
      " 6   FactordeDescuentos  3847 non-null   float64\n",
      " 7   FlagCampana         3847 non-null   int64  \n",
      "dtypes: float64(5), int64(3)\n",
      "memory usage: 240.6 KB\n"
     ]
    }
   ],
   "source": [
    "X0.info() #Predictoras con valores atipicos"
   ]
  },
  {
   "cell_type": "code",
   "execution_count": 1124,
   "id": "943141a3",
   "metadata": {},
   "outputs": [
    {
     "name": "stdout",
     "output_type": "stream",
     "text": [
      "<class 'pandas.core.frame.DataFrame'>\n",
      "Index: 3441 entries, 0 to 3846\n",
      "Data columns (total 8 columns):\n",
      " #   Column              Non-Null Count  Dtype  \n",
      "---  ------              --------------  -----  \n",
      " 0   Costo               3441 non-null   float64\n",
      " 1   PrecioOfertaProm    3441 non-null   float64\n",
      " 2   NroTipoOfertas      3441 non-null   int64  \n",
      " 3   Marca               3441 non-null   int64  \n",
      " 4   MaxDescuento%       3441 non-null   float64\n",
      " 5   minDescuento%       3441 non-null   float64\n",
      " 6   FactordeDescuentos  3441 non-null   float64\n",
      " 7   FlagCampana         3441 non-null   int64  \n",
      "dtypes: float64(5), int64(3)\n",
      "memory usage: 241.9 KB\n"
     ]
    }
   ],
   "source": [
    "X.info()#Predictoras sin valores atipicos"
   ]
  },
  {
   "cell_type": "code",
   "execution_count": 1125,
   "id": "ead619e6",
   "metadata": {},
   "outputs": [],
   "source": [
    "#Conjunto de datos con valores atipicos \n",
    "from sklearn.model_selection import train_test_split\n",
    "X0_train, X0_test, y0_train, y0_test = train_test_split(X0,y0,test_size=0.2, random_state=101) # split del conjunto de datos  me da una lista de 4 "
   ]
  },
  {
   "cell_type": "code",
   "execution_count": 1126,
   "id": "a660c41d",
   "metadata": {},
   "outputs": [],
   "source": [
    "#Conjunto de datos sin valores atipicos \n",
    "from sklearn.model_selection import train_test_split\n",
    "X_train, X_test, y_train, y_test = train_test_split(X, y, test_size=0.2, random_state=101) # split del conjunto de datos  me da una lista de 4 "
   ]
  },
  {
   "cell_type": "code",
   "execution_count": 1127,
   "id": "17499488",
   "metadata": {},
   "outputs": [
    {
     "name": "stdout",
     "output_type": "stream",
     "text": [
      "MAE: 1951.2112086741477\n",
      "MSE: 19916054.708538882\n",
      "RMSE: 4462.740717153404\n",
      "MAPE: 84.90725082872486\n"
     ]
    }
   ],
   "source": [
    "#Modelamiento vista en clase \n",
    "lm = LinearRegression()\n",
    "lm.fit(X0_train,np.sqrt(y0_train))\n",
    "#predicciones\n",
    "predictions = lm.predict(X0_test)**2\n",
    "\n",
    "def mean_absolute_percentage_error(y0_test, predictions):\n",
    "    y0_test, predictions = np.array(y0_test), np.array(predictions)\n",
    "    return np.mean(np.abs((y0_test - predictions) / y0_test)) * 100\n",
    "\n",
    "print('MAE:', metrics.mean_absolute_error(y0_test, predictions))\n",
    "print('MSE:', metrics.mean_squared_error(y0_test, predictions))\n",
    "print('RMSE:', np.sqrt(metrics.mean_squared_error(y0_test, predictions)))\n",
    "print('MAPE:', mean_absolute_percentage_error(y0_test, predictions))"
   ]
  },
  {
   "cell_type": "code",
   "execution_count": 1128,
   "id": "b2da62fd",
   "metadata": {},
   "outputs": [
    {
     "name": "stdout",
     "output_type": "stream",
     "text": [
      "MAE: 1254.0975072437113\n",
      "MSE: 16217959.354436161\n",
      "RMSE: 4027.1527602558313\n",
      "MAPE: 48.98212910715474\n"
     ]
    }
   ],
   "source": [
    "#Modelamiento \n",
    "lm = LinearRegression()\n",
    "lm.fit(X_train,np.sqrt(y_train))\n",
    "def mean_absolute_percentage_error(y_true, y_pred):\n",
    "    y_true, y_pred = np.array(y_true), np.array(y_pred)\n",
    "    return np.mean(np.abs((y_true - y_pred) / y_true)) * 100\n",
    "\n",
    "#predicciones\n",
    "predictions = lm.predict(X_test)**2\n",
    "\n",
    "print('MAE:', metrics.mean_absolute_error(y_test, predictions))\n",
    "print('MSE:', metrics.mean_squared_error(y_test, predictions))\n",
    "print('RMSE:', np.sqrt(metrics.mean_squared_error(y_test, predictions)))\n",
    "print('MAPE:', mean_absolute_percentage_error(y_test, predictions))"
   ]
  },
  {
   "cell_type": "code",
   "execution_count": 1129,
   "id": "66274075",
   "metadata": {},
   "outputs": [],
   "source": [
    "##Cree una función para evaluar  modelos de ml\n",
    "\n",
    "# modelo : Insertar el tipo de modelo \n",
    "# suavizado: Metodo para suavizar a la variable a predecir\n",
    "#restab :Operacion para revertir la suavizacion para tener las predicciones\n",
    "#Yentrenamiento \n",
    "#Xentrenamiento\n",
    "#yprueba\n",
    "#xprueba\n",
    "\n",
    "def evalmodelos(model,suavizado,restab,Yentrenamiento,Xentrenamiento,yprueba,xprueba):\n",
    "    ####  Modelamiento\n",
    "    modelo=model\n",
    "    modelo.fit(Xentrenamiento,suavizado(Yentrenamiento)) \n",
    "    #predicciones\n",
    "    predictions = restab(modelo.predict(xprueba))\n",
    "   ##MAPE\n",
    "    def mean_absolute_percentage_error(yprueba, predictions):\n",
    "        yprueba, predictions = np.array(yprueba), np.array(predictions)\n",
    "        return np.mean(np.abs((yprueba - predictions) / yprueba)) * 100\n",
    "    #Metricas de presicion\n",
    "    MAE= metrics.mean_absolute_error(yprueba, predictions)\n",
    "    MSE=metrics.mean_squared_error(yprueba, predictions)\n",
    "    RMSE=np.sqrt(metrics.mean_squared_error(yprueba, predictions))\n",
    "    MAPE=mean_absolute_percentage_error(yprueba, predictions)\n",
    "    result_dict = {\"MAE\": MAE , \"MSE\": MSE, \"RMSE\": RMSE, \"MAPE\": MAPE}\n",
    "    #MAE : Error absoluto medio\n",
    "    #MSE : Error cuadrático medio\n",
    "    #RMSE: Raíz de error cuadrado medio\n",
    "    #MAPE :Error absoluto medio porcentual\n",
    "    return result_dict"
   ]
  },
  {
   "cell_type": "markdown",
   "id": "81c5d031",
   "metadata": {},
   "source": [
    "## Suavizaciones de raiz cuadrada (vista en clase)"
   ]
  },
  {
   "cell_type": "code",
   "execution_count": 1130,
   "id": "3dd3986a",
   "metadata": {},
   "outputs": [
    {
     "data": {
      "text/plain": [
       "{'MAE': 1951.2112086741477,\n",
       " 'MSE': 19916054.708538882,\n",
       " 'RMSE': 4462.740717153404,\n",
       " 'MAPE': 84.90725082872486}"
      ]
     },
     "execution_count": 1130,
     "metadata": {},
     "output_type": "execute_result"
    }
   ],
   "source": [
    "## Regresion Lineal (con valores atipicos)\n",
    "evalmodelos(LinearRegression(),np.sqrt,lambda x: x**2,\n",
    "            y0_train,X0_train,y0_test,X0_test)"
   ]
  },
  {
   "cell_type": "code",
   "execution_count": 1131,
   "id": "e4c699ce",
   "metadata": {},
   "outputs": [
    {
     "data": {
      "text/plain": [
       "{'MAE': 1254.0975072437113,\n",
       " 'MSE': 16217959.354436161,\n",
       " 'RMSE': 4027.1527602558313,\n",
       " 'MAPE': 48.98212910715474}"
      ]
     },
     "execution_count": 1131,
     "metadata": {},
     "output_type": "execute_result"
    }
   ],
   "source": [
    "## Regresion Lineal (sin valores atipicos)\n",
    "evalmodelos(LinearRegression(),np.sqrt,lambda x: x**2,\n",
    "            y_train,X_train,y_test,X_test)"
   ]
  },
  {
   "cell_type": "code",
   "execution_count": 1132,
   "id": "c8af2fc1",
   "metadata": {},
   "outputs": [
    {
     "data": {
      "text/plain": [
       "{'MAE': 1951.3631268537138,\n",
       " 'MSE': 19913906.547327813,\n",
       " 'RMSE': 4462.500033314041,\n",
       " 'MAPE': 1042.670777939748}"
      ]
     },
     "execution_count": 1132,
     "metadata": {},
     "output_type": "execute_result"
    }
   ],
   "source": [
    "## Regresion Lasso (con valores atipicos)\n",
    "evalmodelos(Lasso(alpha= 0.01),np.sqrt,lambda x: x**2,\n",
    "            y0_train,X0_train,y0_test,X0_test)"
   ]
  },
  {
   "cell_type": "code",
   "execution_count": 1133,
   "id": "645b6c00",
   "metadata": {},
   "outputs": [
    {
     "data": {
      "text/plain": [
       "{'MAE': 1245.1127678773942,\n",
       " 'MSE': 16190097.55243494,\n",
       " 'RMSE': 4023.6920300185675,\n",
       " 'MAPE': 771.6521177677054}"
      ]
     },
     "execution_count": 1133,
     "metadata": {},
     "output_type": "execute_result"
    }
   ],
   "source": [
    "## Regresion Lasso (sin valores atipicos)\n",
    "evalmodelos(Lasso(alpha= 0.01),np.sqrt,lambda x: x**2,\n",
    "            y_train,X_train,y_test,X_test)"
   ]
  },
  {
   "cell_type": "code",
   "execution_count": 1134,
   "id": "224bed62",
   "metadata": {},
   "outputs": [
    {
     "data": {
      "text/plain": [
       "{'MAE': 1948.935617361023,\n",
       " 'MSE': 19947449.37883342,\n",
       " 'RMSE': 4466.256752453157,\n",
       " 'MAPE': 84.88929372958002}"
      ]
     },
     "execution_count": 1134,
     "metadata": {},
     "output_type": "execute_result"
    }
   ],
   "source": [
    "## Regresion Ridge (con valores atipicos)\n",
    "evalmodelos(Ridge(alpha=1),np.sqrt,lambda x: x**2,\n",
    "            y0_train,X0_train,y0_test,X0_test)"
   ]
  },
  {
   "cell_type": "code",
   "execution_count": 1135,
   "id": "3a8fb3ed",
   "metadata": {},
   "outputs": [
    {
     "data": {
      "text/plain": [
       "{'MAE': 1245.0012268347,\n",
       " 'MSE': 16191918.574143372,\n",
       " 'RMSE': 4023.918311067382,\n",
       " 'MAPE': 49.11311924266675}"
      ]
     },
     "execution_count": 1135,
     "metadata": {},
     "output_type": "execute_result"
    }
   ],
   "source": [
    "## Regresion Ridge (sin valores atipicos)\n",
    "evalmodelos(Ridge(alpha=1),np.sqrt,lambda x: x**2,\n",
    "            y_train,X_train,y_test,X_test)"
   ]
  },
  {
   "cell_type": "code",
   "execution_count": 1136,
   "id": "f63b725e",
   "metadata": {},
   "outputs": [
    {
     "data": {
      "text/plain": [
       "{'MAE': 1944.3210659594736,\n",
       " 'MSE': 20490681.681675453,\n",
       " 'RMSE': 4526.663415991457,\n",
       " 'MAPE': 1032.0192105663348}"
      ]
     },
     "execution_count": 1136,
     "metadata": {},
     "output_type": "execute_result"
    }
   ],
   "source": [
    "## Regresion ElasticNet (con valores atipicos)\n",
    "evalmodelos(ElasticNet(alpha = 0.01),np.sqrt,lambda x: x**2,\n",
    "            y0_train,X0_train,y0_test,X0_test)"
   ]
  },
  {
   "cell_type": "code",
   "execution_count": 1137,
   "id": "62d705cb",
   "metadata": {},
   "outputs": [
    {
     "data": {
      "text/plain": [
       "{'MAE': 1245.3876713495654,\n",
       " 'MSE': 16320617.981612539,\n",
       " 'RMSE': 4039.878461242682,\n",
       " 'MAPE': 768.2944310843246}"
      ]
     },
     "execution_count": 1137,
     "metadata": {},
     "output_type": "execute_result"
    }
   ],
   "source": [
    "## Regresion ElasticNet (sin valores atipicos)\n",
    "evalmodelos(ElasticNet(alpha = 0.01),np.sqrt,lambda x: x**2,\n",
    "            y_train,X_train,y_test,X_test)"
   ]
  },
  {
   "cell_type": "markdown",
   "id": "29042a6b",
   "metadata": {},
   "source": [
    "* **Usar otro método de suavizamiento al target.**"
   ]
  },
  {
   "cell_type": "markdown",
   "id": "035959da",
   "metadata": {},
   "source": [
    "## Modelos de Regresion -Suavizacion logaritmica base 10"
   ]
  },
  {
   "cell_type": "code",
   "execution_count": 1138,
   "id": "fd155618",
   "metadata": {},
   "outputs": [
    {
     "data": {
      "text/plain": [
       "{'MAE': 4518.406416257478,\n",
       " 'MSE': 67318123.98041359,\n",
       " 'RMSE': 8204.762274460703,\n",
       " 'MAPE': 97.00763086859871}"
      ]
     },
     "execution_count": 1138,
     "metadata": {},
     "output_type": "execute_result"
    }
   ],
   "source": [
    "## Regresion Lineal (con valores atipicos)\n",
    "modelo01=evalmodelos(LinearRegression(),np.log10,np.exp,\n",
    "            y0_train,X0_train,y0_test,X0_test) #\n",
    "modelo01"
   ]
  },
  {
   "cell_type": "code",
   "execution_count": 1139,
   "id": "0fb3cd12",
   "metadata": {},
   "outputs": [
    {
     "data": {
      "text/plain": [
       "{'MAE': 3336.587586663676,\n",
       " 'MSE': 40952158.54813323,\n",
       " 'RMSE': 6399.387357250163,\n",
       " 'MAPE': 96.7945148668596}"
      ]
     },
     "execution_count": 1139,
     "metadata": {},
     "output_type": "execute_result"
    }
   ],
   "source": [
    "## Regresion Lineal (sin  valores atipicos)\n",
    "modelo1=evalmodelos(LinearRegression(),np.log10,np.exp,\n",
    "            y_train,X_train,y_test,X_test)\n",
    "modelo1\n"
   ]
  },
  {
   "cell_type": "code",
   "execution_count": 1140,
   "id": "1fb8d669",
   "metadata": {},
   "outputs": [
    {
     "data": {
      "text/plain": [
       "{'MAE': 4518.408860623825,\n",
       " 'MSE': 67317487.62529925,\n",
       " 'RMSE': 8204.723494749793,\n",
       " 'MAPE': 96.9779897577819}"
      ]
     },
     "execution_count": 1140,
     "metadata": {},
     "output_type": "execute_result"
    }
   ],
   "source": [
    "## Regresion Ridge  (con valores atipicos)\n",
    "modelo02=evalmodelos(Ridge(alpha=1),np.log10,np.exp,\n",
    "            y0_train,X0_train,y0_test,X0_test)\n",
    "modelo02"
   ]
  },
  {
   "cell_type": "code",
   "execution_count": 1141,
   "id": "2ebbd6e4",
   "metadata": {},
   "outputs": [
    {
     "data": {
      "text/plain": [
       "{'MAE': 3336.61580451857,\n",
       " 'MSE': 40951541.066755764,\n",
       " 'RMSE': 6399.339111717379,\n",
       " 'MAPE': 96.75934270441176}"
      ]
     },
     "execution_count": 1141,
     "metadata": {},
     "output_type": "execute_result"
    }
   ],
   "source": [
    "## Regresion Ridge (sin  valores atipicos)\n",
    "modelo2=evalmodelos(Ridge(alpha=1),np.log10,np.exp,\n",
    "            y_train,X_train,y_test,X_test)\n",
    "modelo2"
   ]
  },
  {
   "cell_type": "code",
   "execution_count": 1142,
   "id": "05f7e143",
   "metadata": {},
   "outputs": [
    {
     "data": {
      "text/plain": [
       "{'MAE': 4518.663028786968,\n",
       " 'MSE': 67327860.45097731,\n",
       " 'RMSE': 8205.35559564467,\n",
       " 'MAPE': 93.31605671536254}"
      ]
     },
     "execution_count": 1142,
     "metadata": {},
     "output_type": "execute_result"
    }
   ],
   "source": [
    "## Regresion Lasso (con  valores atipicos)\n",
    "modelo03=evalmodelos(Lasso(alpha= 0.01),\n",
    "            np.log10,np.exp,\n",
    "            y0_train,\n",
    "            X0_train,\n",
    "            y0_test,\n",
    "            X0_test)\n",
    "modelo03"
   ]
  },
  {
   "cell_type": "code",
   "execution_count": 1143,
   "id": "386120ca",
   "metadata": {},
   "outputs": [
    {
     "data": {
      "text/plain": [
       "{'MAE': 3336.7176740406735,\n",
       " 'MSE': 40957379.020353846,\n",
       " 'RMSE': 6399.79523268939,\n",
       " 'MAPE': 93.64655141672847}"
      ]
     },
     "execution_count": 1143,
     "metadata": {},
     "output_type": "execute_result"
    }
   ],
   "source": [
    "## Regresion Lasso (sin  valores atipicos)\n",
    "modelo3=evalmodelos(Lasso(alpha= 0.01),\n",
    "            np.log10,np.exp,\n",
    "            y_train,\n",
    "            X_train,\n",
    "            y_test,X_test)\n",
    "modelo3"
   ]
  },
  {
   "cell_type": "markdown",
   "id": "2b95430f",
   "metadata": {},
   "source": [
    "* **Usar otros modelos bases para comparar al modelo (ya se usaron: Lineal, Ridge, Laso y Elastic Net)**"
   ]
  },
  {
   "cell_type": "markdown",
   "id": "47f5e6b7",
   "metadata": {},
   "source": [
    "## Modelo de Arboles de Regresion -Suavizacion logaritmica base 10"
   ]
  },
  {
   "cell_type": "code",
   "execution_count": 1144,
   "id": "bec9bb51",
   "metadata": {},
   "outputs": [
    {
     "data": {
      "text/plain": [
       "{'MAE': 3337.0299570226152,\n",
       " 'MSE': 40991932.85011124,\n",
       " 'RMSE': 6402.494267870236,\n",
       " 'MAPE': 93.51732133302889}"
      ]
     },
     "execution_count": 1144,
     "metadata": {},
     "output_type": "execute_result"
    }
   ],
   "source": [
    "from sklearn.tree import DecisionTreeRegressor\n",
    "evalmodelos(DecisionTreeRegressor(max_depth=8,ccp_alpha=0.05,\n",
    "                                  min_samples_split=100,\n",
    "                                  random_state=42),\n",
    "            np.log10,np.exp,y_train,X_train,y_test,X_test)\n",
    "\n",
    "#Se evualua las metricas de presicion para el modelo arbol de regresion con los siguientes parámetros y con semilla (42)\n",
    "#ccp_alpha=0.05\n",
    "#max_depth=8\n",
    "#min_samples_split=100\n"
   ]
  },
  {
   "cell_type": "code",
   "execution_count": 1145,
   "id": "43179bc4",
   "metadata": {},
   "outputs": [
    {
     "name": "stdout",
     "output_type": "stream",
     "text": [
      "{'ccp_alpha': 0.0,\n",
      " 'criterion': 'squared_error',\n",
      " 'max_depth': None,\n",
      " 'max_features': None,\n",
      " 'max_leaf_nodes': None,\n",
      " 'min_impurity_decrease': 0.0,\n",
      " 'min_samples_leaf': 1,\n",
      " 'min_samples_split': 2,\n",
      " 'min_weight_fraction_leaf': 0.0,\n",
      " 'random_state': None,\n",
      " 'splitter': 'best'}\n"
     ]
    }
   ],
   "source": [
    "from pprint import pprint\n",
    "modeloparametros =DecisionTreeRegressor()\n",
    "pprint(modeloparametros.get_params())#Hiperparametros del modelos \n",
    "#muestra todos los hiperparametros del modelo de arboles "
   ]
  },
  {
   "cell_type": "code",
   "execution_count": 1146,
   "id": "eba5a0b0",
   "metadata": {},
   "outputs": [],
   "source": [
    "#DecisionTreeRegressor(max_depth=8,\n",
    "#                     ccp_alpha=0.01,\n",
    "#                     min_samples_split=100,\n",
    "#                     random_state=42)"
   ]
  },
  {
   "cell_type": "code",
   "execution_count": 1147,
   "id": "2f2e6c72",
   "metadata": {},
   "outputs": [
    {
     "name": "stdout",
     "output_type": "stream",
     "text": [
      "{'ccp_alpha': [0.014, 0.015, 0.016, 0.018, 0.02],\n",
      " 'max_depth': [4, 5, 6, 7, 8],\n",
      " 'min_samples_split': [50, 100, 200, 300]}\n"
     ]
    }
   ],
   "source": [
    "#### Random Hyperparameter Grid\n",
    "# Metrics eval\n",
    "ccp_alpha = [0.014, 0.015, 0.016 ,0.018, 0.02]\n",
    "# Maximum number of levels in tree\n",
    "max_depth = [int(x) for x in np.linspace(4, 8, num = 5)]\n",
    "max_depth\n",
    "min_samples_split = [50, 100, 200 ,300]\n",
    "# Create the random grid\n",
    "random_grid = {'ccp_alpha': ccp_alpha,\n",
    "               'max_depth': max_depth,\n",
    "               'min_samples_split': min_samples_split}\n",
    "pprint(random_grid)"
   ]
  },
  {
   "cell_type": "markdown",
   "id": "589ab03d",
   "metadata": {},
   "source": [
    "## Optimizar Hiperparametros con RandomizedSearchCV"
   ]
  },
  {
   "cell_type": "markdown",
   "id": "428a5345",
   "metadata": {},
   "source": [
    "###  * Optimizar los hiperparametros de un modelo arbol de regresion"
   ]
  },
  {
   "cell_type": "code",
   "execution_count": 1148,
   "id": "490333f7",
   "metadata": {},
   "outputs": [
    {
     "name": "stdout",
     "output_type": "stream",
     "text": [
      "{'min_samples_split': 100, 'max_depth': 7, 'ccp_alpha': 0.016}\n"
     ]
    }
   ],
   "source": [
    "from sklearn.model_selection import RandomizedSearchCV\n",
    "from sklearn.tree import DecisionTreeRegressor\n",
    "from scipy.stats import randint\n",
    "\n",
    "#Optimizar los hiperparametros usando el modelo arboles de regresion\n",
    "random_search_Arboles = RandomizedSearchCV( estimator=DecisionTreeRegressor(),     # Modelo a ajustar\n",
    "    param_distributions=random_grid,  # Distribuciones de los hiperparámetros\n",
    "    n_iter=10,            # Número de iteraciones (combinaciones de hiperparámetros) a probar de manera aleatoria\n",
    "    cv=5,                 # Número de divisiones para la validación cruzada\n",
    "    scoring='neg_mean_squared_error',  # Métrica a optimizar (en este caso, el error cuadrático )\n",
    "    random_state=42       # Semilla para reproducibilidad\n",
    ")\n",
    "# Ajustar el modelo a los datos\n",
    "random_search_Arboles.fit(X_train, y_train)\n",
    "# Obtener los mejores hiperparámetros encontrados\n",
    "best_params = random_search_Arboles.best_params_\n",
    "# Obtener el mejor modelo entrenado\n",
    "best_model = random_search_Arboles.best_estimator_\n",
    "# Realizar predicciones con el mejor modelo\n",
    "predictions = best_model.predict(X_test)\n",
    "print(best_params)"
   ]
  },
  {
   "cell_type": "code",
   "execution_count": 1149,
   "id": "07a5fd99",
   "metadata": {},
   "outputs": [],
   "source": [
    "# Obtenemos las mejores metricas siendo estas  {'min_samples_split': 100, 'max_depth': 7, 'ccp_alpha': 0.016}"
   ]
  },
  {
   "cell_type": "markdown",
   "id": "516f0d55",
   "metadata": {},
   "source": [
    "## Metricas del modelo optimizando los hiperparámetros"
   ]
  },
  {
   "cell_type": "code",
   "execution_count": 1150,
   "id": "e416ed15",
   "metadata": {},
   "outputs": [
    {
     "data": {
      "text/plain": [
       "{'MAE': 4518.981624395133,\n",
       " 'MSE': 67355984.07031089,\n",
       " 'RMSE': 8207.0691522803,\n",
       " 'MAPE': 93.19273566200461}"
      ]
     },
     "execution_count": 1150,
     "metadata": {},
     "output_type": "execute_result"
    }
   ],
   "source": [
    "##Arboles de regresion  (sin  valores atipicos)\n",
    "modelo04= evalmodelos(DecisionTreeRegressor(**random_search_Arboles.best_params_),\n",
    "            np.log10,np.exp,y0_train,X0_train,y0_test,X0_test)\n",
    "modelo04"
   ]
  },
  {
   "cell_type": "code",
   "execution_count": 1151,
   "id": "c8c4c2ef",
   "metadata": {},
   "outputs": [
    {
     "data": {
      "text/plain": [
       "{'MAE': 3336.7858826542943,\n",
       " 'MSE': 40990360.0888712,\n",
       " 'RMSE': 6402.371442588379,\n",
       " 'MAPE': 93.44799698466535}"
      ]
     },
     "execution_count": 1151,
     "metadata": {},
     "output_type": "execute_result"
    }
   ],
   "source": [
    "#Arboles de regresion  (con  valores atipicos)\n",
    "modelo4= evalmodelos(DecisionTreeRegressor(**random_search_Arboles.best_params_),\n",
    "            np.log10,np.exp,y_train,X_train,y_test,X_test)\n",
    "modelo4"
   ]
  },
  {
   "cell_type": "code",
   "execution_count": 1152,
   "id": "70b63d43",
   "metadata": {},
   "outputs": [
    {
     "name": "stdout",
     "output_type": "stream",
     "text": [
      "MAE: 3336.7858826542943\n"
     ]
    }
   ],
   "source": [
    "#comprobando la funcion \n",
    "lm2= DecisionTreeRegressor(min_samples_split= 100, max_depth=7, ccp_alpha=0.016)\n",
    "lm2.fit(X_train,np.log10(y_train))\n",
    "predictions2 = np.exp(lm2.predict(X_test))\n",
    "print('MAE:', metrics.mean_absolute_error(y_test, predictions2))"
   ]
  },
  {
   "cell_type": "markdown",
   "id": "9e6df192",
   "metadata": {},
   "source": [
    "# Comparativa de metricas de presición de modelos (con y sin valores atipicos)"
   ]
  },
  {
   "cell_type": "markdown",
   "id": "02d5198f",
   "metadata": {},
   "source": [
    "## Con valores atipicos "
   ]
  },
  {
   "cell_type": "code",
   "execution_count": 1153,
   "id": "e0014cdd",
   "metadata": {},
   "outputs": [
    {
     "data": {
      "text/html": [
       "<div>\n",
       "<style scoped>\n",
       "    .dataframe tbody tr th:only-of-type {\n",
       "        vertical-align: middle;\n",
       "    }\n",
       "\n",
       "    .dataframe tbody tr th {\n",
       "        vertical-align: top;\n",
       "    }\n",
       "\n",
       "    .dataframe thead th {\n",
       "        text-align: right;\n",
       "    }\n",
       "</style>\n",
       "<table border=\"1\" class=\"dataframe\">\n",
       "  <thead>\n",
       "    <tr style=\"text-align: right;\">\n",
       "      <th></th>\n",
       "      <th>RL</th>\n",
       "      <th>Ridge</th>\n",
       "      <th>Lasso</th>\n",
       "      <th>Arboles</th>\n",
       "    </tr>\n",
       "  </thead>\n",
       "  <tbody>\n",
       "    <tr>\n",
       "      <th>MAE</th>\n",
       "      <td>4518.41</td>\n",
       "      <td>4518.41</td>\n",
       "      <td>4518.66</td>\n",
       "      <td>4518.98</td>\n",
       "    </tr>\n",
       "    <tr>\n",
       "      <th>MSE</th>\n",
       "      <td>67318123.98</td>\n",
       "      <td>67317487.63</td>\n",
       "      <td>67327860.45</td>\n",
       "      <td>67355984.07</td>\n",
       "    </tr>\n",
       "    <tr>\n",
       "      <th>RMSE</th>\n",
       "      <td>8204.76</td>\n",
       "      <td>8204.72</td>\n",
       "      <td>8205.36</td>\n",
       "      <td>8207.07</td>\n",
       "    </tr>\n",
       "    <tr>\n",
       "      <th>MAPE</th>\n",
       "      <td>97.01</td>\n",
       "      <td>96.98</td>\n",
       "      <td>93.32</td>\n",
       "      <td>93.19</td>\n",
       "    </tr>\n",
       "  </tbody>\n",
       "</table>\n",
       "</div>"
      ],
      "text/plain": [
       "               RL        Ridge        Lasso      Arboles\n",
       "MAE       4518.41      4518.41      4518.66      4518.98\n",
       "MSE   67318123.98  67317487.63  67327860.45  67355984.07\n",
       "RMSE      8204.76      8204.72      8205.36      8207.07\n",
       "MAPE        97.01        96.98        93.32        93.19"
      ]
     },
     "execution_count": 1153,
     "metadata": {},
     "output_type": "execute_result"
    }
   ],
   "source": [
    "modelosca = {'RL': modelo01,\n",
    "        'Ridge': modelo02,\n",
    "        'Lasso': modelo03,\n",
    "        'Arboles': modelo04}\n",
    "\n",
    "df_modelosconatipicos = pd.DataFrame(modelosca)\n",
    "df_modelosconatipicos = df_modelosconatipicos.round(2)\n",
    "df_modelosconatipicos"
   ]
  },
  {
   "cell_type": "markdown",
   "id": "31eca561",
   "metadata": {},
   "source": [
    "## Sin valores atipicos"
   ]
  },
  {
   "cell_type": "code",
   "execution_count": 1154,
   "id": "15dcfc9c",
   "metadata": {},
   "outputs": [
    {
     "data": {
      "text/html": [
       "<div>\n",
       "<style scoped>\n",
       "    .dataframe tbody tr th:only-of-type {\n",
       "        vertical-align: middle;\n",
       "    }\n",
       "\n",
       "    .dataframe tbody tr th {\n",
       "        vertical-align: top;\n",
       "    }\n",
       "\n",
       "    .dataframe thead th {\n",
       "        text-align: right;\n",
       "    }\n",
       "</style>\n",
       "<table border=\"1\" class=\"dataframe\">\n",
       "  <thead>\n",
       "    <tr style=\"text-align: right;\">\n",
       "      <th></th>\n",
       "      <th>RL</th>\n",
       "      <th>Ridge</th>\n",
       "      <th>Lasso</th>\n",
       "      <th>Arboles</th>\n",
       "    </tr>\n",
       "  </thead>\n",
       "  <tbody>\n",
       "    <tr>\n",
       "      <th>MAE</th>\n",
       "      <td>3336.59</td>\n",
       "      <td>3336.62</td>\n",
       "      <td>3336.72</td>\n",
       "      <td>3336.79</td>\n",
       "    </tr>\n",
       "    <tr>\n",
       "      <th>MSE</th>\n",
       "      <td>40952158.55</td>\n",
       "      <td>40951541.07</td>\n",
       "      <td>40957379.02</td>\n",
       "      <td>40990360.09</td>\n",
       "    </tr>\n",
       "    <tr>\n",
       "      <th>RMSE</th>\n",
       "      <td>6399.39</td>\n",
       "      <td>6399.34</td>\n",
       "      <td>6399.80</td>\n",
       "      <td>6402.37</td>\n",
       "    </tr>\n",
       "    <tr>\n",
       "      <th>MAPE</th>\n",
       "      <td>96.79</td>\n",
       "      <td>96.76</td>\n",
       "      <td>93.65</td>\n",
       "      <td>93.45</td>\n",
       "    </tr>\n",
       "  </tbody>\n",
       "</table>\n",
       "</div>"
      ],
      "text/plain": [
       "               RL        Ridge        Lasso      Arboles\n",
       "MAE       3336.59      3336.62      3336.72      3336.79\n",
       "MSE   40952158.55  40951541.07  40957379.02  40990360.09\n",
       "RMSE      6399.39      6399.34      6399.80      6402.37\n",
       "MAPE        96.79        96.76        93.65        93.45"
      ]
     },
     "execution_count": 1154,
     "metadata": {},
     "output_type": "execute_result"
    }
   ],
   "source": [
    "modelossa = {'RL': modelo1,\n",
    "        'Ridge': modelo2,\n",
    "        'Lasso': modelo3,\n",
    "        'Arboles': modelo4}\n",
    "\n",
    "df_modelossinatipicos = pd.DataFrame(modelossa)\n",
    "df_modelossinatipicos = df_modelossinatipicos.round(2)\n",
    "df_modelossinatipicos"
   ]
  },
  {
   "cell_type": "markdown",
   "id": "127b3458",
   "metadata": {},
   "source": [
    "**Conclusión: Se empleó el logaritmo base 10 como método de suavización para la variable a predecir y la función exponencial para revertir el proceso. También, al eliminar los valores atípicos de las variables Costo, PrecioOfertaProm y MaxDescuento, se observa una reducción en las métricas de precisión. Al evaluar el desempeño mediante el Error Medio Porcentual Absoluto (MAPE) con un 93.45%, se llega a la conclusión de que el modelo de Arboles de Regresión  se ajusta de mejora los datos**\n",
    "\n",
    "\n",
    "\n",
    "\n"
   ]
  }
 ],
 "metadata": {
  "kernelspec": {
   "display_name": "Python 3 (ipykernel)",
   "language": "python",
   "name": "python3"
  },
  "language_info": {
   "codemirror_mode": {
    "name": "ipython",
    "version": 3
   },
   "file_extension": ".py",
   "mimetype": "text/x-python",
   "name": "python",
   "nbconvert_exporter": "python",
   "pygments_lexer": "ipython3",
   "version": "3.11.5"
  }
 },
 "nbformat": 4,
 "nbformat_minor": 5
}
