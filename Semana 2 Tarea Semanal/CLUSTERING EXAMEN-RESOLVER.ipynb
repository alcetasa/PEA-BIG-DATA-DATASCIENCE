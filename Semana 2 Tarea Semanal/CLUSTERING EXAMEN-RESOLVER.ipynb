{
 "cells": [
  {
   "cell_type": "markdown",
   "metadata": {},
   "source": [
    "# Clustering -Tarea"
   ]
  },
  {
   "cell_type": "markdown",
   "metadata": {},
   "source": [
    "Para esta tarea, intentaremos usar  Clustering para agrupar universidadesde acuerdo al criterio que usted decida.\n",
    "\n",
    "___\n",
    "Usaremos un DataFrame con 777 observaciones en las siguientes 18 variables.\n",
    "\n",
    "* Private: Un factor con niveles No y Sí que indican universidad privada o pública\n",
    "* App: Número de aplicaciones recibidas\n",
    "* Accept: Número de solicitudes aceptadas\n",
    "* Enroll: Número de nuevos estudiantes matriculados\n",
    "* Top10perc: Pct. nuevos estudiantes del 10% superior de H.S. clase\n",
    "* Top25perc: Pct. nuevos estudiantes del 25% superior de H.S. clase\n",
    "* F.Undergrad: Número de estudiantes de pregrado a tiempo completo\n",
    "* P.Undergrad: Número de estudiantes universitarios a tiempo parcial\n",
    "* Outstate: estatal fuera del estado\n",
    "* Room.Board: Tabla de alojamiento y alimentación.\n",
    "* Books: Costo estimado del libro\n",
    "* Personal: Gastos personales estimados personales\n",
    "* PhD: Pct. de la facultad con doctorado\n",
    "* Terminal: Pct. de la facultad con título terminal\n",
    "* S.F.Ratio: Relación estudiante / facultad\n",
    "* perc.alumni: Pct. ex alumnos que donan\n",
    "* Expend:  gastos de instrucción por alumno\n",
    "* Grad.Rate Tasa de graduación\n",
    "\n",
    "AL FINAL PONER EL MODELO Y LOS CLUSTER CON MEJOR RESULTADO!!\n",
    "SOLO HAGA EL GRAFICO DE 3D"
   ]
  },
  {
   "cell_type": "markdown",
   "metadata": {},
   "source": [
    "## Librerias"
   ]
  },
  {
   "cell_type": "markdown",
   "metadata": {},
   "source": [
    "**Poner la librerías que uso en clase para el tema de clustering**"
   ]
  },
  {
   "cell_type": "code",
   "execution_count": null,
   "metadata": {},
   "outputs": [],
   "source": []
  },
  {
   "cell_type": "markdown",
   "metadata": {},
   "source": [
    "**Leer en el archivo College_Data usando read_csv. y asiganrle como datframe el nombre data**"
   ]
  },
  {
   "cell_type": "code",
   "execution_count": null,
   "metadata": {},
   "outputs": [],
   "source": []
  },
  {
   "cell_type": "markdown",
   "metadata": {},
   "source": [
    "## Que variables debes usar"
   ]
  },
  {
   "cell_type": "markdown",
   "metadata": {},
   "source": [
    "Usar modelos de clustering Jerarquico, PAM y Kemans comparar cual es mejor de acuerdo a la métrica de silueta, probando solo con un dataset normalizado con la siguiente lista de variables  ['Apps', 'Accept','F.Undergrad', 'P.Undergrad', 'Outstate', 'Room.Board',\n",
    "        'Terminal','Expend', 'Grad.Rate'] "
   ]
  },
  {
   "cell_type": "code",
   "execution_count": null,
   "metadata": {},
   "outputs": [],
   "source": []
  },
  {
   "cell_type": "markdown",
   "metadata": {},
   "source": [
    "### Use  Estadarización o Normalización en los datos y probar con los 3 modelos (jerarquicos, kmedios, kmeans),  para ver cual es mejor con la métrica de silueta (poner el resultado final)"
   ]
  },
  {
   "cell_type": "code",
   "execution_count": null,
   "metadata": {},
   "outputs": [],
   "source": []
  },
  {
   "cell_type": "markdown",
   "metadata": {},
   "source": [
    "## Generar el Dendograma\n",
    "\n",
    "Tomar en cuenta el corte  para ir probando entre 3 a 5 cluster's y evaluar cuales mejor como se hizo en clase"
   ]
  },
  {
   "cell_type": "code",
   "execution_count": null,
   "metadata": {},
   "outputs": [],
   "source": []
  },
  {
   "cell_type": "markdown",
   "metadata": {},
   "source": [
    "## Use el Modelo Jerarquico ( seed = 16)"
   ]
  },
  {
   "cell_type": "code",
   "execution_count": null,
   "metadata": {},
   "outputs": [],
   "source": []
  },
  {
   "cell_type": "code",
   "execution_count": null,
   "metadata": {},
   "outputs": [],
   "source": []
  },
  {
   "cell_type": "markdown",
   "metadata": {},
   "source": [
    "## Visualizacion en 3D\n",
    "\n",
    "Tener cuidado que los ejes debe de tener los siguientes nombres zscore_df.Apps, zscore_df.Accept, zscore_df.Outstate ; dado que tiene que se columnas del dataset que estamos usando"
   ]
  },
  {
   "cell_type": "code",
   "execution_count": null,
   "metadata": {},
   "outputs": [],
   "source": []
  },
  {
   "cell_type": "markdown",
   "metadata": {},
   "source": [
    "### Métrica de Silueta probar y comparar con 3 ,4 y 5 cluster"
   ]
  },
  {
   "cell_type": "code",
   "execution_count": null,
   "metadata": {},
   "outputs": [],
   "source": []
  },
  {
   "cell_type": "code",
   "execution_count": null,
   "metadata": {},
   "outputs": [],
   "source": []
  },
  {
   "cell_type": "markdown",
   "metadata": {},
   "source": [
    "## Use Kmedoides con P.A.M\n",
    "\n",
    "Debemos de fijar la cantidad de cluster por ejemplo  kmedoids(zscore_df1.values, [3, 6, 4],random_state=16), Es decir [3, 6, 4] esto representa  3 cluster de forma aleatoria y si queremos probar mas cluster para comparanos con jearquico en caso este tenga más cluster solo agregamos mas valores a lista de forma aleatoria que no sea mayor a la cantidad total del dataset y que no se repita (elija las que guste)."
   ]
  },
  {
   "cell_type": "code",
   "execution_count": null,
   "metadata": {},
   "outputs": [],
   "source": []
  },
  {
   "cell_type": "markdown",
   "metadata": {},
   "source": [
    "Adecuamos los cluster con etiquetas. Recordar los comentarios que se puso"
   ]
  },
  {
   "cell_type": "code",
   "execution_count": null,
   "metadata": {},
   "outputs": [],
   "source": []
  },
  {
   "cell_type": "code",
   "execution_count": null,
   "metadata": {},
   "outputs": [],
   "source": []
  },
  {
   "cell_type": "code",
   "execution_count": null,
   "metadata": {},
   "outputs": [],
   "source": []
  },
  {
   "cell_type": "markdown",
   "metadata": {},
   "source": [
    "## Visualizacion en 3D\n",
    "Tener cuidado que los ejes debe de tener los siguientes nombres zscore_df.Apps, zscore_df.Accept, zscore_df.Outstate ; dado que tiene que se columnas del dataset que estamos usando"
   ]
  },
  {
   "cell_type": "code",
   "execution_count": null,
   "metadata": {},
   "outputs": [],
   "source": []
  },
  {
   "cell_type": "markdown",
   "metadata": {},
   "source": [
    "### Métrica de Silueta probar y comparar con 3 ,4 y 5 cluster"
   ]
  },
  {
   "cell_type": "code",
   "execution_count": null,
   "metadata": {},
   "outputs": [],
   "source": []
  },
  {
   "cell_type": "code",
   "execution_count": null,
   "metadata": {},
   "outputs": [],
   "source": []
  },
  {
   "cell_type": "markdown",
   "metadata": {},
   "source": [
    "## Use con Kmeans (random_state 16)"
   ]
  },
  {
   "cell_type": "code",
   "execution_count": null,
   "metadata": {},
   "outputs": [],
   "source": []
  },
  {
   "cell_type": "code",
   "execution_count": null,
   "metadata": {},
   "outputs": [],
   "source": []
  },
  {
   "cell_type": "markdown",
   "metadata": {},
   "source": [
    "## Visualizacion en 3D\n",
    "Tener cuidado que los ejes debe de tener los siguientes nombres zscore_df.Apps, zscore_df.Accept, zscore_df.Outstate ; dado que tiene que se columnas del dataset que estamos usando"
   ]
  },
  {
   "cell_type": "code",
   "execution_count": null,
   "metadata": {},
   "outputs": [],
   "source": []
  },
  {
   "cell_type": "markdown",
   "metadata": {},
   "source": [
    "### Métrica de Silueta probar y comparar con 3 ,4 y 5 cluster"
   ]
  },
  {
   "cell_type": "code",
   "execution_count": null,
   "metadata": {},
   "outputs": [],
   "source": []
  },
  {
   "cell_type": "code",
   "execution_count": null,
   "metadata": {},
   "outputs": [],
   "source": []
  }
 ],
 "metadata": {
  "kernelspec": {
   "display_name": "Python 3.12.0 64-bit",
   "language": "python",
   "name": "python3"
  },
  "language_info": {
   "codemirror_mode": {
    "name": "ipython",
    "version": 3
   },
   "file_extension": ".py",
   "mimetype": "text/x-python",
   "name": "python",
   "nbconvert_exporter": "python",
   "pygments_lexer": "ipython3",
   "version": "3.12.0"
  },
  "vscode": {
   "interpreter": {
    "hash": "011b0377471e3bd4281c31f586d9a5da5e5d06d366c19a278e4954edebf632f6"
   }
  }
 },
 "nbformat": 4,
 "nbformat_minor": 2
}
