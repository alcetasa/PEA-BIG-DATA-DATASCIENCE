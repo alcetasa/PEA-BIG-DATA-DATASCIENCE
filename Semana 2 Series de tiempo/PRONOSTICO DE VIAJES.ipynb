{
 "cells": [
  {
   "cell_type": "markdown",
   "id": "423b97d5",
   "metadata": {},
   "source": [
    "# PRONOSTICO DE VIAJES"
   ]
  },
  {
   "cell_type": "markdown",
   "id": "47d157eb",
   "metadata": {},
   "source": [
    "En este articulo quiero realizar un pronóstico de los viajes en bicicletas públicas para la Ciudad de México (CDMX). Los datos son los viajes realizados durante el mes de octubre de 2018 en EcoBici. \n",
    "Se utilizará un modelo de series de tiempo ARIMA estacional. Pretendo mostrar una parte del proceso de ciencia de datos a través de este caso de estudio.\n",
    "\n",
    "EcoBici es el sistema de bicicletas públicas de la CDMX. Es utilizado por sus habitantes y turistas como medio de transporte y recreación. Este servicio se presta desde 2010 y cuenta con más de 170 mil usuarios registrados, más de 6 mil 800 bicicletas y mas de 100 cicloestaciones distribuidas en 55 colonias de la ciudad. Fuente: https://www.ecobici.cdmx.gob.mx/es/informacion-del-servicio/que-es-ecobici"
   ]
  },
  {
   "cell_type": "markdown",
   "id": "bcac097b",
   "metadata": {},
   "source": [
    "### Lectura de Información\n",
    "Para la lectura, limpieza y procesamiento utilizamos los dataframes de pandas."
   ]
  },
  {
   "cell_type": "code",
   "execution_count": 1,
   "id": "0662dc88",
   "metadata": {},
   "outputs": [],
   "source": [
    "import pandas as pd\n",
    "viajes = pd.read_csv('2018-10.csv')"
   ]
  },
  {
   "cell_type": "code",
   "execution_count": 2,
   "id": "0dfac6c1",
   "metadata": {},
   "outputs": [
    {
     "data": {
      "text/html": [
       "<div>\n",
       "<style scoped>\n",
       "    .dataframe tbody tr th:only-of-type {\n",
       "        vertical-align: middle;\n",
       "    }\n",
       "\n",
       "    .dataframe tbody tr th {\n",
       "        vertical-align: top;\n",
       "    }\n",
       "\n",
       "    .dataframe thead th {\n",
       "        text-align: right;\n",
       "    }\n",
       "</style>\n",
       "<table border=\"1\" class=\"dataframe\">\n",
       "  <thead>\n",
       "    <tr style=\"text-align: right;\">\n",
       "      <th></th>\n",
       "      <th>Genero_Usuario</th>\n",
       "      <th>Edad_Usuario</th>\n",
       "      <th>Bici</th>\n",
       "      <th>Ciclo_Estacion_Retiro</th>\n",
       "      <th>Fecha_Retiro</th>\n",
       "      <th>Hora_Retiro</th>\n",
       "      <th>Ciclo_Estacion_Arribo</th>\n",
       "      <th>Fecha_Arribo</th>\n",
       "      <th>Hora_Arribo</th>\n",
       "    </tr>\n",
       "  </thead>\n",
       "  <tbody>\n",
       "    <tr>\n",
       "      <th>0</th>\n",
       "      <td>M</td>\n",
       "      <td>58</td>\n",
       "      <td>2176</td>\n",
       "      <td>299</td>\n",
       "      <td>01/10/2018</td>\n",
       "      <td>0:00:02</td>\n",
       "      <td>75</td>\n",
       "      <td>01/10/2018</td>\n",
       "      <td>0:12:02</td>\n",
       "    </tr>\n",
       "    <tr>\n",
       "      <th>1</th>\n",
       "      <td>F</td>\n",
       "      <td>42</td>\n",
       "      <td>9816</td>\n",
       "      <td>43</td>\n",
       "      <td>01/10/2018</td>\n",
       "      <td>0:00:23</td>\n",
       "      <td>256</td>\n",
       "      <td>01/10/2018</td>\n",
       "      <td>0:15:02</td>\n",
       "    </tr>\n",
       "    <tr>\n",
       "      <th>2</th>\n",
       "      <td>M</td>\n",
       "      <td>30</td>\n",
       "      <td>11219</td>\n",
       "      <td>37</td>\n",
       "      <td>01/10/2018</td>\n",
       "      <td>0:00:34</td>\n",
       "      <td>1</td>\n",
       "      <td>01/10/2018</td>\n",
       "      <td>0:09:09</td>\n",
       "    </tr>\n",
       "    <tr>\n",
       "      <th>3</th>\n",
       "      <td>M</td>\n",
       "      <td>26</td>\n",
       "      <td>3910</td>\n",
       "      <td>123</td>\n",
       "      <td>01/10/2018</td>\n",
       "      <td>0:01:36</td>\n",
       "      <td>182</td>\n",
       "      <td>01/10/2018</td>\n",
       "      <td>0:37:22</td>\n",
       "    </tr>\n",
       "    <tr>\n",
       "      <th>4</th>\n",
       "      <td>M</td>\n",
       "      <td>29</td>\n",
       "      <td>11487</td>\n",
       "      <td>41</td>\n",
       "      <td>01/10/2018</td>\n",
       "      <td>0:02:39</td>\n",
       "      <td>30</td>\n",
       "      <td>01/10/2018</td>\n",
       "      <td>0:11:29</td>\n",
       "    </tr>\n",
       "    <tr>\n",
       "      <th>...</th>\n",
       "      <td>...</td>\n",
       "      <td>...</td>\n",
       "      <td>...</td>\n",
       "      <td>...</td>\n",
       "      <td>...</td>\n",
       "      <td>...</td>\n",
       "      <td>...</td>\n",
       "      <td>...</td>\n",
       "      <td>...</td>\n",
       "    </tr>\n",
       "    <tr>\n",
       "      <th>784285</th>\n",
       "      <td>M</td>\n",
       "      <td>25</td>\n",
       "      <td>11515</td>\n",
       "      <td>317</td>\n",
       "      <td>30/10/2018</td>\n",
       "      <td>23:57:46</td>\n",
       "      <td>325</td>\n",
       "      <td>31/10/2018</td>\n",
       "      <td>0:01:33</td>\n",
       "    </tr>\n",
       "    <tr>\n",
       "      <th>784286</th>\n",
       "      <td>M</td>\n",
       "      <td>29</td>\n",
       "      <td>11647</td>\n",
       "      <td>53</td>\n",
       "      <td>30/10/2018</td>\n",
       "      <td>23:58:12</td>\n",
       "      <td>53</td>\n",
       "      <td>31/10/2018</td>\n",
       "      <td>0:07:17</td>\n",
       "    </tr>\n",
       "    <tr>\n",
       "      <th>784287</th>\n",
       "      <td>M</td>\n",
       "      <td>40</td>\n",
       "      <td>3120</td>\n",
       "      <td>208</td>\n",
       "      <td>30/10/2018</td>\n",
       "      <td>23:58:13</td>\n",
       "      <td>246</td>\n",
       "      <td>31/10/2018</td>\n",
       "      <td>0:03:37</td>\n",
       "    </tr>\n",
       "    <tr>\n",
       "      <th>784288</th>\n",
       "      <td>F</td>\n",
       "      <td>29</td>\n",
       "      <td>10983</td>\n",
       "      <td>182</td>\n",
       "      <td>30/10/2018</td>\n",
       "      <td>23:59:07</td>\n",
       "      <td>171</td>\n",
       "      <td>31/10/2018</td>\n",
       "      <td>0:04:06</td>\n",
       "    </tr>\n",
       "    <tr>\n",
       "      <th>784289</th>\n",
       "      <td>M</td>\n",
       "      <td>28</td>\n",
       "      <td>3007</td>\n",
       "      <td>104</td>\n",
       "      <td>30/10/2018</td>\n",
       "      <td>23:59:23</td>\n",
       "      <td>104</td>\n",
       "      <td>31/10/2018</td>\n",
       "      <td>0:22:16</td>\n",
       "    </tr>\n",
       "  </tbody>\n",
       "</table>\n",
       "<p>784290 rows × 9 columns</p>\n",
       "</div>"
      ],
      "text/plain": [
       "       Genero_Usuario  Edad_Usuario   Bici  Ciclo_Estacion_Retiro  \\\n",
       "0                   M            58   2176                    299   \n",
       "1                   F            42   9816                     43   \n",
       "2                   M            30  11219                     37   \n",
       "3                   M            26   3910                    123   \n",
       "4                   M            29  11487                     41   \n",
       "...               ...           ...    ...                    ...   \n",
       "784285              M            25  11515                    317   \n",
       "784286              M            29  11647                     53   \n",
       "784287              M            40   3120                    208   \n",
       "784288              F            29  10983                    182   \n",
       "784289              M            28   3007                    104   \n",
       "\n",
       "       Fecha_Retiro Hora_Retiro  Ciclo_Estacion_Arribo Fecha_Arribo  \\\n",
       "0        01/10/2018     0:00:02                     75   01/10/2018   \n",
       "1        01/10/2018     0:00:23                    256   01/10/2018   \n",
       "2        01/10/2018     0:00:34                      1   01/10/2018   \n",
       "3        01/10/2018     0:01:36                    182   01/10/2018   \n",
       "4        01/10/2018     0:02:39                     30   01/10/2018   \n",
       "...             ...         ...                    ...          ...   \n",
       "784285   30/10/2018    23:57:46                    325   31/10/2018   \n",
       "784286   30/10/2018    23:58:12                     53   31/10/2018   \n",
       "784287   30/10/2018    23:58:13                    246   31/10/2018   \n",
       "784288   30/10/2018    23:59:07                    171   31/10/2018   \n",
       "784289   30/10/2018    23:59:23                    104   31/10/2018   \n",
       "\n",
       "       Hora_Arribo  \n",
       "0          0:12:02  \n",
       "1          0:15:02  \n",
       "2          0:09:09  \n",
       "3          0:37:22  \n",
       "4          0:11:29  \n",
       "...            ...  \n",
       "784285     0:01:33  \n",
       "784286     0:07:17  \n",
       "784287     0:03:37  \n",
       "784288     0:04:06  \n",
       "784289     0:22:16  \n",
       "\n",
       "[784290 rows x 9 columns]"
      ]
     },
     "execution_count": 2,
     "metadata": {},
     "output_type": "execute_result"
    }
   ],
   "source": [
    "viajes"
   ]
  },
  {
   "cell_type": "markdown",
   "id": "69355fe1",
   "metadata": {},
   "source": [
    "## Procesamiento\n",
    "Para obtener la cantidad de viajes se puede incorporar un índice temporal al dataframe y luego agrupar según la cantidad de viajes por hora. Concatenamos las columnas de fecha y hora de retiro separadas por un espacio y cambiamos el tipo de dato de string a datetime. Luego asignamos los tiempos al índice del dataframe y limpiamos posibles valores para otros meses o años. Estas tareas se pueden realizar utilizando el siguiente código:"
   ]
  },
  {
   "cell_type": "code",
   "execution_count": 3,
   "id": "29dbb207",
   "metadata": {},
   "outputs": [],
   "source": [
    "from datetime import datetime"
   ]
  },
  {
   "cell_type": "code",
   "execution_count": 4,
   "id": "47d00778",
   "metadata": {},
   "outputs": [],
   "source": [
    "# concatenar Hora_Retiro y Fecha_Retiro\n",
    "viajes['fecha_hora_retiro'] = viajes.Fecha_Retiro + ' ' + viajes.Hora_Retiro\n",
    "\n",
    "# cambiar de str a datetime\n",
    "viajes['fecha_hora'] = viajes.fecha_hora_retiro \\\n",
    "                             .map(lambda x : datetime.strptime(x, '%d/%m/%Y %H:%M:%S'))\n",
    "\n",
    "# reindexar el dataframe\n",
    "viajes.index = viajes.fecha_hora\n",
    "\n",
    "# limpiar valores de otros años\n",
    "viajes = viajes.loc['2018-10']"
   ]
  },
  {
   "cell_type": "code",
   "execution_count": 7,
   "id": "b91a479b",
   "metadata": {},
   "outputs": [
    {
     "data": {
      "text/html": [
       "<div>\n",
       "<style scoped>\n",
       "    .dataframe tbody tr th:only-of-type {\n",
       "        vertical-align: middle;\n",
       "    }\n",
       "\n",
       "    .dataframe tbody tr th {\n",
       "        vertical-align: top;\n",
       "    }\n",
       "\n",
       "    .dataframe thead th {\n",
       "        text-align: right;\n",
       "    }\n",
       "</style>\n",
       "<table border=\"1\" class=\"dataframe\">\n",
       "  <thead>\n",
       "    <tr style=\"text-align: right;\">\n",
       "      <th></th>\n",
       "      <th>Genero_Usuario</th>\n",
       "      <th>Edad_Usuario</th>\n",
       "      <th>Bici</th>\n",
       "      <th>Ciclo_Estacion_Retiro</th>\n",
       "      <th>Fecha_Retiro</th>\n",
       "      <th>Hora_Retiro</th>\n",
       "      <th>Ciclo_Estacion_Arribo</th>\n",
       "      <th>Fecha_Arribo</th>\n",
       "      <th>Hora_Arribo</th>\n",
       "      <th>fecha_hora_retiro</th>\n",
       "      <th>fecha_hora</th>\n",
       "    </tr>\n",
       "    <tr>\n",
       "      <th>fecha_hora</th>\n",
       "      <th></th>\n",
       "      <th></th>\n",
       "      <th></th>\n",
       "      <th></th>\n",
       "      <th></th>\n",
       "      <th></th>\n",
       "      <th></th>\n",
       "      <th></th>\n",
       "      <th></th>\n",
       "      <th></th>\n",
       "      <th></th>\n",
       "    </tr>\n",
       "  </thead>\n",
       "  <tbody>\n",
       "    <tr>\n",
       "      <th>2018-10-01 00:00:02</th>\n",
       "      <td>M</td>\n",
       "      <td>58</td>\n",
       "      <td>2176</td>\n",
       "      <td>299</td>\n",
       "      <td>01/10/2018</td>\n",
       "      <td>0:00:02</td>\n",
       "      <td>75</td>\n",
       "      <td>01/10/2018</td>\n",
       "      <td>0:12:02</td>\n",
       "      <td>01/10/2018 0:00:02</td>\n",
       "      <td>2018-10-01 00:00:02</td>\n",
       "    </tr>\n",
       "    <tr>\n",
       "      <th>2018-10-01 00:00:23</th>\n",
       "      <td>F</td>\n",
       "      <td>42</td>\n",
       "      <td>9816</td>\n",
       "      <td>43</td>\n",
       "      <td>01/10/2018</td>\n",
       "      <td>0:00:23</td>\n",
       "      <td>256</td>\n",
       "      <td>01/10/2018</td>\n",
       "      <td>0:15:02</td>\n",
       "      <td>01/10/2018 0:00:23</td>\n",
       "      <td>2018-10-01 00:00:23</td>\n",
       "    </tr>\n",
       "    <tr>\n",
       "      <th>2018-10-01 00:00:34</th>\n",
       "      <td>M</td>\n",
       "      <td>30</td>\n",
       "      <td>11219</td>\n",
       "      <td>37</td>\n",
       "      <td>01/10/2018</td>\n",
       "      <td>0:00:34</td>\n",
       "      <td>1</td>\n",
       "      <td>01/10/2018</td>\n",
       "      <td>0:09:09</td>\n",
       "      <td>01/10/2018 0:00:34</td>\n",
       "      <td>2018-10-01 00:00:34</td>\n",
       "    </tr>\n",
       "    <tr>\n",
       "      <th>2018-10-01 00:01:36</th>\n",
       "      <td>M</td>\n",
       "      <td>26</td>\n",
       "      <td>3910</td>\n",
       "      <td>123</td>\n",
       "      <td>01/10/2018</td>\n",
       "      <td>0:01:36</td>\n",
       "      <td>182</td>\n",
       "      <td>01/10/2018</td>\n",
       "      <td>0:37:22</td>\n",
       "      <td>01/10/2018 0:01:36</td>\n",
       "      <td>2018-10-01 00:01:36</td>\n",
       "    </tr>\n",
       "    <tr>\n",
       "      <th>2018-10-01 00:02:39</th>\n",
       "      <td>M</td>\n",
       "      <td>29</td>\n",
       "      <td>11487</td>\n",
       "      <td>41</td>\n",
       "      <td>01/10/2018</td>\n",
       "      <td>0:02:39</td>\n",
       "      <td>30</td>\n",
       "      <td>01/10/2018</td>\n",
       "      <td>0:11:29</td>\n",
       "      <td>01/10/2018 0:02:39</td>\n",
       "      <td>2018-10-01 00:02:39</td>\n",
       "    </tr>\n",
       "    <tr>\n",
       "      <th>...</th>\n",
       "      <td>...</td>\n",
       "      <td>...</td>\n",
       "      <td>...</td>\n",
       "      <td>...</td>\n",
       "      <td>...</td>\n",
       "      <td>...</td>\n",
       "      <td>...</td>\n",
       "      <td>...</td>\n",
       "      <td>...</td>\n",
       "      <td>...</td>\n",
       "      <td>...</td>\n",
       "    </tr>\n",
       "    <tr>\n",
       "      <th>2018-10-30 23:57:46</th>\n",
       "      <td>M</td>\n",
       "      <td>25</td>\n",
       "      <td>11515</td>\n",
       "      <td>317</td>\n",
       "      <td>30/10/2018</td>\n",
       "      <td>23:57:46</td>\n",
       "      <td>325</td>\n",
       "      <td>31/10/2018</td>\n",
       "      <td>0:01:33</td>\n",
       "      <td>30/10/2018 23:57:46</td>\n",
       "      <td>2018-10-30 23:57:46</td>\n",
       "    </tr>\n",
       "    <tr>\n",
       "      <th>2018-10-30 23:58:12</th>\n",
       "      <td>M</td>\n",
       "      <td>29</td>\n",
       "      <td>11647</td>\n",
       "      <td>53</td>\n",
       "      <td>30/10/2018</td>\n",
       "      <td>23:58:12</td>\n",
       "      <td>53</td>\n",
       "      <td>31/10/2018</td>\n",
       "      <td>0:07:17</td>\n",
       "      <td>30/10/2018 23:58:12</td>\n",
       "      <td>2018-10-30 23:58:12</td>\n",
       "    </tr>\n",
       "    <tr>\n",
       "      <th>2018-10-30 23:58:13</th>\n",
       "      <td>M</td>\n",
       "      <td>40</td>\n",
       "      <td>3120</td>\n",
       "      <td>208</td>\n",
       "      <td>30/10/2018</td>\n",
       "      <td>23:58:13</td>\n",
       "      <td>246</td>\n",
       "      <td>31/10/2018</td>\n",
       "      <td>0:03:37</td>\n",
       "      <td>30/10/2018 23:58:13</td>\n",
       "      <td>2018-10-30 23:58:13</td>\n",
       "    </tr>\n",
       "    <tr>\n",
       "      <th>2018-10-30 23:59:07</th>\n",
       "      <td>F</td>\n",
       "      <td>29</td>\n",
       "      <td>10983</td>\n",
       "      <td>182</td>\n",
       "      <td>30/10/2018</td>\n",
       "      <td>23:59:07</td>\n",
       "      <td>171</td>\n",
       "      <td>31/10/2018</td>\n",
       "      <td>0:04:06</td>\n",
       "      <td>30/10/2018 23:59:07</td>\n",
       "      <td>2018-10-30 23:59:07</td>\n",
       "    </tr>\n",
       "    <tr>\n",
       "      <th>2018-10-30 23:59:23</th>\n",
       "      <td>M</td>\n",
       "      <td>28</td>\n",
       "      <td>3007</td>\n",
       "      <td>104</td>\n",
       "      <td>30/10/2018</td>\n",
       "      <td>23:59:23</td>\n",
       "      <td>104</td>\n",
       "      <td>31/10/2018</td>\n",
       "      <td>0:22:16</td>\n",
       "      <td>30/10/2018 23:59:23</td>\n",
       "      <td>2018-10-30 23:59:23</td>\n",
       "    </tr>\n",
       "  </tbody>\n",
       "</table>\n",
       "<p>784250 rows × 11 columns</p>\n",
       "</div>"
      ],
      "text/plain": [
       "                    Genero_Usuario  Edad_Usuario   Bici  \\\n",
       "fecha_hora                                                \n",
       "2018-10-01 00:00:02              M            58   2176   \n",
       "2018-10-01 00:00:23              F            42   9816   \n",
       "2018-10-01 00:00:34              M            30  11219   \n",
       "2018-10-01 00:01:36              M            26   3910   \n",
       "2018-10-01 00:02:39              M            29  11487   \n",
       "...                            ...           ...    ...   \n",
       "2018-10-30 23:57:46              M            25  11515   \n",
       "2018-10-30 23:58:12              M            29  11647   \n",
       "2018-10-30 23:58:13              M            40   3120   \n",
       "2018-10-30 23:59:07              F            29  10983   \n",
       "2018-10-30 23:59:23              M            28   3007   \n",
       "\n",
       "                     Ciclo_Estacion_Retiro Fecha_Retiro Hora_Retiro  \\\n",
       "fecha_hora                                                            \n",
       "2018-10-01 00:00:02                    299   01/10/2018     0:00:02   \n",
       "2018-10-01 00:00:23                     43   01/10/2018     0:00:23   \n",
       "2018-10-01 00:00:34                     37   01/10/2018     0:00:34   \n",
       "2018-10-01 00:01:36                    123   01/10/2018     0:01:36   \n",
       "2018-10-01 00:02:39                     41   01/10/2018     0:02:39   \n",
       "...                                    ...          ...         ...   \n",
       "2018-10-30 23:57:46                    317   30/10/2018    23:57:46   \n",
       "2018-10-30 23:58:12                     53   30/10/2018    23:58:12   \n",
       "2018-10-30 23:58:13                    208   30/10/2018    23:58:13   \n",
       "2018-10-30 23:59:07                    182   30/10/2018    23:59:07   \n",
       "2018-10-30 23:59:23                    104   30/10/2018    23:59:23   \n",
       "\n",
       "                     Ciclo_Estacion_Arribo Fecha_Arribo Hora_Arribo  \\\n",
       "fecha_hora                                                            \n",
       "2018-10-01 00:00:02                     75   01/10/2018     0:12:02   \n",
       "2018-10-01 00:00:23                    256   01/10/2018     0:15:02   \n",
       "2018-10-01 00:00:34                      1   01/10/2018     0:09:09   \n",
       "2018-10-01 00:01:36                    182   01/10/2018     0:37:22   \n",
       "2018-10-01 00:02:39                     30   01/10/2018     0:11:29   \n",
       "...                                    ...          ...         ...   \n",
       "2018-10-30 23:57:46                    325   31/10/2018     0:01:33   \n",
       "2018-10-30 23:58:12                     53   31/10/2018     0:07:17   \n",
       "2018-10-30 23:58:13                    246   31/10/2018     0:03:37   \n",
       "2018-10-30 23:59:07                    171   31/10/2018     0:04:06   \n",
       "2018-10-30 23:59:23                    104   31/10/2018     0:22:16   \n",
       "\n",
       "                       fecha_hora_retiro          fecha_hora  \n",
       "fecha_hora                                                    \n",
       "2018-10-01 00:00:02   01/10/2018 0:00:02 2018-10-01 00:00:02  \n",
       "2018-10-01 00:00:23   01/10/2018 0:00:23 2018-10-01 00:00:23  \n",
       "2018-10-01 00:00:34   01/10/2018 0:00:34 2018-10-01 00:00:34  \n",
       "2018-10-01 00:01:36   01/10/2018 0:01:36 2018-10-01 00:01:36  \n",
       "2018-10-01 00:02:39   01/10/2018 0:02:39 2018-10-01 00:02:39  \n",
       "...                                  ...                 ...  \n",
       "2018-10-30 23:57:46  30/10/2018 23:57:46 2018-10-30 23:57:46  \n",
       "2018-10-30 23:58:12  30/10/2018 23:58:12 2018-10-30 23:58:12  \n",
       "2018-10-30 23:58:13  30/10/2018 23:58:13 2018-10-30 23:58:13  \n",
       "2018-10-30 23:59:07  30/10/2018 23:59:07 2018-10-30 23:59:07  \n",
       "2018-10-30 23:59:23  30/10/2018 23:59:23 2018-10-30 23:59:23  \n",
       "\n",
       "[784250 rows x 11 columns]"
      ]
     },
     "execution_count": 7,
     "metadata": {},
     "output_type": "execute_result"
    }
   ],
   "source": [
    "viajes"
   ]
  },
  {
   "cell_type": "markdown",
   "id": "bf03df7a",
   "metadata": {},
   "source": [
    "El próximo paso es la agrupación de viajes por hora. "
   ]
  },
  {
   "cell_type": "code",
   "execution_count": 5,
   "id": "ea26453c",
   "metadata": {},
   "outputs": [],
   "source": [
    "# resample y agregacion por dia de mes\n",
    "viajes_resample_day = viajes.Bici.resample('H').count()"
   ]
  },
  {
   "cell_type": "code",
   "execution_count": 6,
   "id": "414bc6e9",
   "metadata": {},
   "outputs": [
    {
     "data": {
      "text/plain": [
       "fecha_hora\n",
       "2018-10-01 00:00:00      47\n",
       "2018-10-01 01:00:00       0\n",
       "2018-10-01 02:00:00       0\n",
       "2018-10-01 03:00:00       0\n",
       "2018-10-01 04:00:00       0\n",
       "                       ... \n",
       "2018-10-31 19:00:00    2360\n",
       "2018-10-31 20:00:00    1443\n",
       "2018-10-31 21:00:00     821\n",
       "2018-10-31 22:00:00     566\n",
       "2018-10-31 23:00:00     261\n",
       "Freq: H, Name: Bici, Length: 744, dtype: int64"
      ]
     },
     "execution_count": 6,
     "metadata": {},
     "output_type": "execute_result"
    }
   ],
   "source": [
    "viajes_resample_day"
   ]
  },
  {
   "cell_type": "code",
   "execution_count": 8,
   "id": "7ca1fc9a",
   "metadata": {},
   "outputs": [],
   "source": [
    "# asignar día de la semana\n",
    "df_resample = pd.concat([viajes_resample_day], axis=1)\n",
    "df_resample['dayofweek'] = df_resample.index.dayofweek # 0 es lunes\n",
    "\n",
    "# lunes a viernes\n",
    "df_mon_to_fri = df_resample[df_resample.dayofweek.isin([0,1,2,3,4])].Bici"
   ]
  },
  {
   "cell_type": "code",
   "execution_count": 9,
   "id": "1d7d5083",
   "metadata": {},
   "outputs": [
    {
     "data": {
      "text/plain": [
       "fecha_hora\n",
       "2018-10-01 00:00:00      47\n",
       "2018-10-01 01:00:00       0\n",
       "2018-10-01 02:00:00       0\n",
       "2018-10-01 03:00:00       0\n",
       "2018-10-01 04:00:00       0\n",
       "                       ... \n",
       "2018-10-31 19:00:00    2360\n",
       "2018-10-31 20:00:00    1443\n",
       "2018-10-31 21:00:00     821\n",
       "2018-10-31 22:00:00     566\n",
       "2018-10-31 23:00:00     261\n",
       "Name: Bici, Length: 552, dtype: int64"
      ]
     },
     "execution_count": 9,
     "metadata": {},
     "output_type": "execute_result"
    }
   ],
   "source": [
    "df_mon_to_fri"
   ]
  },
  {
   "cell_type": "markdown",
   "id": "0024e01c",
   "metadata": {},
   "source": [
    "La gráfica de la primera semana de octubre es la siguiente:"
   ]
  },
  {
   "cell_type": "code",
   "execution_count": 11,
   "id": "658fefb1",
   "metadata": {},
   "outputs": [
    {
     "data": {
      "image/png": "[encoded data removed]",
      "text/plain": [
       "<Figure size 720x360 with 1 Axes>"
      ]
     },
     "metadata": {
      "needs_background": "light"
     },
     "output_type": "display_data"
    }
   ],
   "source": [
    "import matplotlib.pyplot as plt\n",
    "fig=plt.figure(figsize=(10,5))\n",
    "plt.plot(df_mon_to_fri.index[:24*5], df_mon_to_fri[:24*5])\n",
    "plt.show()"
   ]
  },
  {
   "cell_type": "markdown",
   "id": "c51a9e9d",
   "metadata": {},
   "source": [
    "Los datos empiezan a contar una historia. Para cada día ocurre un primer pico en en las mañanas, posiblemente sea gente que va a trabajar. Hay otro pico al rededor de las 2pm, que suele ser la hora de la comida y el descanso. Por último, la mayor cantidad de viajes ocurre a partir de las 6pm, cuando ya vamos de regreso a casa y alguno que otro sale a pasear en bici en la noche (como yo). Este patrón se repite con cierta regularidad cada 24 horas. Es nuestro trabajo como científicos de datos capturar esa historia en un modelo estadístico, que es el objetivo de la siguiente sección."
   ]
  },
  {
   "cell_type": "markdown",
   "id": "9aae515f",
   "metadata": {},
   "source": [
    "## Modelos para series de tiempo"
   ]
  },
  {
   "cell_type": "markdown",
   "id": "7ef651f5",
   "metadata": {},
   "source": [
    "En Python existe una implementación del SARIMA en el módulo statsmodels. Este módulo posee ademas clases y funciones para la estimación de diferentes modelos estadísticos.\n",
    "\n",
    "Esta familia de modelos suele denotarse como SARIMA(p,d,q)(P,D,Q)[m]. Los términos (p,d,q) se refieren a los términos autoregresivos, integrados y de media móvil respectivamente. Los términos (P,D,Q) se refieren a la parte estacional de los mismos términos, con m periodos. En nuestro caso nos interesa una estacionalidad de 24 periodos (horas). El resto de los términos ha sido escogido por ensayo y error (minimizando el AIC). Luego de varias pruebas nos quedamos con la familia SARIMA(2,0,1)x(2,1,0)[24]."
   ]
  },
  {
   "cell_type": "markdown",
   "id": "a86953dd",
   "metadata": {},
   "source": [
    "Para estimar los parámetros y el AIC del modelo utilizamos el siguiente código:"
   ]
  },
  {
   "cell_type": "code",
   "execution_count": 8,
   "id": "a747f369",
   "metadata": {},
   "outputs": [],
   "source": [
    "#!pip install statsmodels"
   ]
  },
  {
   "cell_type": "code",
   "execution_count": 9,
   "id": "09ec98b4",
   "metadata": {},
   "outputs": [
    {
     "name": "stderr",
     "output_type": "stream",
     "text": [
      "d:\\trabajo\\bpc\\venv\\lib\\site-packages\\statsmodels\\compat\\pandas.py:61: FutureWarning: pandas.Int64Index is deprecated and will be removed from pandas in a future version. Use pandas.Index with the appropriate dtype instead.\n",
      "  from pandas import Int64Index as NumericIndex\n",
      "d:\\trabajo\\bpc\\venv\\lib\\site-packages\\statsmodels\\tsa\\base\\tsa_model.py:593: ValueWarning: A date index has been provided, but it has no associated frequency information and so will be ignored when e.g. forecasting.\n",
      "  warnings.warn('A date index has been provided, but it has no'\n",
      "d:\\trabajo\\bpc\\venv\\lib\\site-packages\\statsmodels\\tsa\\base\\tsa_model.py:593: ValueWarning: A date index has been provided, but it has no associated frequency information and so will be ignored when e.g. forecasting.\n",
      "  warnings.warn('A date index has been provided, but it has no'\n"
     ]
    },
    {
     "data": {
      "text/plain": [
       "7113.31534339332"
      ]
     },
     "execution_count": 9,
     "metadata": {},
     "output_type": "execute_result"
    }
   ],
   "source": [
    "from statsmodels.tsa.statespace.sarimax import SARIMAX\n",
    "\n",
    "# definir conjunto de datos\n",
    "x = df_mon_to_fri\n",
    "\n",
    "# instanciar modelo\n",
    "sarima_model = SARIMAX(x, order=(2,0,1), seasonal_order=(2, 1, 0, 24))\n",
    "\n",
    "# ajustar modelo\n",
    "results = sarima_model.fit()\n",
    "\n",
    "# mirar el AIC\n",
    "results.aic"
   ]
  },
  {
   "cell_type": "code",
   "execution_count": 34,
   "id": "65b3304a",
   "metadata": {},
   "outputs": [
    {
     "data": {
      "text/plain": [
       "6570.040512894213"
      ]
     },
     "execution_count": 34,
     "metadata": {},
     "output_type": "execute_result"
    }
   ],
   "source": [
    "2 * len(results.params) + len(x) * np.log(sum(results.resid ** 2) / len(x))"
   ]
  },
  {
   "cell_type": "markdown",
   "id": "6d3934ed",
   "metadata": {},
   "source": [
    "El criterio de información de Akaike (AIC) es una medida de la calidad relativa de un modelo estadístico, para un conjunto dado de datos. Como tal, el AIC proporciona un medio para la selección del modelo.\n",
    "\n",
    "AIC maneja un trade-off entre la bondad de ajuste del modelo y la complejidad del modelo. Se basa en la entropía de información: se ofrece una estimación relativa de la información perdida cuando se utiliza un modelo determinado para representar el proceso que genera los datos.\n",
    "\n",
    "AIC no proporciona una prueba de un modelo en el sentido de probar una hipótesis nula, es decir AIC no puede decir nada acerca de la calidad del modelo en un sentido absoluto. Si todos los modelos candidatos encajan mal, AIC no dará ningún aviso de ello."
   ]
  },
  {
   "cell_type": "markdown",
   "id": "8101b3e3",
   "metadata": {},
   "source": [
    "Ahora podemos calcular los pronósticos para los siguientes días de la semana."
   ]
  },
  {
   "cell_type": "markdown",
   "id": "2a3ca3f4",
   "metadata": {},
   "source": [
    "## Pronósticos"
   ]
  },
  {
   "cell_type": "markdown",
   "id": "0a6abde4",
   "metadata": {},
   "source": [
    "Para observar los pronósticos generamos una gráfica con la estimación puntual y de intervalos para el resto de la semana. Como el 31 de octubre de 2018 fue miércoles, se presentan las estimaciones para los primeros dos días de noviembre, jueves y viernes. De esta forma se puede apreciar como el modelo captura el patrón del comportamiento de los viajes en bici."
   ]
  },
  {
   "cell_type": "code",
   "execution_count": 16,
   "id": "0a04b021",
   "metadata": {},
   "outputs": [
    {
     "name": "stderr",
     "output_type": "stream",
     "text": [
      "d:\\trabajo\\bpc\\venv\\lib\\site-packages\\statsmodels\\tsa\\base\\tsa_model.py:834: ValueWarning: No supported index is available. Prediction results will be given with an integer index beginning at `start`.\n",
      "  return get_prediction_index(\n",
      "d:\\trabajo\\bpc\\venv\\lib\\site-packages\\statsmodels\\tsa\\base\\tsa_model.py:834: ValueWarning: No supported index is available. Prediction results will be given with an integer index beginning at `start`.\n",
      "  return get_prediction_index(\n"
     ]
    },
    {
     "data": {
      "image/png": "[encoded data removed]",
      "text/plain": [
       "<Figure size 432x288 with 1 Axes>"
      ]
     },
     "metadata": {
      "needs_background": "light"
     },
     "output_type": "display_data"
    }
   ],
   "source": [
    "# tomar de datos originales dias 29-oct, 30-oct, y 31-oct\n",
    "df_29_31 = df_mon_to_fri.loc['2018-10-29':'2018-10-31']\n",
    "df_29_31.plot()\n",
    "\n",
    "# agregar bandas de confianza\n",
    "pred_1_2_conf = results.get_forecast(steps=24*2).conf_int()\n",
    "pred_1_2_conf.index = pd.date_range(start='11/1/2018', end='11/3/2018', freq='H')[:-1]\n",
    "x = pd.date_range(start='11/1/2018', end='11/3/2018', freq='H')[:-1]\n",
    "y1 = pred_1_2_conf['lower Bici']\n",
    "y2 = pred_1_2_conf['upper Bici']\n",
    "plt.fill_between(x, y1, y2, alpha=0.6)\n",
    "\n",
    "# predecir para 1-nov y 2-nov\n",
    "pred_1_2 = results.get_forecast(steps=24*2).predicted_mean\n",
    "pred_1_2.index = pd.date_range(start='11/1/2018', end='11/3/2018', freq='H')[:-1]\n",
    "pred_1_2.plot()\n",
    "\n",
    "# formato de la grafica final\n",
    "plt.title('Pronóstico de viajes')\n",
    "plt.ylabel('Cantidad de viajes')\n",
    "plt.xlabel('Semana lun-29-oct al vie-02-nov')\n",
    "plt.legend(('Datos originales octubre', 'Pronóstico noviembre'),\n",
    "           loc='lower left')\n",
    "plt.savefig('pronostico.png')\n",
    "plt.show()"
   ]
  },
  {
   "cell_type": "markdown",
   "id": "ed087ee1",
   "metadata": {},
   "source": [
    "## Conclusiones\n",
    "A lo largo de este análisis hemos recorrido distintas etapas del proceso de ciencia de datos. En resumen:\n",
    "\n",
    "- Se descargaron datos públicos del sistema de EcoBici.\n",
    "- Se transformaron entradas de texto en índices temporales.\n",
    "- Se agruparon los datos para obtener a cantidad de viajes por hora y por día de la semana.\n",
    "- Se discutió sobre modelos autoregresivos.\n",
    "- Se ajustó un modelo SARIMA a nuestros datos.\n",
    "- Se pronosticó la cantidad de viajes para los primeros días de noviembre."
   ]
  }
 ],
 "metadata": {
  "kernelspec": {
   "display_name": "Python 3 (ipykernel)",
   "language": "python",
   "name": "python3"
  },
  "language_info": {
   "codemirror_mode": {
    "name": "ipython",
    "version": 3
   },
   "file_extension": ".py",
   "mimetype": "text/x-python",
   "name": "python",
   "nbconvert_exporter": "python",
   "pygments_lexer": "ipython3",
   "version": "3.8.5"
  }
 },
 "nbformat": 4,
 "nbformat_minor": 5
}
